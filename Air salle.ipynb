{
 "cells": [
  {
   "cell_type": "code",
   "execution_count": 1,
   "metadata": {},
   "outputs": [],
   "source": [
    "import math\n",
    "import numpy as np"
   ]
  },
  {
   "cell_type": "markdown",
   "metadata": {},
   "source": [
    "Case air ordi"
   ]
  },
  {
   "cell_type": "code",
   "execution_count": null,
   "metadata": {},
   "outputs": [],
   "source": [
    "def T_air_ordi(Tcd, Tcv, Tcase):\n",
    "    \"\"\"  Float^3 -> Float\n",
    "    rend la température du volume d'air possedant un ordinateur\n",
    "    \"\"\"\n",
    "    C = 1.005\n",
    "    VI = volume case\n",
    "    Vi = VI - (V ordi)\n",
    "    M1 = (1.292*(273.15/Tcv))*V\n",
    "    M2 = (1.292*(273.15/Tcd))*Vi\n",
    "    Ma = (1.292*(273.15/Tcase))*Vi\n",
    "    S = surface\n",
    "    k =\n",
    "    dx =\n",
    "    dt =\n",
    "    \n",
    "    Tfcv = (math.exp((-dt)/(C*M1))/(C*M1))+Tcv\n",
    "    Tfcd = (((math.exp(dt/S)+1)/k*S)*dx)+Tcd\n",
    "    \n",
    "    TF = (Ma*C*Tcase+M1*C*Tfcv+M2*C*Tfcd)/(C*(Ma+M1+M2))\n",
    "    return TF"
   ]
  },
  {
   "cell_type": "code",
   "execution_count": null,
   "metadata": {},
   "outputs": [],
   "source": [
    "TCd =\n",
    "TCv =\n",
    "TAmb =\n",
    "\n",
    "T_air_ordi()"
   ]
  },
  {
   "cell_type": "markdown",
   "metadata": {},
   "source": [
    "transfert case/case"
   ]
  },
  {
   "cell_type": "code",
   "execution_count": null,
   "metadata": {},
   "outputs": [],
   "source": [
    "def T_new_case(Tcase1, Tcase2):\n",
    "    \"\"\" Float*Float -> Float\n",
    "    rend température air d'une case après tranfert de température\n",
    "    \"\"\"\n",
    "    \n",
    "    C = 1.005\n",
    "    VI = volume case\n",
    "    M1 = (1.292*(273.15/Tcv))*VI\n",
    "    Ma = (1.292*(273.15/Tcase))*VI\n",
    "    dt =\n",
    "    \n",
    "    Tf = (math.exp((-dt)/(C*M1))/(C*M1))+Tcase1\n",
    "    \n",
    "    TF = (Ma*C*Tcase2+M1*C*Tf)/(C*(Ma+M1))\n",
    "    \n",
    "    return TF"
   ]
  },
  {
   "cell_type": "markdown",
   "metadata": {},
   "source": [
    "Modèlisation matrice sans ventilation"
   ]
  },
  {
   "cell_type": "code",
   "execution_count": null,
   "metadata": {},
   "outputs": [],
   "source": [
    "def modèle(T_air_ordi, T_new_case, Tamb):\n",
    "    \"\"\"Float*Float -> Float \n",
    "    rend le modèle de la salle\n",
    "    \"\"\"\n",
    "    \n",
    "    MS = { 10:Tamb, 11:Tamb, 12:Tamb, 13:Tamb, 14:Tamb, 15:Tamb, 16:Tamb, 17:Tamb, 18:Tamb, 19:Tamb,\n",
    "    20:Tamb, 21:Tamb, 22:Tamb, 23:Tamb, 24:Tamb, 25:Tamb, 26:Tamb, 27:Tamb, 28:Tamb, 29:Tamb\n",
    "     30:Tamb, 31:Tamb, 32:Tamb, 33:Tamb, 34:Tamb, 35:Tamb, 36:Tamb, 37:Tamb, 38:Tamb, 39:Tamb\n",
    "     40:Tamb, 41:Tamb, 42:Tamb, 43:Tamb, 44:Tamb, 45:Tamb, 46:Tamb, 47:Tamb, 48:Tamb, 49:Tamb\n",
    "     50:Tamb, 51:Tamb, 52:Tamb, 53:Tamb, 54:Tamb, 55:Tamb, 56:Tamb, 57:Tamb, 58:Tamb, 59:Tamb}\n",
    "    \n",
    "    MS[34] = O\n",
    "    If 0 in MS :\n",
    "        MS[34] = T_air_ordi\n",
    "        i = 34\n",
    "        For i>10 and i<59 :\n",
    "            MS[i+10] = MS[i-10] = T_new_case\n",
    "            MS[i+1] = MS[i-1] = T_new_case\n",
    "    return array([(MS[10])])\n",
    "    \n",
    "    \n",
    "    "
   ]
  }
 ],
 "metadata": {
  "kernelspec": {
   "display_name": "Python 3",
   "language": "python",
   "name": "python3"
  },
  "language_info": {
   "codemirror_mode": {
    "name": "ipython",
    "version": 3
   },
   "file_extension": ".py",
   "mimetype": "text/x-python",
   "name": "python",
   "nbconvert_exporter": "python",
   "pygments_lexer": "ipython3",
   "version": "3.5.3"
  }
 },
 "nbformat": 4,
 "nbformat_minor": 2
}
