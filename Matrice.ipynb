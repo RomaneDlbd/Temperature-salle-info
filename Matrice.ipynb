{
 "cells": [
  {
   "cell_type": "code",
   "execution_count": 1,
   "metadata": {},
   "outputs": [
    {
     "data": {
      "text/plain": [
       "<Figure size 8000x4000 with 3 Axes>"
      ]
     },
     "metadata": {},
     "output_type": "display_data"
    }
   ],
   "source": [
    "import matplotlib.pyplot as plt\n",
    "import numpy as np\n",
    "\n",
    "MatriceSalle1 = { 10:0.0, 11:0.0, 12:0.30, 13:0.31, 14:0.0, 15:0.0, 16:0.0, 17:0.0, 18:0.0, 19:0.0}\n",
    "MatriceSalle2 = { 20:0.0, 21:0.0, 22:0.0, 23:0.0, 24:0.35, 25:0.0, 26:0.0, 27:0.0, 28:0.0, 29:0.0}\n",
    "MatriceSalle3 = { 30:0.0, 31:0.0, 32:0.0, 33:0.0, 34:0.0, 35:0.0, 36:0.0, 37:0.0, 38:0.0, 39:0.0}\n",
    "MatriceSalle4 = { 40:0.0, 41:0.0, 42:0.0, 43:0.0, 44:0.75, 45:0.0, 46:0.0, 47:0.0, 48:0.0, 49:0.0}\n",
    "MatriceSalle5 = { 50:0.0, 51:0.0, 52:0.0, 53:0.0, 54:0.0, 55:0.0, 56:0.0, 57:0.0, 58:0.0, 59:0.0}\n",
    "\n",
    "\n",
    "def Matrice(m1,m2,m3,m4,m5):\n",
    "    s=10\n",
    "    liste1=[]\n",
    "    liste2=[]\n",
    "    liste3=[]\n",
    "    liste4=[]\n",
    "    liste5=[]\n",
    "        \n",
    "    for i in range(1,6):\n",
    "        for j in range(0,10):\n",
    "            id =  s + j\n",
    "            if i == 1:\n",
    "                liste1.append(m1[id])\n",
    "            if i == 2:\n",
    "                liste2.append(m2[id])\n",
    "            if i == 3:\n",
    "                liste3.append(m3[id])\n",
    "            if i == 4:\n",
    "                liste4.append(m4[id])\n",
    "            if i == 5:\n",
    "                liste5.append(m5[id])\n",
    "                \n",
    "            if j == 9 :\n",
    "                s += 10\n",
    "    Matrice=[]\n",
    "    Matrice.append(liste1)\n",
    "    Matrice.append(liste2)\n",
    "    Matrice.append(liste3)\n",
    "    Matrice.append(liste4)\n",
    "    Matrice.append(liste5)\n",
    "    return(Matrice)\n",
    "\n",
    "Matrice(MatriceSalle1,MatriceSalle2,MatriceSalle3,MatriceSalle4,MatriceSalle5)\n",
    "\n",
    "methods = [None, 'none', 'lanczos']\n",
    "\n",
    "grid = Matrice(MatriceSalle1,MatriceSalle2,MatriceSalle3,MatriceSalle4,MatriceSalle5)\n",
    "\n",
    "fig, axs = plt.subplots(nrows=3, ncols=1, figsize=(80, 40),\n",
    "                        subplot_kw={'xticks': [], 'yticks': []})\n",
    "\n",
    "fig.subplots_adjust(left=0.03, right=0.97, hspace=0.3, wspace=0.05)\n",
    "\n",
    "for ax, interp_method in zip(axs.flat, methods):\n",
    "    ax.imshow(grid, interpolation=interp_method, cmap='viridis')\n",
    "    ax.set_title(str(interp_method))\n",
    "\n",
    "plt.tight_layout()\n",
    "plt.show()\n",
    "\n"
   ]
  },
  {
   "cell_type": "code",
   "execution_count": null,
   "metadata": {},
   "outputs": [],
   "source": []
  }
 ],
 "metadata": {
  "kernelspec": {
   "display_name": "Python 3",
   "language": "python",
   "name": "python3"
  },
  "language_info": {
   "codemirror_mode": {
    "name": "ipython",
    "version": 3
   },
   "file_extension": ".py",
   "mimetype": "text/x-python",
   "name": "python",
   "nbconvert_exporter": "python",
   "pygments_lexer": "ipython3",
   "version": "3.5.3"
  }
 },
 "nbformat": 4,
 "nbformat_minor": 2
}
