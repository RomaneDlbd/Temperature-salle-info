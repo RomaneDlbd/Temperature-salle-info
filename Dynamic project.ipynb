{
 "cells": [
  {
   "cell_type": "code",
   "execution_count": 1,
   "metadata": {},
   "outputs": [],
   "source": [
    "import numpy as np\n",
    "import matplotlib.pyplot as plt\n",
    "import math"
   ]
  },
  {
   "cell_type": "markdown",
   "metadata": {},
   "source": [
    "Dynamique de température d'une salle informatique"
   ]
  },
  {
   "cell_type": "markdown",
   "metadata": {},
   "source": [
    "I) modèle de l'ordinateur"
   ]
  },
  {
   "cell_type": "markdown",
   "metadata": {},
   "source": [
    "Le but de cette partie est de modéliser la chaleure dégagée par un ordinateur. On suppose ici que le pc possède une unité centrale dont on précisera les dimenssions. De plus, les composants et leurs capacités sont également choisis au préalable. L'unité centrale ainsi que tout les composants sont considéré comme en acier. Enfin on posera que les épaisseur des boitier des composants est la même pour tous et de 5*10^(-3) m"
   ]
  },
  {
   "cell_type": "markdown",
   "metadata": {},
   "source": [
    "Tout d'abord, commençons par trouver les variation de températures de l'air dans l'unité centrale qui est initialement à température ambiante.\n",
    "On utilisera la formule T(t) = T(composant) + (T0 - T(composant))*exp((-h*S/(m*Cp))*t) où h est le coefficient d'échange, S est la surface de contacte, m est la masse et Cp est la chaleur massique à pression constante. On supposera de plus qu'une homogénéisation de l'air se fait en 10 secondes."
   ]
  },
  {
   "cell_type": "code",
   "execution_count": 69,
   "metadata": {},
   "outputs": [],
   "source": [
    "# \"a\", alimentation\n",
    "# \"c\", carte graphique\n",
    "# \"p\", processeur\n",
    "# \"d\", disque dur\n",
    "# \"r\", RAM\n",
    "# \"cm\", carte mère\n",
    "\n",
    "Vu = 0.024276 # volume de l'unité centrale en m^3\n",
    "\n",
    "Tamb = 291.15 # température ambiante en Kelvin\n",
    "\n",
    "T = {\"a\":328.15,\n",
    "     \"d\":296.15,\n",
    "     \"r\":291.65,\n",
    "     \"cm\":307.15} # températures des composants en K\n",
    "\n",
    "S = {\"a\":0.0425,\n",
    "     \"d\":0.0356,\n",
    "     \"r\":0.01115,\n",
    "     \"cm\":0.0576} # surfaces de contactes composants/air en m^2\n",
    "\n",
    "M = {\"a\":3.62,\n",
    "     \"c\":0.591,\n",
    "     \"p\":0.023,\n",
    "     \"d\":0.73,\n",
    "     \"r\":0.12,\n",
    "     \"cm\":0.56} # masses composants en Kg\n",
    "\n",
    "C = {\"a\":435*M[\"a\"],\n",
    "     \"c\":435*M[\"c\"],\n",
    "     \"p\":435*M[\"p\"],\n",
    "     \"d\":435*M[\"d\"],\n",
    "     \"r\":435*M[\"r\"],\n",
    "     \"cm\":435*M[\"cm\"]} # capacités calorifiques composants = masse*chaleur massique acier à pression constante en J/K\n",
    "\n",
    "E = {\"a\":T[\"a\"]*C[\"a\"],\n",
    "     \"d\":T[\"d\"]*C[\"d\"],\n",
    "     \"r\":T[\"r\"]*C[\"r\"],\n",
    "     \"cm\":T[\"cm\"]*C[\"cm\"]} # énergie des composants = température*capacité calorifiques en J\n",
    "\n",
    "Mair = 1.225*(Vu-0.002412) # ro*Vair = ro*(V(unité centrale) - V(composants)) en kg\n",
    "\n",
    "Cpair = 1005 # chaleur massique de l'air à pression constante en J/(kg*K)\n",
    "\n",
    "Tf = (T[\"a\"]+T[\"d\"]+T[\"r\"]+T[\"cm\"])/len(T) # température finale de l'air dans l'unité centrale en K\n",
    "\n",
    "tmax = 30"
   ]
  },
  {
   "cell_type": "code",
   "execution_count": 70,
   "metadata": {},
   "outputs": [
    {
     "data": {
      "text/plain": [
       "305.775"
      ]
     },
     "execution_count": 70,
     "metadata": {},
     "output_type": "execute_result"
    }
   ],
   "source": [
    "Tf"
   ]
  },
  {
   "cell_type": "code",
   "execution_count": 73,
   "metadata": {},
   "outputs": [],
   "source": [
    "def temp_air(T, S, Tamb, Mair, Cpair, t):\n",
    "    \"\"\"\n",
    "    dict[str:Number]^2*Number^4*int -> Number\n",
    "    rend la température de l'air de l'unité centrale à un instant t\n",
    "    \"\"\"\n",
    "    T0 = Tamb\n",
    "    h = {\"a\":(math.fabs(Tf-Tamb)*Cpair*Mair)/(S[\"a\"]*math.fabs(T0-T[\"a\"])*2),\n",
    "         \"d\":(math.fabs(Tf-Tamb)*Cpair*Mair)/(S[\"d\"]*math.fabs(T0-T[\"d\"])*2),\n",
    "         \"r\":(math.fabs(Tf-Tamb)*Cpair*Mair)/(S[\"r\"]*math.fabs(T0-T[\"r\"])*2),\n",
    "         \"cm\":(math.fabs(Tf-Tamb)*Cpair*Mair)/(S[\"cm\"]*math.fabs(T0-T[\"cm\"])*2)}\n",
    "    s = 0\n",
    "    for i in range(0,t+1,2) :\n",
    "        for j in S :\n",
    "            s += math.exp((-h[j]*S[j]*i)/(Mair*Cpair))*(Tamb-T[j])+T[j]\n",
    "            h[j] = (math.fabs(Tf-Tamb)*Cpair*Mair)/(S[j]*math.fabs(T0-T[j])*2)\n",
    "        T0 = s/len(S)\n",
    "        s = 0\n",
    "    return T0"
   ]
  },
  {
   "cell_type": "code",
   "execution_count": 74,
   "metadata": {},
   "outputs": [
    {
     "data": {
      "text/plain": [
       "291.15"
      ]
     },
     "execution_count": 74,
     "metadata": {},
     "output_type": "execute_result"
    }
   ],
   "source": [
    "temp_air(T, S, Tamb, Mair, Cpair,0)"
   ]
  },
  {
   "cell_type": "code",
   "execution_count": 75,
   "metadata": {},
   "outputs": [],
   "source": [
    "def temp_air_tout_instant(T, S, Tamb, Mair, Cpair, tmax) :\n",
    "    \"\"\"\n",
    "    dict[str:Number]^2*Number^5 -> Number\n",
    "    rend la température de l'air de l'unité centrale pour tout instant t\n",
    "    \"\"\"\n",
    "    TT = []\n",
    "    for i in range(0,tmax+1,2) :\n",
    "        TT.append((i,temp_air(T, S, Tamb, Mair, Cpair, i)))\n",
    "    return TT"
   ]
  },
  {
   "cell_type": "code",
   "execution_count": 76,
   "metadata": {},
   "outputs": [
    {
     "data": {
      "text/plain": [
       "[(0, 291.15),\n",
       " (2, 297.8744935986167),\n",
       " (4, 300.9327458790015),\n",
       " (6, 303.56806200870193),\n",
       " (8, 304.69628151304914),\n",
       " (10, 305.3023548921189),\n",
       " (12, 305.5553910251458),\n",
       " (14, 305.6701598584791),\n",
       " (16, 305.72281585965266),\n",
       " (18, 305.7484886228026),\n",
       " (20, 305.7613794786322),\n",
       " (22, 305.76796322590815),\n",
       " (24, 305.77135369136795),\n",
       " (26, 305.77310742390375),\n",
       " (28, 305.77401676119814),\n",
       " (30, 305.77448891379095)]"
      ]
     },
     "execution_count": 76,
     "metadata": {},
     "output_type": "execute_result"
    }
   ],
   "source": [
    "temp_air_tout_instant(T, S, Tamb, Mair, Cpair, tmax)"
   ]
  },
  {
   "cell_type": "code",
   "execution_count": 77,
   "metadata": {},
   "outputs": [],
   "source": [
    "def list_temps(T, S, Tamb, Mair, Cpair, tmax):\n",
    "    \"\"\"\n",
    "    \"\"\"\n",
    "    L = []\n",
    "    for i in temp_air_tout_instant(T, S, Tamb, Mair, Cpair, tmax) :\n",
    "        a,b = i\n",
    "        L.append(a)\n",
    "    return L\n",
    "\n",
    "def list_T(T, S, Tamb, Mair, Cpair, tmax):\n",
    "    \"\"\"\n",
    "    \"\"\"\n",
    "    L = []\n",
    "    for i in temp_air_tout_instant(T, S, Tamb, Mair, Cpair, tmax) :\n",
    "        a,b = i\n",
    "        L.append(b)\n",
    "    return L\n",
    "L1 = list_temps(T, S, Tamb, Mair, Cpair, tmax)\n",
    "L2 = list_T(T, S, Tamb, Mair, Cpair, tmax)"
   ]
  },
  {
   "cell_type": "code",
   "execution_count": 78,
   "metadata": {
    "scrolled": true
   },
   "outputs": [
    {
     "data": {
      "image/png": "[encoded data removed]",
      "text/plain": [
       "<Figure size 432x288 with 1 Axes>"
      ]
     },
     "metadata": {
      "needs_background": "light"
     },
     "output_type": "display_data"
    }
   ],
   "source": [
    "def plot_Temp(L1,L2):\n",
    "    '''\n",
    "    rend la courbe de l'évolution de la température au cours du temps\n",
    "    '''\n",
    "    plt.figure()\n",
    "    plt.plot(L1,L2)\n",
    "    plt.ylabel(\"Température (K)\")\n",
    "    plt.xlabel(\"Temps (s)\")\n",
    "    plt.show()\n",
    "    return\n",
    "\n",
    "plot_Temp(L1,L2)"
   ]
  },
  {
   "cell_type": "markdown",
   "metadata": {},
   "source": [
    "On remarque qu'avec les valeurs de températures qui montre une utilisation assez poussé de l'ordinateur, la température de l'air a l'intérieur de celui-ci croit très rapidement."
   ]
  },
  {
   "cell_type": "markdown",
   "metadata": {},
   "source": [
    "A présent, on va faire évoluer le modèle en posant que le pc vient de s'allumer et que la température des composants évolue au cours du temps. pour celà on utilise un modèle vu en physique au S1 où l'on étudie la température d'un processeur lorsqu'il est refroidi ou non. On peut alors appliquer ce modèle aux autres composants qui chauffent car ils fonctionnent de la même manière. Pour celà nous aurons besoin de la puissance apporté a chaque composants (P), de la température fournie par le ventilateur que l'on supose constante et égale à 291.15 K, de la resistence thermique (R) du dissipateur qui est supposé le même pour tout les composants, ainsi que de la capacité calorifique du processeur c'est à dire de l'acier, puisque les composants sont posé comme étant en acier."
   ]
  },
  {
   "cell_type": "code",
   "execution_count": 83,
   "metadata": {
    "scrolled": true
   },
   "outputs": [],
   "source": [
    "# \"a\", alimentation\n",
    "# \"c\", carte graphique\n",
    "# \"p\", processeur\n",
    "# \"d\", disque dur\n",
    "# \"r\", RAM\n",
    "# \"cm\", carte mère\n",
    " \n",
    "Vu = 0.024 # volume de l'unité centrale en m^3\n",
    "\n",
    "Vair = Vu - 0.002412 # volume air = volume unité centrale - volume composants\n",
    "\n",
    "Tamb = 291.15 # température ambiante en Kelvin\n",
    "\n",
    "Ralu = 0.3 # résistence thermique de l'aluminium en K/W\n",
    "\n",
    "Rair = 0.8 # résistence thermique de l'air en K/W\n",
    "\n",
    "Cpalu = 897 # chaleur massique de l'aluminium à pression constante en J/(kg*K)\n",
    "\n",
    "M = {\"a\":3.62,\n",
    "     \"c\":0.023,\n",
    "     \"p\":0.023,\n",
    "     \"d\":0.73,\n",
    "     \"r\":0.12,\n",
    "     \"cm\":0.56} # masses composants en Kg\n",
    "\n",
    "C = {\"a\":435*M[\"a\"],\n",
    "     \"c\":435*M[\"c\"],\n",
    "     \"p\":435*M[\"p\"],\n",
    "     \"d\":435*M[\"d\"],\n",
    "     \"r\":435*M[\"r\"],\n",
    "     \"cm\":435*M[\"cm\"]} # capacités calorifiques composants = masse*chaleur massique acier à pression constante en J/K\n",
    "\n",
    "Malu = {\"p\":0.15,\n",
    "        \"a\":0.13,\n",
    "        \"c\":0.084} # masse des dissipateur en kg\n",
    "\n",
    "Calu = {\"p\":897*Malu[\"p\"],\n",
    "        \"a\":897*Malu[\"a\"],\n",
    "        \"c\":897*Malu[\"c\"]} # capacité calorifique des dissipateur\n",
    "\n",
    "Mvent = {\"p\":1.225*7.41*10**(-3)*2,\n",
    "        \"a\":1.225*9.91*10**(-3)*2,\n",
    "        \"c\":1.225*8.64*10**(-3)*2} # masse de l'air brassé par les ventilateurs en kg\n",
    "\n",
    "Scomp_air = {\"a\":0.0425,\n",
    "     \"d\":0.0356,\n",
    "     \"r\":0.01115,\n",
    "     \"cm\":0.0576} # surfaces de contactes composants/air en m^2\n",
    "\n",
    "Scomp_dis = {\"p\":0.0025,\n",
    "            \"a\":0.00345,\n",
    "            \"c\":0.0048} # surfaces de contactes composants/dissipateurs en m^2\n",
    "\n",
    "Sdis_vent = {\"p\":0.04005,\n",
    "            \"a\":0.2763,\n",
    "            \"c\":0.03936} # surfaces de contactes dissipateurs/air en m^2\n",
    "\n",
    "\n",
    "\n",
    "Mair = 1.225*(Vu-0.002412) # ro*Vair = ro*(V(unité centrale) - V(composants)) en kg\n",
    "\n",
    "Cpair = 1005 # chaleur massique de l'air à pression constante en J/(kg*K)\n",
    "\n",
    "tmax = 12 # temps en s"
   ]
  },
  {
   "cell_type": "code",
   "execution_count": 84,
   "metadata": {},
   "outputs": [],
   "source": [
    "def temp_comp_dis(Scomp_dis, Scomp_air, Sdis_vent, Mvent, Malu, C, Ralu, Rair, Vair, Tamb, Cpalu, t) :\n",
    "    \"\"\"\n",
    "    dict[str:Number]^6*Number^6 -> tuple[dict[str:Number],dict[str:number]]\n",
    "    rend la température des composants ainsi que celle des dissipateurs à un instant t\n",
    "    \"\"\"\n",
    "    \n",
    "    P = {\"a\":np.random.randint(80, 100 + 1),\n",
    "     \"c\":np.random.randint(75, 95 + 1),\n",
    "     \"p\":np.random.randint(45, 60 + 1),\n",
    "     \"d\":np.random.randint(8, 15 + 1),\n",
    "     \"r\":1,\n",
    "     \"cm\":np.random.randint(20, 35 + 1)} # puissance apportés aux composants en W\n",
    "    \n",
    "    if t == 0 :\n",
    "        return ({\"a\":Tamb,\n",
    "     \"c\":Tamb,\n",
    "     \"p\":Tamb,\n",
    "     \"d\":Tamb,\n",
    "     \"r\":Tamb,\n",
    "     \"cm\":Tamb}, {\"p\":Tamb,\n",
    "            \"a\":Tamb,\n",
    "            \"c\":Tamb})\n",
    "    else :\n",
    "        Keys = [\"d\", \"r\", \"cm\"]\n",
    "        \n",
    "        Tair = Tamb\n",
    "        \n",
    "        hcomp_dis = {\"p\":0,\n",
    "            \"a\":0,\n",
    "            \"c\":0}\n",
    "        \n",
    "        Tdis = {\"p\":Tamb,\n",
    "            \"a\":Tamb,\n",
    "            \"c\":Tamb}\n",
    "        \n",
    "        Tcomp = {\"a\":Tamb,\n",
    "     \"c\":Tamb,\n",
    "     \"p\":Tamb,\n",
    "     \"d\":Tamb,\n",
    "     \"r\":Tamb,\n",
    "     \"cm\":Tamb}\n",
    "        \n",
    "        Tvent = {\"p\":Tair,\n",
    "            \"a\":Tair,\n",
    "            \"c\":Tair}\n",
    "        \n",
    "        chaleur = {\"p\":0,\n",
    "            \"a\":0,\n",
    "            \"c\":0}\n",
    "        \n",
    "        Tfalu = {\"p\":math.exp(-((60/C[\"p\"])+(Tvent[\"p\"]/(Ralu*C[\"p\"])))*90)*(-60*Ralu-Tvent[\"p\"])+60*Ralu+Tvent[\"p\"],\n",
    "        \"a\":math.exp(-((100/C[\"a\"])+(Tvent[\"a\"]/(Ralu*C[\"a\"])))*90)*(-100*Ralu-Tvent[\"a\"])+100*Ralu+Tvent[\"a\"],\n",
    "        \"c\":math.exp(-((90/C[\"c\"])+(Tvent[\"c\"]/(Ralu*C[\"c\"])))*90)*(-95*Ralu-Tvent[\"c\"])+95*Ralu+Tvent[\"c\"]}\n",
    "        \n",
    "        hdis_vent = {\"p\":0,\n",
    "            \"a\":0,\n",
    "            \"c\":0}\n",
    "        \n",
    "        hvent_dis = {\"p\":0,\n",
    "            \"a\":0,\n",
    "            \"c\":0}\n",
    "        \n",
    "        Pdis = {\"p\":0,\n",
    "            \"a\":0,\n",
    "            \"c\":0}\n",
    "        \n",
    "        for i in range(1,t+1,2) :\n",
    "            for j in Keys :\n",
    "                Tcomp[j] = math.exp(-((P[j]/C[j])+(Tair/(Rair*C[j])))*i)*(-P[j]*Rair)+P[j]*Rair+Tair\n",
    "            for k in Scomp_dis :\n",
    "                if (Tcomp[k] <= Tfalu[k]) or (Tcomp[k] == Tdis[k] == Tamb) :\n",
    "                    Tcomp[k] = math.exp(-((P[k]/C[k])+(Tair/(Ralu*C[k])))*i)*(-P[k]*Ralu)+P[k]*Ralu+Tair\n",
    "                    \n",
    "                    hcomp_dis[k] = (math.fabs(Tfalu[k]-Tamb)*Cpalu*Malu[k])/(Scomp_dis[k]*math.fabs(Tdis[k]-Tcomp[k])*2)\n",
    "                    \n",
    "                    Tdis[k] = math.exp((-hcomp_dis[k]*Scomp_dis[k]*i)/(Malu[k]*Cpalu))*(Tamb-Tcomp[k])+Tcomp[k]\n",
    "                    \n",
    "                    hdis_vent[k] = (math.fabs(Tfalu[k]-Tamb)*Cpair*Mvent[k])/(Sdis_vent[k]*math.fabs(Tair-Tdis[k])*2)\n",
    "                    \n",
    "                    Tvent[k] = math.exp((-hdis_vent[k]*Sdis_vent[k]*i)/(Mvent[k]*Cpair))*(Tamb-Tdis[k])+Tdis[k]\n",
    "                    \n",
    "                    chaleur[k] = Mvent[k]*Cpair*math.fabs(Tair-Tvent[k])\n",
    "                    \n",
    "                    Tdis[k] = Tdis[k] - chaleur[k]/(Malu[k]*Cpalu)\n",
    "                else :\n",
    "                    Tcomp[k] = (P[k]/C[k])*i+Tfalu[k]\n",
    "                        \n",
    "                    Tdis[k] = Tcomp[k]\n",
    "                        \n",
    "                    Tvent[k] = Tdis[k]\n",
    "                    \n",
    "            Tfalu = {\"p\":math.exp(-((60/C[\"p\"])+(Tair/(Ralu*C[\"p\"])))*90)*(-60*Ralu-Tair)+60*Ralu+Tair,\n",
    "        \"a\":math.exp(-((100/C[\"a\"])+(Tair/(Ralu*C[\"a\"])))*90)*(-100*Ralu-Tair)+100*Ralu+Tair,\n",
    "        \"c\":math.exp(-((95/C[\"c\"])+(Tair/(Ralu*C[\"c\"])))*90)*(-95*Ralu-Tair)+95*Ralu+Tair}\n",
    "            \n",
    "            Tair = ((Vair-7.41*10**(-3)*2-9.91*10**(-3)*2-8.64*10**(-3)*2)*temp_air(Tcomp, Scomp_air, Tamb, Mair, Cpair, i)+7.41*10**(-3)*2*Tvent[\"p\"]+9.91*10**(-3)*2*Tvent[\"a\"]+8.64*10**(-3)*2*Tvent[\"c\"])/Vair\n",
    "            \n",
    "    return (Tcomp, Tdis)"
   ]
  },
  {
   "cell_type": "code",
   "execution_count": 85,
   "metadata": {},
   "outputs": [
    {
     "data": {
      "text/plain": [
       "({'a': 602.8491413577343,\n",
       "  'c': 603.44942516419,\n",
       "  'p': 593.2494251641899,\n",
       "  'd': 584.049425155105,\n",
       "  'r': 576.0494251641899,\n",
       "  'cm': 600.049425164167},\n",
       " {'p': 584.8187969300334, 'a': 592.9494308613384, 'c': 591.36318247706})"
      ]
     },
     "execution_count": 85,
     "metadata": {},
     "output_type": "execute_result"
    }
   ],
   "source": [
    "temp_comp_dis(Scomp_dis, Scomp_air, Sdis_vent, Mvent, Malu, C, Ralu, Rair, Vair, Tamb, Cpalu, 10)"
   ]
  },
  {
   "cell_type": "code",
   "execution_count": 86,
   "metadata": {},
   "outputs": [],
   "source": [
    "def temp_comp_dis_tout_instant(Scomp_dis, Scomp_air, Sdis_vent, Mvent, Malu, C, Ralu, Rair, Vair, Tamb, Cpalu, tmax) :\n",
    "    \"\"\"\n",
    "    dict[str:Number]^6*Number^5 -> tuple[dict[str:Number],dict[str:number]]\n",
    "    rend la température des composants ainsi que celle des dissipateurs à un instant t\n",
    "    \"\"\"\n",
    "        \n",
    "    TT = []\n",
    "    for i in range(0,tmax+1,2) :\n",
    "        a,b = temp_comp_dis(Scomp_dis, Scomp_air, Sdis_vent, Mvent, Malu, C, Ralu, Rair, Vair, Tamb, Cpalu, i)\n",
    "        TT.append((i,a))\n",
    "    return TT"
   ]
  },
  {
   "cell_type": "code",
   "execution_count": 87,
   "metadata": {},
   "outputs": [
    {
     "data": {
      "text/plain": [
       "[(0,\n",
       "  {'a': 291.15,\n",
       "   'c': 291.15,\n",
       "   'p': 291.15,\n",
       "   'd': 291.15,\n",
       "   'r': 291.15,\n",
       "   'cm': 291.15}),\n",
       " (2,\n",
       "  {'a': 302.98742550294037,\n",
       "   'c': 315.15,\n",
       "   'p': 307.04999999999995,\n",
       "   'd': 297.81151419496024,\n",
       "   'r': 291.94926400217764,\n",
       "   'cm': 309.0677635712766}),\n",
       " (4,\n",
       "  {'a': 328.76892180373807,\n",
       "   'c': 333.52506140576025,\n",
       "   'p': 322.42506140576023,\n",
       "   'd': 316.79788712868054,\n",
       "   'r': 308.22506140556675,\n",
       "   'cm': 324.9068836889909}),\n",
       " (6,\n",
       "  {'a': 369.2559202082004,\n",
       "   'c': 364.45440660016686,\n",
       "   'p': 355.7544066001668,\n",
       "   'd': 351.84261385340346,\n",
       "   'r': 340.65440660016685,\n",
       "   'cm': 355.85267290767916}),\n",
       " (8,\n",
       "  {'a': 435.8632405242334,\n",
       "   'c': 437.7022413104957,\n",
       "   'p': 426.9022413104957,\n",
       "   'd': 423.00213727723434,\n",
       "   'r': 411.80224131049573,\n",
       "   'cm': 427.802237748113}),\n",
       " (10,\n",
       "  {'a': 587.3083762641027,\n",
       "   'c': 585.5087454165318,\n",
       "   'p': 575.6087454165319,\n",
       "   'd': 572.6087453979519,\n",
       "   'r': 561.4087454165318,\n",
       "   'cm': 581.4087454164865}),\n",
       " (12,\n",
       "  {'a': 919.504971443943,\n",
       "   'c': 915.9049714572207,\n",
       "   'p': 909.3049714572207,\n",
       "   'd': 901.1049714572207,\n",
       "   'r': 893.9049714572207,\n",
       "   'cm': 914.7049714572207})]"
      ]
     },
     "execution_count": 87,
     "metadata": {},
     "output_type": "execute_result"
    }
   ],
   "source": [
    "temp_comp_dis_tout_instant(Scomp_dis, Scomp_air, Sdis_vent, Mvent, Malu, C, Ralu, Rair, Vair, Tamb, Cpalu, tmax)"
   ]
  },
  {
   "cell_type": "code",
   "execution_count": 88,
   "metadata": {},
   "outputs": [],
   "source": [
    "def list_temps2(Scomp_dis, Scomp_air, Sdis_vent, Mvent, Malu, C, Ralu, Rair, Vair, Tamb, Cpalu, tmax):\n",
    "    \"\"\"\n",
    "    \"\"\"\n",
    "    L = []\n",
    "    for i in temp_comp_dis_tout_instant(Scomp_dis, Scomp_air, Sdis_vent, Mvent, Malu, C, Ralu, Rair, Vair, Tamb, Cpalu, tmax) :\n",
    "        a,b = i\n",
    "        L.append(a)\n",
    "    return L\n",
    "\n",
    "def list_T2(Scomp_dis, Scomp_air, Sdis_vent, Mvent, Malu, C, Ralu, Rair, Vair, Tamb, Cpalu, tmax):\n",
    "    \"\"\"\n",
    "    \"\"\"\n",
    "    L = []\n",
    "    for i in temp_comp_dis_tout_instant(Scomp_dis, Scomp_air, Sdis_vent, Mvent, Malu, C, Ralu, Rair, Vair, Tamb, Cpalu, tmax) :\n",
    "        a,b = i\n",
    "        L0 = []\n",
    "        for j in b :\n",
    "            L0.append(b[j])\n",
    "        L.append(L0)\n",
    "    return L\n",
    "L1 = list_temps2(Scomp_dis, Scomp_air, Sdis_vent, Mvent, Malu, C, Ralu, Rair, Vair, Tamb, Cpalu, tmax)\n",
    "L2 = list_T2(Scomp_dis, Scomp_air, Sdis_vent, Mvent, Malu, C, Ralu, Rair, Vair, Tamb, Cpalu, tmax)"
   ]
  },
  {
   "cell_type": "code",
   "execution_count": 89,
   "metadata": {
    "scrolled": false
   },
   "outputs": [
    {
     "data": {
      "image/png": "[encoded data removed]",
      "text/plain": [
       "<Figure size 432x288 with 1 Axes>"
      ]
     },
     "metadata": {
      "needs_background": "light"
     },
     "output_type": "display_data"
    }
   ],
   "source": [
    "def plot_Temp(L1,L2):\n",
    "    plt.figure()\n",
    "    plt.plot(L1,L2)\n",
    "    plt.xlabel(\"Temps en secondes\")\n",
    "    plt.ylabel(\"Température en Kelvin\")\n",
    "    plt.show()\n",
    "    return\n",
    "\n",
    "plot_Temp(L1,L2)"
   ]
  },
  {
   "cell_type": "markdown",
   "metadata": {},
   "source": [
    "La courbe bleu correspond à l'alimentation,\n",
    "La jaune à la carte graphique,\n",
    "La verte au processeur,\n",
    "La marron à la carte mère,\n",
    "La rouge au disque dur,\n",
    "La violette au barette de RAM\n",
    "\n",
    "On remarque que si le pc est isolé, on obteint des valeurs beaucoup trop élevée mais logiques.\n",
    "On va à présent améliorer le modèle en ventilant le pc.\n",
    "\n",
    "Le programe est le même que celui vu précédément mais seul la température de l'air va varier et donc va maintenir les composants a températures correcte."
   ]
  },
  {
   "cell_type": "code",
   "execution_count": 90,
   "metadata": {},
   "outputs": [],
   "source": [
    "Dvent = 0.01747 # débit d'air explusé de lordinateur en m^3/s\n",
    "\n",
    "tmax = 50"
   ]
  },
  {
   "cell_type": "code",
   "execution_count": 91,
   "metadata": {},
   "outputs": [],
   "source": [
    "def temp_ordi(Scomp_dis, Scomp_air, Sdis_vent, Mvent, Malu, C, Ralu, Rair, Vair, Tamb, Cpalu, Dvent, t) :\n",
    "    \"\"\"\n",
    "    dict[str:Number]^6*Number^6 -> tuple[tuple[dict[str:Number],dict[str:Number]],tuple[dict[str:number],Number]]\n",
    "    rend la température des composants, des dissipateurs, de l'air expulsé et de l'air des ventilateur à un instant t\n",
    "    \"\"\"\n",
    "    \n",
    "    P = {\"a\":np.random.randint(80, 100 + 1),\n",
    "     \"c\":np.random.randint(75, 95 + 1),\n",
    "     \"p\":np.random.randint(45, 60 + 1),\n",
    "     \"d\":np.random.randint(8, 15 + 1),\n",
    "     \"r\":1,\n",
    "     \"cm\":np.random.randint(20, 35 + 1)} # puissance apportés aux composants en W\n",
    "    \n",
    "    if t == 0 :\n",
    "        return (({\"a\":Tamb,\n",
    "     \"c\":Tamb,\n",
    "     \"p\":Tamb,\n",
    "     \"d\":Tamb,\n",
    "     \"r\":Tamb,\n",
    "     \"cm\":Tamb}, {\"p\":Tamb,\n",
    "            \"a\":Tamb,\n",
    "            \"c\":Tamb}),({\"p\":Tamb,\n",
    "            \"a\":Tamb,\n",
    "            \"c\":Tamb},Tamb))\n",
    "    else :\n",
    "        Keys = [\"d\", \"r\", \"cm\"]\n",
    "        \n",
    "        Tair = Tamb\n",
    "        \n",
    "        Texp = Tamb\n",
    "        \n",
    "        hcomp_dis = {\"p\":0,\n",
    "            \"a\":0,\n",
    "            \"c\":0}\n",
    "        \n",
    "        Tdis = {\"p\":Tamb,\n",
    "            \"a\":Tamb,\n",
    "            \"c\":Tamb}\n",
    "        \n",
    "        Tcomp = {\"a\":Tamb,\n",
    "     \"c\":Tamb,\n",
    "     \"p\":Tamb,\n",
    "     \"d\":Tamb,\n",
    "     \"r\":Tamb,\n",
    "     \"cm\":Tamb}\n",
    "        \n",
    "        Tvent = {\"p\":Tamb,\n",
    "            \"a\":Tamb,\n",
    "            \"c\":Tamb}\n",
    "        \n",
    "        chaleur = {\"p\":0,\n",
    "            \"a\":0,\n",
    "            \"c\":0}\n",
    "        \n",
    "        Tfalu = {\"p\":math.exp(-((60/C[\"p\"])+(Tvent[\"p\"]/(Ralu*C[\"p\"])))*90)*(-60*Ralu-Tvent[\"p\"])+60*Ralu+Tvent[\"p\"],\n",
    "        \"a\":math.exp(-((100/C[\"a\"])+(Tvent[\"a\"]/(Ralu*C[\"a\"])))*90)*(-100*Ralu-Tvent[\"a\"])+100*Ralu+Tvent[\"a\"],\n",
    "        \"c\":math.exp(-((90/C[\"c\"])+(Tvent[\"c\"]/(Ralu*C[\"c\"])))*90)*(-95*Ralu-Tvent[\"c\"])+95*Ralu+Tvent[\"c\"]}\n",
    "        \n",
    "        hdis_vent = {\"p\":0,\n",
    "            \"a\":0,\n",
    "            \"c\":0}\n",
    "        \n",
    "        hvent_dis = {\"p\":0,\n",
    "            \"a\":0,\n",
    "            \"c\":0}\n",
    "        \n",
    "        Pdis = {\"p\":0,\n",
    "            \"a\":0,\n",
    "            \"c\":0}\n",
    "        \n",
    "        for i in range(1,t+1,2) :\n",
    "            for j in Keys :\n",
    "                Tcomp[j] = math.exp(-((P[j]/C[j])+(Tair/(Rair*C[j])))*i)*(-P[j]*Rair)+P[j]*Rair+Tair\n",
    "            for k in Scomp_dis :\n",
    "                if (Tcomp[k] <= Tfalu[k]) and (Tdis[k] != Tcomp[k]) or (Tcomp[k] == Tdis[k] == Tamb) :\n",
    "                    Tcomp[k] = math.exp(-((P[k]/C[k])+(Tair/(Ralu*C[k])))*i)*(-P[k]*Ralu)+P[k]*Ralu+Tair\n",
    "                    \n",
    "                    hcomp_dis[k] = (math.fabs(Tfalu[k]-Tamb)*Cpalu*Malu[k])/(Scomp_dis[k]*math.fabs(Tdis[k]-Tcomp[k])*2)\n",
    "                    \n",
    "                    Tdis[k] = math.exp((-hcomp_dis[k]*Scomp_dis[k]*i)/(Malu[k]*Cpalu))*(Tamb-Tcomp[k])+Tcomp[k]\n",
    "                    \n",
    "                    hdis_vent[k] = (math.fabs(Tfalu[k]-Tamb)*Cpair*Mvent[k])/(Sdis_vent[k]*math.fabs(Tair-Tdis[k])*2)\n",
    "                    \n",
    "                    Tvent[k] = math.exp((-hdis_vent[k]*Sdis_vent[k]*i)/(Mvent[k]*Cpair))*(Tamb-Tdis[k])+Tdis[k]\n",
    "                    \n",
    "                    chaleur[k] = Mvent[k]*Cpair*math.fabs(Tair-Tvent[k])\n",
    "                    \n",
    "                    Tdis[k] = Tdis[k] - chaleur[k]/(Malu[k]*Cpalu)\n",
    "                                        \n",
    "                else :\n",
    "                    Tcomp[k] = Tfalu[k]\n",
    "                        \n",
    "                    Tdis[k] = Tcomp[k]\n",
    "                        \n",
    "                    Tvent[k] = Tdis[k]\n",
    "                    \n",
    "                    \n",
    "            Tfalu = {\"p\":math.exp(-((60/C[\"p\"])+(Tair/(Ralu*C[\"p\"])))*90)*(-60*Ralu-Tair)+60*Ralu+Tair,\n",
    "                    \"a\":math.exp(-((100/C[\"a\"])+(Tair/(Ralu*C[\"a\"])))*90)*(-100*Ralu-Tair)+100*Ralu+Tair,\n",
    "                    \"c\":math.exp(-((90/C[\"c\"])+(Tair/(Ralu*C[\"c\"])))*90)*(-95*Ralu-Tair)+95*Ralu+Tair}\n",
    "            \n",
    "        Tair = Tamb\n",
    "        Texp = ((((2*Vair-7.41*10**(-3)*2-9.91*10**(-3)*2-8.64*10**(-3)*2)*temp_air(Tcomp, Scomp_air, Tamb, Mair, Cpair, i)+7.41*10**(-3)*2*Tvent[\"p\"]+9.91*10**(-3)*2*Tvent[\"a\"]+8.64*10**(-3)*2*Tvent[\"c\"]))+(Dvent*2-Vair*2)*Tamb)/(2*Dvent)\n",
    "        \n",
    "            \n",
    "    return ((Tcomp, Tdis), (Tvent,Texp))\n",
    "                    "
   ]
  },
  {
   "cell_type": "code",
   "execution_count": 92,
   "metadata": {
    "scrolled": true
   },
   "outputs": [
    {
     "data": {
      "text/plain": [
       "(({'a': 319.95,\n",
       "   'c': 317.25,\n",
       "   'p': 308.25,\n",
       "   'd': 303.15,\n",
       "   'r': 291.95,\n",
       "   'cm': 315.15},\n",
       "  {'p': 305.931202826087, 'a': 313.9235370208387, 'c': 309.8808963210702}),\n",
       " ({'p': 308.25, 'a': 319.95, 'c': 317.25}, 323.54394390383516))"
      ]
     },
     "execution_count": 92,
     "metadata": {},
     "output_type": "execute_result"
    }
   ],
   "source": [
    "temp_ordi(Scomp_dis, Scomp_air, Sdis_vent, Mvent, Malu, C, Ralu, Rair, Vair, Tamb, Cpalu, Dvent, 105)"
   ]
  },
  {
   "cell_type": "code",
   "execution_count": 93,
   "metadata": {},
   "outputs": [],
   "source": [
    "def temp_comp_final_tout_instant(Scomp_dis, Scomp_air, Sdis_vent, Mvent, Malu, C, Ralu, Rair, Vair, Tamb, Cpalu, Dvent, tmax) :\n",
    "    \"\"\"\n",
    "    dict[str:Number]^6*Number^6 -> list[tuple[Number,disct[str:Number]]]\n",
    "    rend la température des composants pour tout instants.\n",
    "    \"\"\"\n",
    "    T0 = []\n",
    "    for i in range(0,tmax+1,2):\n",
    "        a,b = temp_ordi(Scomp_dis, Scomp_air, Sdis_vent, Mvent, Malu, C, Ralu, Rair, Vair, Tamb, Cpalu, Dvent, i)\n",
    "        c,d = a\n",
    "        e,f = b\n",
    "        T0.append((i,c))\n",
    "    return T0"
   ]
  },
  {
   "cell_type": "code",
   "execution_count": 94,
   "metadata": {},
   "outputs": [],
   "source": [
    "def list_temps3(Scomp_dis, Scomp_air, Sdis_vent, Mvent, Malu, C, Ralu, Rair, Vair, Tamb, Cpalu, Dvent, tmax):\n",
    "    \"\"\"\n",
    "    \"\"\"\n",
    "    L = []\n",
    "    for i in temp_comp_final_tout_instant(Scomp_dis, Scomp_air, Sdis_vent, Mvent, Malu, C, Ralu, Rair, Vair, Tamb, Cpalu, Dvent, tmax) :\n",
    "        a,b = i\n",
    "        L.append(a)\n",
    "    return L\n",
    "\n",
    "def list_T3(Scomp_dis, Scomp_air, Sdis_vent, Mvent, Malu, C, Ralu, Rair, Vair, Tamb, Cpalu, Dvent, tmax):\n",
    "    \"\"\"\n",
    "    \"\"\"\n",
    "    L = []\n",
    "    for i in temp_comp_final_tout_instant(Scomp_dis, Scomp_air, Sdis_vent, Mvent, Malu, C, Ralu, Rair, Vair, Tamb, Cpalu, Dvent, tmax) :\n",
    "        a,b = i\n",
    "        L0 = []\n",
    "        for j in b :\n",
    "            L0.append(b[j])\n",
    "        L.append(L0)\n",
    "    return L\n",
    "L1 = list_temps3(Scomp_dis, Scomp_air, Sdis_vent, Mvent, Malu, C, Ralu, Rair, Vair, Tamb, Cpalu, Dvent, tmax)\n",
    "L2 = list_T3(Scomp_dis, Scomp_air, Sdis_vent, Mvent, Malu, C, Ralu, Rair, Vair, Tamb, Cpalu, Dvent, tmax)"
   ]
  },
  {
   "cell_type": "code",
   "execution_count": 95,
   "metadata": {},
   "outputs": [
    {
     "data": {
      "image/png": "[encoded data removed]",
      "text/plain": [
       "<Figure size 432x288 with 1 Axes>"
      ]
     },
     "metadata": {
      "needs_background": "light"
     },
     "output_type": "display_data"
    }
   ],
   "source": [
    "def plot_Temp_comp(L1,L2):\n",
    "    plt.figure()\n",
    "    plt.plot(L1,L2)\n",
    "    plt.xlabel(\"Temps en secondes\")\n",
    "    plt.ylabel(\"Température en Kelvin\")\n",
    "    plt.show()\n",
    "    return\n",
    "\n",
    "plot_Temp_comp(L1,L2)"
   ]
  },
  {
   "cell_type": "code",
   "execution_count": 96,
   "metadata": {},
   "outputs": [],
   "source": [
    "def temp_exp_final_tout_instant(Scomp_dis, Scomp_air, Sdis_vent, Mvent, Malu, C, Ralu, Rair, Vair, Tamb, Cpalu, Dvent, tmax) :\n",
    "    \"\"\"\n",
    "    dict[str:Number]^6*Number^6 -> list[tuple[Number,Number]]\n",
    "    rend la température expulsé du pc pour tout instants.\n",
    "    \"\"\"\n",
    "    T0 = []\n",
    "    for i in range(0,tmax+1,2):\n",
    "        a,b = temp_ordi(Scomp_dis, Scomp_air, Sdis_vent, Mvent, Malu, C, Ralu, Rair, Vair, Tamb, Cpalu, Dvent, i)\n",
    "        c,d = a\n",
    "        e,f = b\n",
    "        T0.append((i,f))\n",
    "    return T0"
   ]
  },
  {
   "cell_type": "code",
   "execution_count": 97,
   "metadata": {},
   "outputs": [],
   "source": [
    "def list_temps4(Scomp_dis, Scomp_air, Sdis_vent, Mvent, Malu, C, Ralu, Rair, Vair, Tamb, Cpalu, Dvent, tmax):\n",
    "    \"\"\"\n",
    "    \"\"\"\n",
    "    L = []\n",
    "    for i in temp_exp_final_tout_instant(Scomp_dis, Scomp_air, Sdis_vent, Mvent, Malu, C, Ralu, Rair, Vair, Tamb, Cpalu, Dvent, tmax) :\n",
    "        a,b = i\n",
    "        L.append(a)\n",
    "    return L\n",
    "\n",
    "def list_T4(Scomp_dis, Scomp_air, Sdis_vent, Mvent, Malu, C, Ralu, Rair, Vair, Tamb, Cpalu, Dvent, tmax):\n",
    "    \"\"\"\n",
    "    \"\"\"\n",
    "    L = []\n",
    "    for i in temp_exp_final_tout_instant(Scomp_dis, Scomp_air, Sdis_vent, Mvent, Malu, C, Ralu, Rair, Vair, Tamb, Cpalu, Dvent, tmax) :\n",
    "        a,b = i\n",
    "        L.append(b)\n",
    "    return L\n",
    "L1 = list_temps4(Scomp_dis, Scomp_air, Sdis_vent, Mvent, Malu, C, Ralu, Rair, Vair, Tamb, Cpalu, Dvent, tmax)\n",
    "L2 = list_T4(Scomp_dis, Scomp_air, Sdis_vent, Mvent, Malu, C, Ralu, Rair, Vair, Tamb, Cpalu, Dvent, tmax)"
   ]
  },
  {
   "cell_type": "code",
   "execution_count": 98,
   "metadata": {},
   "outputs": [
    {
     "data": {
      "image/png": "[encoded data removed]",
      "text/plain": [
       "<Figure size 432x288 with 1 Axes>"
      ]
     },
     "metadata": {
      "needs_background": "light"
     },
     "output_type": "display_data"
    }
   ],
   "source": [
    "def plot_Temp_exp(L1,L2):\n",
    "    plt.figure()\n",
    "    plt.plot(L1,L2)\n",
    "    plt.xlabel(\"Temps en secondes\")\n",
    "    plt.ylabel(\"Température en Kelvin\")\n",
    "    plt.show()\n",
    "    return\n",
    "\n",
    "plot_Temp_comp(L1,L2)"
   ]
  },
  {
   "cell_type": "code",
   "execution_count": null,
   "metadata": {},
   "outputs": [],
   "source": []
  }
 ],
 "metadata": {
  "kernelspec": {
   "display_name": "Python 3",
   "language": "python",
   "name": "python3"
  },
  "language_info": {
   "codemirror_mode": {
    "name": "ipython",
    "version": 3
   },
   "file_extension": ".py",
   "mimetype": "text/x-python",
   "name": "python",
   "nbconvert_exporter": "python",
   "pygments_lexer": "ipython3",
   "version": "3.7.1"
  }
 },
 "nbformat": 4,
 "nbformat_minor": 2
}
