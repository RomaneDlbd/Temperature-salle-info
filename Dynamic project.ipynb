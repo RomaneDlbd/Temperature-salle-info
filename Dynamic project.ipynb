{
 "cells": [
  {
   "cell_type": "code",
   "execution_count": 1,
   "metadata": {},
   "outputs": [],
   "source": [
    "import numpy as np\n",
    "import matplotlib.pyplot as plt\n",
    "import math"
   ]
  },
  {
   "cell_type": "markdown",
   "metadata": {},
   "source": [
    "Dynamique de température d'une salle informatique"
   ]
  },
  {
   "cell_type": "markdown",
   "metadata": {},
   "source": [
    "I) modèle de l'ordinateur"
   ]
  },
  {
   "cell_type": "markdown",
   "metadata": {},
   "source": [
    "Le but de cette partie est de modéliser la chaleure dégagée par un ordinateur. On suppose ici que le pc possède une unité centrale dont on précisera les dimenssions. De plus, les composants et leurs capacités sont également choisis au préalable. L'unité centrale ainsi que tout les composants sont considéré comme en acier. Enfin on posera que les épaisseur des boitier des composants est la même pour tous et de 5*10^(-3) m"
   ]
  },
  {
   "cell_type": "markdown",
   "metadata": {},
   "source": [
    "Tout d'abord, commençons par trouver les variation de températures de l'air dans l'unité centrale qui est initialement à température ambiante.\n",
    "On utilisera la formule T(t) = T(composant) + (T0 - T(composant))*exp((-h*S/(m*Cp))*t) où h est le coefficient d'échange, S est la surface de contacte, m est la masse et Cp est la chaleur massique à pression constante. On supposera de plus qu'une homogénéisation de l'air se fait en 10 secondes."
   ]
  },
  {
   "cell_type": "code",
   "execution_count": 2,
   "metadata": {},
   "outputs": [],
   "source": [
    "# \"a\", alimentation\n",
    "# \"c\", carte graphique\n",
    "# \"p\", processeur\n",
    "# \"d\", disque dur\n",
    "# \"r\", RAM\n",
    "# \"cm\", carte mère\n",
    "\n",
    "Vu = 0.024276 # volume de l'unité centrale en m^3\n",
    "\n",
    "Tamb = 291.15 # température ambiante en Kelvin\n",
    "\n",
    "T = {\"a\":328.15,\n",
    "     \"c\":333.15,\n",
    "     \"p\":338.15,\n",
    "     \"d\":296.15,\n",
    "     \"r\":291.65,\n",
    "     \"cm\":307.15} # températures des composants en K\n",
    "\n",
    "S = {\"a\":0.0425,\n",
    "     \"c\":0.0379,\n",
    "     \"p\":0.0025,\n",
    "     \"d\":0.0356,\n",
    "     \"r\":0.01115,\n",
    "     \"cm\":0.0576} # surfaces de contactes composants/air en m^2\n",
    "\n",
    "M = {\"a\":3.62,\n",
    "     \"c\":0.591,\n",
    "     \"p\":0.023,\n",
    "     \"d\":0.73,\n",
    "     \"r\":0.12,\n",
    "     \"cm\":0.56} # masses composants en Kg\n",
    "\n",
    "C = {\"a\":435*M[\"a\"],\n",
    "     \"c\":435*M[\"c\"],\n",
    "     \"p\":435*M[\"p\"],\n",
    "     \"d\":435*M[\"d\"],\n",
    "     \"r\":435*M[\"r\"],\n",
    "     \"cm\":435*M[\"cm\"]} # capacités calorifiques composants = masse*chaleur massique acier à pression constante en J/K\n",
    "\n",
    "E = {\"a\":T[\"a\"]*C[\"a\"],\n",
    "     \"c\":T[\"c\"]*C[\"c\"],\n",
    "     \"p\":T[\"p\"]*C[\"p\"],\n",
    "     \"d\":T[\"d\"]*C[\"d\"],\n",
    "     \"r\":T[\"r\"]*C[\"r\"],\n",
    "     \"cm\":T[\"cm\"]*C[\"cm\"]} # énergie des composants = température*capacité calorifiques en J\n",
    "\n",
    "Mair = 1.225*(Vu-0.002412) # ro*Vair = ro*(V(unité centrale) - V(composants)) en kg\n",
    "\n",
    "Cpair = 1005 # chaleur massique de l'air à pression constante en J/(kg*K)\n",
    "\n",
    "Tf = (T[\"a\"]+T[\"c\"]+T[\"p\"]+T[\"d\"]+T[\"r\"]+T[\"cm\"])/len(T) # température finale de l'air dans l'unité centrale en K\n",
    "\n",
    "tmax = 10"
   ]
  },
  {
   "cell_type": "code",
   "execution_count": 3,
   "metadata": {},
   "outputs": [
    {
     "data": {
      "text/plain": [
       "315.73333333333335"
      ]
     },
     "execution_count": 3,
     "metadata": {},
     "output_type": "execute_result"
    }
   ],
   "source": [
    "Tf"
   ]
  },
  {
   "cell_type": "code",
   "execution_count": 4,
   "metadata": {},
   "outputs": [],
   "source": [
    "def temp_air(T, S, Tamb, Mair, Cpair, t):\n",
    "    \"\"\"\n",
    "    dict[str:Number]^2*Number^4*int -> Number\n",
    "    rend la température de l'air de l'unité centrale à un instant t\n",
    "    \"\"\"\n",
    "    if t == 0 :\n",
    "        return Tamb\n",
    "    else :\n",
    "        T0 = Tamb\n",
    "        h = {\"a\":(math.fabs(Tf-Tamb)*Cpair*Mair)/(S[\"a\"]*math.fabs(T0-T[\"a\"])),\n",
    "         \"c\":(math.fabs(Tf-Tamb)*Cpair*Mair)/(S[\"c\"]*math.fabs(T0-T[\"c\"])),\n",
    "         \"p\":(math.fabs(Tf-Tamb)*Cpair*Mair)/(S[\"p\"]*math.fabs(T0-T[\"p\"])),\n",
    "         \"d\":(math.fabs(Tf-Tamb)*Cpair*Mair)/(S[\"d\"]*math.fabs(T0-T[\"d\"])),\n",
    "         \"r\":(math.fabs(Tf-Tamb)*Cpair*Mair)/(S[\"r\"]*math.fabs(T0-T[\"r\"])),\n",
    "         \"cm\":(math.fabs(Tf-Tamb)*Cpair*Mair)/(S[\"cm\"]*math.fabs(T0-T[\"cm\"]))}\n",
    "        s = 0\n",
    "        for i in range(1,t+1) :\n",
    "            for j in T :\n",
    "                s += math.exp((-h[j]*S[j]*i)/(Mair*Cpair))*(Tamb-T[j])+T[j]\n",
    "                h[j] = (math.fabs(Tf-Tamb)*Cpair*Mair)/(S[j]*math.fabs(T0-T[j]))\n",
    "            T0 = s/len(S)\n",
    "            s = 0\n",
    "        return T0"
   ]
  },
  {
   "cell_type": "code",
   "execution_count": 5,
   "metadata": {},
   "outputs": [
    {
     "data": {
      "text/plain": [
       "313.9005716092588"
      ]
     },
     "execution_count": 5,
     "metadata": {},
     "output_type": "execute_result"
    }
   ],
   "source": [
    "temp_air(T, S, Tamb, Mair, Cpair,3)"
   ]
  },
  {
   "cell_type": "code",
   "execution_count": 6,
   "metadata": {},
   "outputs": [],
   "source": [
    "def temp_air_tout_instant(T, S, Tamb, Mair, Cpair, tmax) :\n",
    "    \"\"\"\n",
    "    dict[str:Number]^2*Number^5 -> Number\n",
    "    rend la température de l'air de l'unité centrale pour tout instant t\n",
    "    \"\"\"\n",
    "    TT = [(0,Tamb)]\n",
    "    for i in range(1,tmax+1) :\n",
    "        TT.append((i,temp_air(T, S, Tamb, Mair, Cpair, i)))\n",
    "    return TT"
   ]
  },
  {
   "cell_type": "code",
   "execution_count": 7,
   "metadata": {},
   "outputs": [
    {
     "data": {
      "text/plain": [
       "[(0, 291.15),\n",
       " (1, 303.43890807353995),\n",
       " (2, 309.0539229993666),\n",
       " (3, 313.9005716092588),\n",
       " (4, 315.3117900062259),\n",
       " (5, 315.67000528281966),\n",
       " (6, 315.7186572807696),\n",
       " (7, 315.7290570430276),\n",
       " (8, 315.73196505174343),\n",
       " (9, 315.7328872292646),\n",
       " (10, 315.7331867365778)]"
      ]
     },
     "execution_count": 7,
     "metadata": {},
     "output_type": "execute_result"
    }
   ],
   "source": [
    "temp_air_tout_instant(T, S, Tamb, Mair, Cpair, tmax)"
   ]
  },
  {
   "cell_type": "code",
   "execution_count": 8,
   "metadata": {},
   "outputs": [],
   "source": [
    "def list_temps(T, S, Tamb, Mair, Cpair, tmax):\n",
    "    \"\"\"\n",
    "    \"\"\"\n",
    "    L = []\n",
    "    for i in temp_air_tout_instant(T, S, Tamb, Mair, Cpair, tmax) :\n",
    "        a,b = i\n",
    "        L.append(a)\n",
    "    return L\n",
    "\n",
    "def list_T(T, S, Tamb, Mair, Cpair, tmax):\n",
    "    \"\"\"\n",
    "    \"\"\"\n",
    "    L = []\n",
    "    for i in temp_air_tout_instant(T, S, Tamb, Mair, Cpair, tmax) :\n",
    "        a,b = i\n",
    "        L.append(b)\n",
    "    return L\n",
    "L1 = list_temps(T, S, Tamb, Mair, Cpair, tmax)\n",
    "L2 = list_T(T, S, Tamb, Mair, Cpair, tmax)"
   ]
  },
  {
   "cell_type": "code",
   "execution_count": 9,
   "metadata": {
    "scrolled": true
   },
   "outputs": [
    {
     "data": {
      "image/png": "[encoded data removed]",
      "text/plain": [
       "<Figure size 432x288 with 1 Axes>"
      ]
     },
     "metadata": {
      "needs_background": "light"
     },
     "output_type": "display_data"
    }
   ],
   "source": [
    "def plot_Temp(L1,L2):\n",
    "    '''\n",
    "    rend la courbe de l'évolution de la température au cours du temps\n",
    "    '''\n",
    "    plt.figure()\n",
    "    plt.plot(L1,L2)\n",
    "    plt.ylabel(\"Température (K)\")\n",
    "    plt.xlabel(\"Temps (s)\")\n",
    "    plt.show()\n",
    "    return\n",
    "\n",
    "plot_Temp(L1,L2)"
   ]
  },
  {
   "cell_type": "markdown",
   "metadata": {},
   "source": [
    "On remarque qu'avec les valeurs de températures qui montre une utilisation assez poussé de l'ordinateur, la température de l'air a l'intérieur de celui-ci croit très rapidement."
   ]
  },
  {
   "cell_type": "markdown",
   "metadata": {},
   "source": [
    "A présent, on va faire évoluer le modèle en posant que le pc vient de s'allumer et que la température des composants évolue au cours du temps. pour celà on utilise un modèle vu en physique au S1 où l'on étudie la température d'un processeur lorsqu'il est refroidi ou non. On peut alors appliquer ce modèle aux autres composants qui chauffent car ils fonctionnent de la même manière. Pour celà nous aurons besoin de la puissance apporté a chaque composants (P), de la température fournie par le ventilateur que l'on supose constante et égale à 291.15 K, de la resistence thermique (R) du dissipateur qui est supposé le même pour tout les composants, ainsi que de la capacité calorifique du processeur c'est à dire de l'acier, puisque les composants sont posé comme étant en acier."
   ]
  },
  {
   "cell_type": "code",
   "execution_count": 21,
   "metadata": {
    "scrolled": true
   },
   "outputs": [],
   "source": [
    "# \"a\", alimentation\n",
    "# \"c\", carte graphique\n",
    "# \"p\", processeur\n",
    "# \"d\", disque dur\n",
    "# \"r\", RAM\n",
    "# \"cm\", carte mère\n",
    " \n",
    "Vu = 0.024 # volume de l'unité centrale en m^3\n",
    "\n",
    "Vair = Vu - 0.002412 # volume air = volume unité centrale - volume composants\n",
    "\n",
    "Tamb = 291.15 # température ambiante en Kelvin\n",
    "\n",
    "Ralu = 0.5 # résistence thermique de l'aluminium en Watt/(mètre*Kelvin)\n",
    "\n",
    "Rair = \n",
    "\n",
    "Cpalu = 897 # chaleur massique de l'aluminium à pression constante en J/(kg*K)\n",
    "\n",
    "Tfalu = {\"p\":math.exp(-((60/C[\"p\"])+(Tvent/(R*C[\"p\"])))*90)*(Tamb-60*R-Tvent)+60*R+Tvent,\n",
    "        \"a\":math.exp(-((100/C[\"a\"])+(Tvent/(R*C[\"a\"])))*90)*(Tamb-100*R-Tvent)+100*R+Tvent,\n",
    "        \"c\":math.exp(-((95/C[\"c\"])+(Tvent/(R*C[\"c\"])))*90)*(Tamb-95*R-Tvent)+95*R+Tvent}\n",
    "\n",
    "Malu = {\"p\":0.15,\n",
    "        \"a\":0.13,\n",
    "        \"c\":0.084} # masse des dissipateur en kg\n",
    "\n",
    "Mvent = {\"p\":1.225*7.41*10**(-3),\n",
    "        \"a\":1.225*9.91*10**(-3),\n",
    "        \"c\":1.225*8.64*10**(-3)} # masse de l'air brassé par les ventilateurs en kg\n",
    "\n",
    "Scom_pair = {\"a\":0.0425,\n",
    "     \"c\":0.0379,\n",
    "     \"d\":0.0356,\n",
    "     \"r\":0.01115,\n",
    "     \"cm\":0.0576} # surfaces de contactes composants/air en m^2\n",
    "\n",
    "Scomp_dis = {\"p\":0.0025,\n",
    "            \"a\":0.00345,\n",
    "            \"c\":0.0048} # surfaces de contactes composants/dissipateurs en m^2\n",
    "\n",
    "Sdis_vent = {\"p\":0.04005,\n",
    "            \"a\":0.2763,\n",
    "            \"c\":0.03936} # surfaces de contactes dissipateurs/air en m^2\n",
    "\n",
    "M = {\"a\":3.62,\n",
    "     \"c\":0.591,\n",
    "     \"p\":0.023,\n",
    "     \"d\":0.73,\n",
    "     \"r\":0.12,\n",
    "     \"cm\":0.56} # masses composants en Kg\n",
    "\n",
    "C = {\"a\":435*M[\"a\"],\n",
    "     \"c\":435*M[\"c\"],\n",
    "     \"p\":435*M[\"p\"],\n",
    "     \"d\":435*M[\"d\"],\n",
    "     \"r\":435*M[\"r\"],\n",
    "     \"cm\":435*M[\"cm\"]} # capacités calorifiques composants = masse*chaleur massique acier à pression constante en J/K\n",
    "\n",
    "Mair = 1.225*(Vu-0.002412) # ro*Vair = ro*(V(unité centrale) - V(composants)) en kg\n",
    "\n",
    "Cpair = 1005 # chaleur massique de l'air à pression constante en J/(kg*K)\n",
    "\n",
    "tmax = 100 # temps en s"
   ]
  },
  {
   "cell_type": "code",
   "execution_count": 22,
   "metadata": {},
   "outputs": [
    {
     "data": {
      "text/plain": [
       "{'p': 321.15, 'a': 341.15, 'c': 338.65}"
      ]
     },
     "execution_count": 22,
     "metadata": {},
     "output_type": "execute_result"
    }
   ],
   "source": [
    "Tfalu"
   ]
  },
  {
   "cell_type": "code",
   "execution_count": 26,
   "metadata": {},
   "outputs": [],
   "source": [
    "def temp_comp_dis(Scomp_dis, Sdis_vent, Mvent, Malu, Tfalu, C, Ralu, Rair, Tvent, Tamb, Cpalu, t) :\n",
    "    \n",
    "    P = {\"a\":np.random.randint(80, 100 + 1),\n",
    "     \"c\":np.random.randint(75, 95 + 1),\n",
    "     \"p\":np.random.randint(45, 60 + 1),\n",
    "     \"d\":np.random.randint(8, 15 + 1),\n",
    "     \"r\":1,\n",
    "     \"cm\":np.random.randint(20, 35 + 1)} # puissance apportés aux composants en W\n",
    "    \n",
    "    if t == 0 :\n",
    "        return ({\"a\":Tamb,\n",
    "     \"c\":Tamb,\n",
    "     \"p\":Tamb,\n",
    "     \"d\":Tamb,\n",
    "     \"r\":Tamb,\n",
    "     \"cm\":Tamb}, {\"p\":Tamb,\n",
    "            \"a\":Tamb,\n",
    "            \"c\":Tamb})\n",
    "    else :\n",
    "        Keys = [\"d\", \"r\", \"cm\"]\n",
    "        \n",
    "        Vair = Tamb\n",
    "        \n",
    "        hcomp_dis = {\"p\":0,\n",
    "            \"a\":0,\n",
    "            \"c\":0}\n",
    "        \n",
    "        Tdis = {\"p\":Tamb,\n",
    "            \"a\":Tamb,\n",
    "            \"c\":Tamb}\n",
    "        \n",
    "        Tcomp = {\"a\":Tamb,\n",
    "     \"c\":Tamb,\n",
    "     \"p\":Tamb,\n",
    "     \"d\":Tamb,\n",
    "     \"r\":Tamb,\n",
    "     \"cm\":Tamb}\n",
    "        \n",
    "        Tvent = {\"p\":Tamb,\n",
    "            \"a\":Tamb,\n",
    "            \"c\":Tamb}\n",
    "        \n",
    "        hdis_vent = {\"p\":0,\n",
    "            \"a\":0,\n",
    "            \"c\":0}\n",
    "        \n",
    "        for i in range(1,t+1) :\n",
    "            for j in Keys :\n",
    "                Tcomp[j] = math.exp(-((P[j]/C[j])+(Tair/(Rair*C[j])))*i)*(-P[j]*Rair)+P[j]*Rair+Tair\n",
    "            for k in Scomp_dis :\n",
    "                if Tdis[k] != Tcomp[k] or Tdis[k] == Tcomp[k] == Tamb :\n",
    "                    Tcomp[k] = math.exp(-((P[k]/C[k])+(Tvent[k]/(Ralu*C[k])))*i)*(-P[k]*Ralu)+P[k]*Ralu+Tvent[k]\n",
    "                    \n",
    "                    hcomp_dis[k] = (math.fabs(Tfalu[k]-Tamb)*Cpalu*Malu[k])/(Scomp_dis[k]*math.fabs(Tdis[k]-Tcomp[k]))\n",
    "                    \n",
    "                    Tdis[k] = math.exp((-hcomp_dis[k]*Scomp_dis[k]*i)/(Malu[k]*Cpalu))*(Tamb-Tcomp[k])+Tcomp[k]\n",
    "                    \n",
    "                    hdis_vent[k] = (math.fabs(Tfalu[k]-Tamb)*Cpair*Mvent[k])/(Sdis_vent[k]*math.fabs(Tvent[k]-Tdis[k]))\n",
    "                    \n",
    "                    Tvent[k] = math.exp((-hdis_vent[k]*Sdis_vent[k]*i)/(Mvent[k]*Cpair))*(Tamb-Tdis[k])+Tdis[k]\n",
    "                else :\n",
    "                    for k in Scomp_dis :\n",
    "                        \n",
    "                        Tcomp[k] = (P[k]/C[k])*i+Tfalu[k]\n",
    "                        \n",
    "                        Tdis[k] = Tcomp[k]\n",
    "                        \n",
    "                        Tvent[k] = Tdis[k]\n",
    "            \n",
    "            Tair = ((Vair-7.41*10**(-3)-9.91*10**(-3)-8.64*10**(-3))*temp_air(Tcomp, Scomp_air, Tamb, Mair, Cpair, i)+7.41*10**(-3)*Tvent[\"p\"]+9.91*10**(-3)*Tvent[\"a\"]+8.64*10**(-3)*Tvent[\"c\"])/Vair\n",
    "            \n",
    "    return (Tcomp, Tdis, Tvent)"
   ]
  },
  {
   "cell_type": "code",
   "execution_count": 30,
   "metadata": {},
   "outputs": [
    {
     "data": {
      "text/plain": [
       "({'a': 352.83476535213055,\n",
       "  'c': 403.99803664157764,\n",
       "  'p': 1220.7002248875565,\n",
       "  'd': 297.4482207526374,\n",
       "  'r': 294.98141762452104,\n",
       "  'cm': 310.85443349753695},\n",
       " {'p': 1220.7002248875565, 'a': 352.83476535213055, 'c': 403.99803664157764},\n",
       " {'p': 1220.7002248875565, 'a': 352.83476535213055, 'c': 403.99803664157764})"
      ]
     },
     "execution_count": 30,
     "metadata": {},
     "output_type": "execute_result"
    }
   ],
   "source": [
    "temp_comp_dis(Scomp_dis, Sdis_vent, Mvent, Malu, Tfalu, C, R, Tvent, Tamb, Cpalu, 200)"
   ]
  },
  {
   "cell_type": "markdown",
   "metadata": {},
   "source": [
    "La courbe bleu correspond à l'alimentation,\n",
    "La jaune à la carte graphique,\n",
    "La verte au processeur,\n",
    "La marron à la carte mère,\n",
    "La rouge au disque dur,\n",
    "La violette au barette de RAM"
   ]
  },
  {
   "cell_type": "code",
   "execution_count": 44,
   "metadata": {},
   "outputs": [],
   "source": [
    "Tf = (temp_comp(C, R, Tvent, Tamb, tmax)[\"a\"]+temp_comp(C, R, Tvent, Tamb, tmax)[\"c\"]+temp_comp(C, R, Tvent, Tamb, tmax)[\"p\"]+temp_comp(C, R, Tvent, Tamb, tmax)[\"d\"]+temp_comp(C, R, Tvent, Tamb, tmax)[\"r\"]+temp_comp(C, R, Tvent, Tamb, tmax)[\"cm\"])/len(temp_comp(C, R, Tvent, Tamb, tmax)) # température finale de l'air dans l'unité centrale en K"
   ]
  },
  {
   "cell_type": "code",
   "execution_count": 45,
   "metadata": {},
   "outputs": [],
   "source": [
    "def temp_air_variable(S, C, R, Mair, Cpair, Tvent, Tamb, t):\n",
    "    \"\"\"\n",
    "    dict[str:Number]^2*Number^6 -> Number\n",
    "    rend la valeur de température de l'air à un instant t\n",
    "    \"\"\"\n",
    "    return temp_air(temp_comp(C, R, Tvent, Tamb, t), S, Tamb, Mair, Cpair, t)"
   ]
  },
  {
   "cell_type": "code",
   "execution_count": 46,
   "metadata": {},
   "outputs": [
    {
     "data": {
      "text/plain": [
       "313.81666666666666"
      ]
     },
     "execution_count": 46,
     "metadata": {},
     "output_type": "execute_result"
    }
   ],
   "source": [
    "temp_air_variable(S, C, R, Mair, Cpair, Tvent, Tamb, 3600)"
   ]
  },
  {
   "cell_type": "code",
   "execution_count": 47,
   "metadata": {},
   "outputs": [],
   "source": [
    "def temp_air_variable_tout_instant(S, C, R, Mair, Cpair, Tvent, Tamb, tmax) :\n",
    "    \"\"\"\n",
    "    dict[str:Number]^2*Number^6 -> Number\n",
    "    rend la valeur de température de l'air à tout instant t\n",
    "    \"\"\"\n",
    "    TT = [(0,Tamb)]\n",
    "    for i in range(1,tmax+1) :\n",
    "        TT.append((i,temp_air_variable(S, C, R, Mair, Cpair, Tvent, Tamb, i)))\n",
    "    return TT"
   ]
  },
  {
   "cell_type": "code",
   "execution_count": 48,
   "metadata": {},
   "outputs": [],
   "source": [
    "def list_temps3(S, C, R, Mair, Cpair, Tvent, Tamb, tmax):\n",
    "    \"\"\"\n",
    "    \"\"\"\n",
    "    L = []\n",
    "    for i in temp_air_variable_tout_instant(S, C, R, Mair, Cpair, Tvent, Tamb, tmax) :\n",
    "        a,b = i\n",
    "        L.append(a)\n",
    "    return L\n",
    "\n",
    "def list_T3(S, C, R, Mair, Cpair, Tvent, Tamb, tmax):\n",
    "    \"\"\"\n",
    "    \"\"\"\n",
    "    L = []\n",
    "    for i in temp_air_variable_tout_instant(S, C, R, Mair, Cpair, Tvent, Tamb, tmax) :\n",
    "        a,b = i\n",
    "        L.append(b)\n",
    "    return L\n",
    "L1 = list_temps3(S, C, R, Mair, Cpair, Tvent, Tamb, tmax)\n",
    "L2 = list_T3(S, C, R, Mair, Cpair, Tvent, Tamb, tmax)"
   ]
  },
  {
   "cell_type": "code",
   "execution_count": 49,
   "metadata": {},
   "outputs": [
    {
     "data": {
      "image/png": "[encoded data removed]",
      "text/plain": [
       "<Figure size 432x288 with 1 Axes>"
      ]
     },
     "metadata": {
      "needs_background": "light"
     },
     "output_type": "display_data"
    }
   ],
   "source": [
    "def plot_Temp_variable(L1,L2):\n",
    "    '''\n",
    "    rend la courbe de l'évolution de la température au cours du temps\n",
    "    '''\n",
    "    plt.figure()\n",
    "    plt.plot(L1,L2)\n",
    "    plt.ylabel(\"Température (K)\")\n",
    "    plt.xlabel(\"Temps (s)\")\n",
    "    plt.show()\n",
    "    return\n",
    "\n",
    "plot_Temp(L1,L2)"
   ]
  },
  {
   "cell_type": "markdown",
   "metadata": {},
   "source": [
    "On remarque que si les températures des composants sont variables, la température de l'air à l'intérieur de l'unité centrale fluctue également. Cependant, l'air reste quand même chaud soit environ d'une moyenne de 40°C, c'est pourquoi il va falloir encore faire évoluer le modèle, cette fois ci en refroidissant l'air à l'aide de ventilateur."
   ]
  },
  {
   "cell_type": "markdown",
   "metadata": {},
   "source": [
    "le principe de ventilation de l'air d'un pc est d'expulser une quantité de l'air chaud à l'aide d'un ventilateur et de faire entrer de l'air extérieur à température ambiante. "
   ]
  },
  {
   "cell_type": "code",
   "execution_count": 50,
   "metadata": {},
   "outputs": [
    {
     "data": {
      "text/plain": [
       "0.021588"
      ]
     },
     "execution_count": 50,
     "metadata": {},
     "output_type": "execute_result"
    }
   ],
   "source": [
    "Vair = Vu - 0.002412 # volume air = volume unité centrale - volume composants\n",
    "Vair"
   ]
  },
  {
   "cell_type": "markdown",
   "metadata": {},
   "source": [
    "On supposera que le débit d'air est constant au cours du temps."
   ]
  },
  {
   "cell_type": "code",
   "execution_count": 51,
   "metadata": {},
   "outputs": [],
   "source": [
    "Dvent = 0.01747 # débit d'air explusé de lordinateur en m^3/s"
   ]
  },
  {
   "cell_type": "code",
   "execution_count": 52,
   "metadata": {},
   "outputs": [],
   "source": [
    "def temp_air_vent(S, C, R, Mair, Cpair, Tvent, Tamb, t, Vair, Pvent, Ctair, Vu) :\n",
    "    \"\"\"\n",
    "    dict[str:Number]^2*Number^10 -> Number\n",
    "    rend la valeur de température de l'air à un instant t\n",
    "    \"\"\"\n",
    "    return (temp_air_variable(S, C, R, Mair, Cpair, Tvent, Tamb, t)*(Vair-Dvent)+Tamb*Dvent)/Vair"
   ]
  },
  {
   "cell_type": "code",
   "execution_count": 53,
   "metadata": {},
   "outputs": [
    {
     "data": {
      "text/plain": [
       "295.1207353710097"
      ]
     },
     "execution_count": 53,
     "metadata": {},
     "output_type": "execute_result"
    }
   ],
   "source": [
    "temp_air_vent(S, C, R, Mair, Cpair, Tvent, Tamb, 10, Vair, Pvent, Ctair, Vu)"
   ]
  }
 ],
 "metadata": {
  "kernelspec": {
   "display_name": "Python 3",
   "language": "python",
   "name": "python3"
  },
  "language_info": {
   "codemirror_mode": {
    "name": "ipython",
    "version": 3
   },
   "file_extension": ".py",
   "mimetype": "text/x-python",
   "name": "python",
   "nbconvert_exporter": "python",
   "pygments_lexer": "ipython3",
   "version": "3.7.1"
  }
 },
 "nbformat": 4,
 "nbformat_minor": 2
}
