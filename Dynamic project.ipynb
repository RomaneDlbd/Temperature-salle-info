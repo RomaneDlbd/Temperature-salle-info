{
 "cells": [
  {
   "cell_type": "code",
   "execution_count": 3,
   "metadata": {},
   "outputs": [],
   "source": [
    "import numpy as np\n",
    "import matplotlib.pyplot as plt\n",
    "import math"
   ]
  },
  {
   "cell_type": "markdown",
   "metadata": {},
   "source": [
    "Dynamique de température d'une salle informatique"
   ]
  },
  {
   "cell_type": "markdown",
   "metadata": {},
   "source": [
    "I) modèle de l'ordinateur"
   ]
  },
  {
   "cell_type": "markdown",
   "metadata": {},
   "source": [
    "Le but de cette partie est de modéliser la chaleure dégagée par un ordinateur. On suppose ici que le pc possède une unité centrale dont on précisera les dimenssions. De plus, les composants et leurs capacités sont également choisis au préalable. L'unité centrale ainsi que tout les composants sont considéré comme en acier. Enfin on posera que les épaisseur des boitier des composants est la même pour tous et de 5*10^(-3) m"
   ]
  },
  {
   "cell_type": "markdown",
   "metadata": {},
   "source": [
    "Tout d'abord, commençons par trouver les variation de températures de l'air dans l'unité centrale qui est initialement à température ambiante.\n",
    "On utilisera la formule T(t) = T(composant) + (T0 - T(composant))*exp((-h*S/(m*Cp))*t) où h est le coefficient d'échange, S est la surface de contacte, m est la masse et Cp est la chaleur massique à pression constante. On supposera de plus qu'une homogénéisation de l'air se fait en 10 secondes."
   ]
  },
  {
   "cell_type": "code",
   "execution_count": 43,
   "metadata": {},
   "outputs": [],
   "source": [
    "# \"a\", alimentation\n",
    "# \"c\", carte graphique\n",
    "# \"p\", processeur\n",
    "# \"d\", disque dur\n",
    "# \"r\", RAM\n",
    "# \"cm\", carte mère\n",
    "\n",
    "Vu = 0.024276 # volume de l'unité centrale en m^3\n",
    "\n",
    "Tamb = 291.15 # température ambiante en Kelvin\n",
    "\n",
    "T = {\"a\":328.15,\n",
    "     \"c\":333.15,\n",
    "     \"p\":338.15,\n",
    "     \"d\":296.15,\n",
    "     \"r\":291.65,\n",
    "     \"cm\":307.15} # températures des composants en K\n",
    "\n",
    "S = {\"a\":0.0425,\n",
    "     \"c\":0.0379,\n",
    "     \"p\":0.0025,\n",
    "     \"d\":0.0356,\n",
    "     \"r\":0.01115,\n",
    "     \"cm\":0.0576} # surfaces de contactes composants/air en m^2\n",
    "\n",
    "M = {\"a\":3.62,\n",
    "     \"c\":0.591,\n",
    "     \"p\":0.023,\n",
    "     \"d\":0.73,\n",
    "     \"r\":0.12,\n",
    "     \"cm\":0.56} # masses composants en Kg\n",
    "\n",
    "C = {\"a\":435*M[\"a\"],\n",
    "     \"c\":435*M[\"c\"],\n",
    "     \"p\":435*M[\"p\"],\n",
    "     \"d\":435*M[\"d\"],\n",
    "     \"r\":435*M[\"r\"],\n",
    "     \"cm\":435*M[\"cm\"]} # capacités calorifiques composants = masse*chaleur massique acier à pression constante en J/K\n",
    "\n",
    "E = {\"a\":T[\"a\"]*C[\"a\"],\n",
    "     \"c\":T[\"c\"]*C[\"c\"],\n",
    "     \"p\":T[\"p\"]*C[\"p\"],\n",
    "     \"d\":T[\"d\"]*C[\"d\"],\n",
    "     \"r\":T[\"r\"]*C[\"r\"],\n",
    "     \"cm\":T[\"cm\"]*C[\"cm\"]} # énergie des composants = température*capacité calorifiques en J\n",
    "\n",
    "Mair = 1.225*(Vu-0.002412) # ro*Vair = ro*(V(unité centrale) - V(composants)) en kg\n",
    "\n",
    "Cpair = 1005 # chaleur massique de l'air à pression constante en J/(kg*K)\n",
    "\n",
    "Tf = (T[\"a\"]+T[\"c\"]+T[\"p\"]+T[\"d\"]+T[\"r\"]+T[\"cm\"])/len(T) # température finale de l'air dans l'unité centrale en K\n",
    "\n",
    "tmax = 10"
   ]
  },
  {
   "cell_type": "code",
   "execution_count": 44,
   "metadata": {},
   "outputs": [],
   "source": [
    "def temp_air(T, S, Tamb, Mair, Cpair, t):\n",
    "    \"\"\"\n",
    "    dict[str:Number]^2*Number^4*int -> Number\n",
    "    rend la température de l'air de l'unité centrale à un instant t\n",
    "    \"\"\"\n",
    "    if t == 0 :\n",
    "        return Tamb\n",
    "    else :\n",
    "        T0 = Tamb\n",
    "        h = {\"a\":(math.fabs(Tf-Tamb)*Cpair*Mair)/(S[\"a\"]*math.fabs(T0-T[\"a\"])),\n",
    "         \"c\":(math.fabs(Tf-Tamb)*Cpair*Mair)/(S[\"c\"]*math.fabs(T0-T[\"c\"])),\n",
    "         \"p\":(math.fabs(Tf-Tamb)*Cpair*Mair)/(S[\"p\"]*math.fabs(T0-T[\"p\"])),\n",
    "         \"d\":(math.fabs(Tf-Tamb)*Cpair*Mair)/(S[\"d\"]*math.fabs(T0-T[\"d\"])),\n",
    "         \"r\":(math.fabs(Tf-Tamb)*Cpair*Mair)/(S[\"r\"]*math.fabs(T0-T[\"r\"])),\n",
    "         \"cm\":(math.fabs(Tf-Tamb)*Cpair*Mair)/(S[\"cm\"]*math.fabs(T0-T[\"cm\"]))}\n",
    "        s = 0\n",
    "        for i in range(1,t+1) :\n",
    "            for j in T :\n",
    "                s += math.exp((-h[j]*S[j]*i)/(Mair*Cpair))*(Tamb-T[j])+T[j]\n",
    "                h[j] = (math.fabs(Tf-Tamb)*Cpair*Mair)/(S[j]*math.fabs(T0-T[j]))\n",
    "            T0 = s/len(S)\n",
    "            s = 0\n",
    "        return T0"
   ]
  },
  {
   "cell_type": "code",
   "execution_count": 45,
   "metadata": {},
   "outputs": [
    {
     "data": {
      "text/plain": [
       "313.9005716092588"
      ]
     },
     "execution_count": 45,
     "metadata": {},
     "output_type": "execute_result"
    }
   ],
   "source": [
    "temp_air(T, S, Tamb, Mair, Cpair,3)"
   ]
  },
  {
   "cell_type": "code",
   "execution_count": 46,
   "metadata": {},
   "outputs": [],
   "source": [
    "def temp_air_tout_instant(T, S, Tamb, Mair, Cpair, tmax) :\n",
    "    \"\"\"\n",
    "    dict[str:Number]^2*Number^5 -> Number\n",
    "    rend la température de l'air de l'unité centrale pour tout instant t\n",
    "    \"\"\"\n",
    "    TT = [(0,Tamb)]\n",
    "    for i in range(1,tmax+1) :\n",
    "        TT.append((i,temp_air(T, S, Tamb, Mair, Cpair, i)))\n",
    "    return TT"
   ]
  },
  {
   "cell_type": "code",
   "execution_count": 47,
   "metadata": {},
   "outputs": [
    {
     "data": {
      "text/plain": [
       "[(0, 291.15),\n",
       " (1, 303.43890807353995),\n",
       " (2, 309.0539229993666),\n",
       " (3, 313.9005716092588),\n",
       " (4, 315.3117900062259),\n",
       " (5, 315.67000528281966),\n",
       " (6, 315.7186572807696),\n",
       " (7, 315.7290570430276),\n",
       " (8, 315.73196505174343),\n",
       " (9, 315.7328872292646),\n",
       " (10, 315.7331867365778)]"
      ]
     },
     "execution_count": 47,
     "metadata": {},
     "output_type": "execute_result"
    }
   ],
   "source": [
    "temp_air_tout_instant(T, S, Tamb, Mair, Cpair, tmax)"
   ]
  },
  {
   "cell_type": "code",
   "execution_count": 48,
   "metadata": {},
   "outputs": [],
   "source": [
    "def list_temps(T, S, Tamb, Mair, Cpair, tmax):\n",
    "    \"\"\"\n",
    "    \"\"\"\n",
    "    L = []\n",
    "    for i in temp_air_tout_instant(T, S, Tamb, Mair, Cpair, tmax) :\n",
    "        a,b = i\n",
    "        L.append(a)\n",
    "    return L\n",
    "\n",
    "def list_T(T, S, Tamb, Mair, Cpair, tmax):\n",
    "    \"\"\"\n",
    "    \"\"\"\n",
    "    L = []\n",
    "    for i in temp_air_tout_instant(T, S, Tamb, Mair, Cpair, tmax) :\n",
    "        a,b = i\n",
    "        L.append(b)\n",
    "    return L\n",
    "L1 = list_temps(T, S, Tamb, Mair, Cpair, tmax)\n",
    "L2 = list_T(T, S, Tamb, Mair, Cpair, tmax)"
   ]
  },
  {
   "cell_type": "code",
   "execution_count": 49,
   "metadata": {
    "scrolled": true
   },
   "outputs": [
    {
     "data": {
      "image/png": "[encoded data removed]",
      "text/plain": [
       "<Figure size 432x288 with 1 Axes>"
      ]
     },
     "metadata": {
      "needs_background": "light"
     },
     "output_type": "display_data"
    }
   ],
   "source": [
    "def plot_Temp(L1,L2):\n",
    "    '''\n",
    "    rend la courbe de l'évolution de la température au cours du temps\n",
    "    '''\n",
    "    plt.figure()\n",
    "    plt.plot(L1,L2)\n",
    "    plt.ylabel(\"Température (K)\")\n",
    "    plt.xlabel(\"Temps (s)\")\n",
    "    plt.show()\n",
    "    return\n",
    "\n",
    "plot_Temp(L1,L2)"
   ]
  },
  {
   "cell_type": "markdown",
   "metadata": {},
   "source": [
    "On remarque qu'avec les valeurs de températures qui montre une utilisation assez poussé de l'ordinateur, la température de l'air a l'intérieur de celui-ci croit très rapidement."
   ]
  },
  {
   "cell_type": "markdown",
   "metadata": {},
   "source": [
    "A présent, on va faire évoluer le modèle en posant que le pc vient de s'allumer et que la température des composants évolue au cours du temps. pour celà on utilise un modèle vu en physique au S1 où l'on étudie la température d'un processeur lorsqu'il est refroidi ou non. On peut alors appliquer ce modèle aux autres composants qui chauffent car ils fonctionnent de la même manière. Pour celà nous aurons besoin de la puissance apporté a chaque composants (P), de la température fournie par le ventilateur que l'on supose constante et égale à 291.15 K, de la resistence thermique (R) du dissipateur qui est supposé le même pour tout les composants, ainsi que de la capacité calorifique du processeur c'est à dire de l'acier, puisque les composants sont posé comme étant en acier."
   ]
  },
  {
   "cell_type": "code",
   "execution_count": 51,
   "metadata": {},
   "outputs": [],
   "source": [
    "# \"a\", alimentation\n",
    "# \"c\", carte graphique\n",
    "# \"p\", processeur\n",
    "# \"d\", disque dur\n",
    "# \"r\", RAM\n",
    "# \"cm\", carte mère\n",
    "\n",
    "Vu = 0.024 # volume de l'unité centrale en m^3\n",
    "\n",
    "Tamb = 291.15 # température ambiante en Kelvin\n",
    "\n",
    "Tvent = 291.15 # température des ventilateurs en Kelvin\n",
    "\n",
    "R = 0.5 # résistence thermique de l'aluminium en Watt/(mètre*Kelvin)\n",
    "\n",
    "S = {\"a\":0.0425,\n",
    "     \"c\":0.0379,\n",
    "     \"p\":0.0025,\n",
    "     \"d\":0.0356,\n",
    "     \"r\":0.01115,\n",
    "     \"cm\":0.0576} # surfaces de contactes composants/air en m^2\n",
    "\n",
    "M = {\"a\":3.62,\n",
    "     \"c\":0.591,\n",
    "     \"p\":0.023,\n",
    "     \"d\":0.73,\n",
    "     \"r\":0.12,\n",
    "     \"cm\":0.56} # masses composants en Kg\n",
    "\n",
    "C = {\"a\":435*M[\"a\"],\n",
    "     \"c\":435*M[\"c\"],\n",
    "     \"p\":435*M[\"p\"],\n",
    "     \"d\":435*M[\"d\"],\n",
    "     \"r\":435*M[\"r\"],\n",
    "     \"cm\":435*M[\"cm\"]} # capacités calorifiques composants = masse*chaleur massique acier à pression constante en J/K\n",
    "\n",
    "Mair = 1.225*(Vu-0.002412) # ro*Vair = ro*(V(unité centrale) - V(composants)) en kg\n",
    "\n",
    "Cpair = 1005 # chaleur massique de l'air à pression constante en J/(kg*K)\n",
    "\n",
    "tmax = 100 # temps en s"
   ]
  },
  {
   "cell_type": "code",
   "execution_count": 52,
   "metadata": {},
   "outputs": [],
   "source": [
    "def temp_comp(C, R, Tvent, Tamb, t) :\n",
    "    \"\"\"\n",
    "    dict[str:Number]*Number^4 -> list[tuple[int,dict[str:Number]]]\n",
    "    rend les valeurs de température pour chaque composants fourni par une puissance aléatoire à un instant t\n",
    "    \"\"\"\n",
    "    P = {\"a\":np.random.randint(80, 100 + 1),\n",
    "     \"c\":np.random.randint(75, 95 + 1),\n",
    "     \"p\":np.random.randint(45, 60 + 1),\n",
    "     \"d\":np.random.randint(8, 15 + 1),\n",
    "     \"r\":1,\n",
    "     \"cm\":np.random.randint(20, 35 + 1)} # puissance apportés aux composants en W\n",
    "    \n",
    "    if t == 0 :\n",
    "        return {\"a\":Tamb,\n",
    "     \"c\":Tamb,\n",
    "     \"p\":Tamb,\n",
    "     \"d\":Tamb,\n",
    "     \"r\":Tamb,\n",
    "     \"cm\":Tamb}\n",
    "    else :\n",
    "        T = dict()\n",
    "        for k in P :\n",
    "            T[k] = math.exp(-((P[k]/C[k])+(Tvent/(R*C[k])))*t)*(Tamb-P[k]*R-Tvent)+P[k]*R+Tvent\n",
    "        return T"
   ]
  },
  {
   "cell_type": "code",
   "execution_count": 53,
   "metadata": {},
   "outputs": [
    {
     "data": {
      "text/plain": [
       "{'a': 331.65, 'c': 332.15, 'p': 315.65, 'd': 297.15, 'r': 291.65, 'cm': 307.65}"
      ]
     },
     "execution_count": 53,
     "metadata": {},
     "output_type": "execute_result"
    }
   ],
   "source": [
    "temp_comp(C, R, Tvent, Tamb, 120)"
   ]
  },
  {
   "cell_type": "code",
   "execution_count": 54,
   "metadata": {},
   "outputs": [],
   "source": [
    "def temp_comp_tout_instant(C, R, Tvent, Tamb, tmax) :\n",
    "    \"\"\"\n",
    "    dict[str:Number]*Number^4 -> list[tuple[int,dict[str:Number]]]\n",
    "    rend les valeurs de température pour chaque composants fourni par une puissance aléatoire à tout instant\n",
    "    \"\"\"\n",
    "    TT = [(0,{\"a\":Tamb,\n",
    "     \"c\":Tamb,\n",
    "     \"p\":Tamb,\n",
    "     \"d\":Tamb,\n",
    "     \"r\":Tamb,\n",
    "     \"cm\":Tamb})]\n",
    "    for i in range(1,tmax+1) :\n",
    "        TT.append((i,temp_comp(C, R, Tvent, Tamb, i)))\n",
    "    return TT"
   ]
  },
  {
   "cell_type": "code",
   "execution_count": 55,
   "metadata": {},
   "outputs": [
    {
     "data": {
      "text/plain": [
       "[(0,\n",
       "  {'a': 291.15,\n",
       "   'c': 291.15,\n",
       "   'p': 291.15,\n",
       "   'd': 291.15,\n",
       "   'r': 291.15,\n",
       "   'cm': 291.15})"
      ]
     },
     "execution_count": 55,
     "metadata": {},
     "output_type": "execute_result"
    }
   ],
   "source": [
    "temp_comp_tout_instant(C, R, Tvent, Tamb, tmax)"
   ]
  },
  {
   "cell_type": "code",
   "execution_count": 56,
   "metadata": {},
   "outputs": [],
   "source": [
    "def list_temps2(C, R, Tvent, Tamb, tmax):\n",
    "    \"\"\"\n",
    "    \"\"\"\n",
    "    L = []\n",
    "    for i in temp_comp_tout_instant(C, R, Tvent, Tamb, tmax) :\n",
    "        a,b = i\n",
    "        L.append(a)\n",
    "    return L\n",
    "\n",
    "def list_T2(C, R, Tvent, Tamb, tmax):\n",
    "    \"\"\"\n",
    "    \"\"\"\n",
    "    keys = [\"a\",\"c\",\"p\",\"d\",\"r\",\"cm\"]\n",
    "    L = []\n",
    "    for i in temp_comp_tout_instant(C, R, Tvent, Tamb, tmax) :\n",
    "        a,b = i\n",
    "        L.append([b[k] for k in keys])\n",
    "    return L\n",
    "L1 = list_temps2(C, R, Tvent, Tamb, tmax)\n",
    "L2 = list_T2(C, R, Tvent, Tamb, tmax)"
   ]
  },
  {
   "cell_type": "code",
   "execution_count": 57,
   "metadata": {},
   "outputs": [
    {
     "data": {
      "image/png": "[encoded data removed]",
      "text/plain": [
       "<Figure size 432x288 with 1 Axes>"
      ]
     },
     "metadata": {
      "needs_background": "light"
     },
     "output_type": "display_data"
    }
   ],
   "source": [
    "def plot_Temp_comp(L1,L2):\n",
    "    '''\n",
    "    rend la courbe de l'évolution de la température des composants au cours du temps\n",
    "    '''\n",
    "    keys = [\"a\",\"c\",\"p\",\"d\",\"r\",\"cm\"]\n",
    "    plt.figure()\n",
    "    plt.plot(L1,L2)\n",
    "    plt.ylabel(\"Température (K)\")\n",
    "    plt.xlabel(\"Temps (s)\")\n",
    "    plt.show()\n",
    "    return\n",
    "\n",
    "plot_Temp(L1,L2)"
   ]
  },
  {
   "cell_type": "markdown",
   "metadata": {},
   "source": [
    "La courbe bleu correspond à l'alimentation,\n",
    "La jaune à la carte graphique,\n",
    "La verte au processeur,\n",
    "La marron à la carte mère,\n",
    "La rouge au disque dur,\n",
    "La violette au barette de RAM"
   ]
  },
  {
   "cell_type": "code",
   "execution_count": 58,
   "metadata": {},
   "outputs": [],
   "source": [
    "def temp_air_variable(S, C, R, Mair, Cpair, Tvent, Tamb, t):\n",
    "    \"\"\"\n",
    "    dict[str:Number]^2*Number^6 -> Number\n",
    "    rend la valeur de température de l'air à un instant t\n",
    "    \"\"\"\n",
    "    return temp_air(temp_comp(C, R, Tvent, Tamb, t), S, Tamb, Mair, Cpair, t)"
   ]
  },
  {
   "cell_type": "code",
   "execution_count": 59,
   "metadata": {},
   "outputs": [
    {
     "data": {
      "text/plain": [
       "313.65000000000003"
      ]
     },
     "execution_count": 59,
     "metadata": {},
     "output_type": "execute_result"
    }
   ],
   "source": [
    "temp_air_variable(S, C, R, Mair, Cpair, Tvent, Tamb, 3600)"
   ]
  },
  {
   "cell_type": "code",
   "execution_count": 60,
   "metadata": {},
   "outputs": [],
   "source": [
    "def temp_air_variable_tout_instant(S, C, R, Mair, Cpair, Tvent, Tamb, tmax) :\n",
    "    \"\"\"\n",
    "    dict[str:Number]^2*Number^6 -> Number\n",
    "    rend la valeur de température de l'air à tout instant t\n",
    "    \"\"\"\n",
    "    TT = [(0,Tamb)]\n",
    "    for i in range(1,tmax+1) :\n",
    "        TT.append((i,temp_air_variable(S, C, R, Mair, Cpair, Tvent, Tamb, i)))\n",
    "    return TT"
   ]
  },
  {
   "cell_type": "code",
   "execution_count": 61,
   "metadata": {},
   "outputs": [
    {
     "data": {
      "text/plain": [
       "[(0, 291.15),\n",
       " (1, 300.8807059745145),\n",
       " (2, 307.11097986879156),\n",
       " (3, 310.32376545565995),\n",
       " (4, 311.0238300231086),\n",
       " (5, 314.06411475030256),\n",
       " (6, 312.7059096526595),\n",
       " (7, 311.8461501290612),\n",
       " (8, 311.32204238077145),\n",
       " (9, 312.4897072619928),\n",
       " (10, 313.7125725458133),\n",
       " (11, 314.8320720171779),\n",
       " (12, 314.0210870762713),\n",
       " (13, 313.121736067948),\n",
       " (14, 315.04736816984024),\n",
       " (15, 314.05411974742884),\n",
       " (16, 311.64199679493237),\n",
       " (17, 312.89471780469063),\n",
       " (18, 313.9799109136579),\n",
       " (19, 314.98111755046074),\n",
       " (20, 312.731867763322),\n",
       " (21, 314.6490400598612),\n",
       " (22, 312.89937681222705),\n",
       " (23, 313.482916743728),\n",
       " (24, 312.3163936293793),\n",
       " (25, 313.64982320432273),\n",
       " (26, 312.9832219173863),\n",
       " (27, 314.8165914320162),\n",
       " (28, 314.23328674742635),\n",
       " (29, 312.9833037554359),\n",
       " (30, 313.149978058927),\n",
       " (31, 312.73331893464274),\n",
       " (32, 314.816658737642),\n",
       " (33, 313.9833278533401),\n",
       " (34, 313.3166627497513),\n",
       " (35, 312.64999757078704),\n",
       " (36, 313.89999854428135),\n",
       " (37, 313.2333322347575),\n",
       " (38, 312.39999928089554),\n",
       " (39, 314.2333328929838),\n",
       " (40, 313.73333302521615),\n",
       " (41, 311.56666645629093),\n",
       " (42, 313.6499998660065),\n",
       " (43, 312.5666665761821),\n",
       " (44, 313.4833332730538),\n",
       " (45, 313.9833333011001),\n",
       " (46, 314.9833333138528),\n",
       " (47, 312.8999999857997),\n",
       " (48, 312.4833333219499),\n",
       " (49, 312.23333332599674),\n",
       " (50, 314.3166666627292),\n",
       " (51, 313.1499999974324),\n",
       " (52, 314.23333333196643),\n",
       " (53, 312.5666666655245),\n",
       " (54, 312.9833333324404),\n",
       " (55, 312.7333333327861),\n",
       " (56, 314.2333333330855),\n",
       " (57, 314.06666666645384),\n",
       " (58, 314.3999999998928),\n",
       " (59, 313.6499999999225),\n",
       " (60, 313.899999999934),\n",
       " (61, 313.98333333330567),\n",
       " (62, 312.56666666664063),\n",
       " (63, 312.7333333333194),\n",
       " (64, 314.3999999999892),\n",
       " (65, 312.06666666665797),\n",
       " (66, 313.98333333332886),\n",
       " (67, 312.14999999999696),\n",
       " (68, 313.2333333333311),\n",
       " (69, 315.4833333333324),\n",
       " (70, 313.31666666666564),\n",
       " (71, 313.64999999999947),\n",
       " (72, 313.31666666666644),\n",
       " (73, 313.06666666666644),\n",
       " (74, 313.2333333333331),\n",
       " (75, 312.2333333333332),\n",
       " (76, 312.8166666666666),\n",
       " (77, 314.7333333333333),\n",
       " (78, 312.3166666666666),\n",
       " (79, 313.06666666666666),\n",
       " (80, 313.23333333333335),\n",
       " (81, 314.23333333333335),\n",
       " (82, 312.73333333333335),\n",
       " (83, 314.23333333333335),\n",
       " (84, 312.65000000000003),\n",
       " (85, 314.98333333333335),\n",
       " (86, 314.56666666666666),\n",
       " (87, 314.73333333333335),\n",
       " (88, 312.31666666666666),\n",
       " (89, 313.23333333333335),\n",
       " (90, 313.06666666666666),\n",
       " (91, 312.48333333333335),\n",
       " (92, 314.48333333333335),\n",
       " (93, 311.81666666666666),\n",
       " (94, 312.56666666666666),\n",
       " (95, 313.56666666666666),\n",
       " (96, 314.98333333333335),\n",
       " (97, 313.40000000000003),\n",
       " (98, 315.31666666666666),\n",
       " (99, 312.81666666666666),\n",
       " (100, 313.40000000000003)]"
      ]
     },
     "execution_count": 61,
     "metadata": {},
     "output_type": "execute_result"
    }
   ],
   "source": [
    "temp_air_variable_tout_instant(S, C, R, Mair, Cpair, Tvent, Tamb, tmax)"
   ]
  },
  {
   "cell_type": "code",
   "execution_count": 62,
   "metadata": {},
   "outputs": [],
   "source": [
    "def list_temps3(S, C, R, Mair, Cpair, Tvent, Tamb, tmax):\n",
    "    \"\"\"\n",
    "    \"\"\"\n",
    "    L = []\n",
    "    for i in temp_air_variable_tout_instant(S, C, R, Mair, Cpair, Tvent, Tamb, tmax) :\n",
    "        a,b = i\n",
    "        L.append(a)\n",
    "    return L\n",
    "\n",
    "def list_T3(S, C, R, Mair, Cpair, Tvent, Tamb, tmax):\n",
    "    \"\"\"\n",
    "    \"\"\"\n",
    "    L = []\n",
    "    for i in temp_air_variable_tout_instant(S, C, R, Mair, Cpair, Tvent, Tamb, tmax) :\n",
    "        a,b = i\n",
    "        L.append(b)\n",
    "    return L\n",
    "L1 = list_temps3(S, C, R, Mair, Cpair, Tvent, Tamb, tmax)\n",
    "L2 = list_T3(S, C, R, Mair, Cpair, Tvent, Tamb, tmax)"
   ]
  },
  {
   "cell_type": "code",
   "execution_count": 63,
   "metadata": {},
   "outputs": [
    {
     "data": {
      "image/png": "[encoded data removed]",
      "text/plain": [
       "<Figure size 432x288 with 1 Axes>"
      ]
     },
     "metadata": {
      "needs_background": "light"
     },
     "output_type": "display_data"
    }
   ],
   "source": [
    "def plot_Temp_variable(L1,L2):\n",
    "    '''\n",
    "    rend la courbe de l'évolution de la température au cours du temps\n",
    "    '''\n",
    "    plt.figure()\n",
    "    plt.plot(L1,L2)\n",
    "    plt.ylabel(\"Température (K)\")\n",
    "    plt.xlabel(\"Temps (s)\")\n",
    "    plt.show()\n",
    "    return\n",
    "\n",
    "plot_Temp(L1,L2)"
   ]
  },
  {
   "cell_type": "markdown",
   "metadata": {},
   "source": [
    "On remarque que si les températures des composants sont variables, la température de l'air à l'intérieur de l'unité centrale fluctue également. Cependant, l'air reste quand même chaud soit environ d'une moyenne de 40°C, c'est pourquoi il va falloir encore faire évoluer le modèle, cette fois ci en refroidissant l'air à l'aide de ventilateur."
   ]
  },
  {
   "cell_type": "markdown",
   "metadata": {},
   "source": [
    "le principe de ventilation de l'air d'un pc est d'expulser une quantité de l'air chaud à l'aide d'un ventilateur et de faire entrer de l'air extérieur à température ambiante. "
   ]
  },
  {
   "cell_type": "code",
   "execution_count": 65,
   "metadata": {},
   "outputs": [
    {
     "data": {
      "text/plain": [
       "0.021588"
      ]
     },
     "execution_count": 65,
     "metadata": {},
     "output_type": "execute_result"
    }
   ],
   "source": [
    "Vair = Vu - 0.002412 # volume air = volume unité centrale - volume composants\n",
    "Vair"
   ]
  },
  {
   "cell_type": "markdown",
   "metadata": {},
   "source": [
    "On sait que le débit d'air expulser par le ventilateur varira en fonction de la puissance apporté. On pourra utiliser la formule Débit = puissance/(capacité thermique volumique de l'air * différence de température)"
   ]
  },
  {
   "cell_type": "code",
   "execution_count": 164,
   "metadata": {},
   "outputs": [],
   "source": [
    "Vair = Vu - 0.002412 # volume air = volume unité centrale - volume composants en m^3\n",
    "\n",
    "Pvent = np.random.randint(1, 2 + 1) # puissance du ventilateur en W\n",
    "\n",
    "Ctair = 0.9699 # chaleur volumique de l'air en (W/s)/(m^3*K)"
   ]
  },
  {
   "cell_type": "code",
   "execution_count": 165,
   "metadata": {},
   "outputs": [],
   "source": [
    "def temp_air_vent(S, C, R, Mair, Cpair, Tvent, Tamb, t, Vair, Pvent, Ctair, Vu) :\n",
    "    \"\"\"\n",
    "    dict[str:Number]^2*Number^10 -> Number\n",
    "    rend la valeur de température de l'air à un instant t\n",
    "    \"\"\"\n",
    "    Dvent = 0.01747\n",
    "    return (temp_air_variable(S, C, R, Mair, Cpair, Tvent, Tamb, t)*(Vair-Dvent)+Tamb*Dvent)/Vair"
   ]
  },
  {
   "cell_type": "code",
   "execution_count": 166,
   "metadata": {},
   "outputs": [
    {
     "data": {
      "text/plain": [
       "295.73936653671177"
      ]
     },
     "execution_count": 166,
     "metadata": {},
     "output_type": "execute_result"
    }
   ],
   "source": [
    "temp_air_vent(S, C, R, Mair, Cpair, Tvent, Tamb, 10, Vair, Pvent, Ctair, Vu)"
   ]
  },
  {
   "cell_type": "code",
   "execution_count": 167,
   "metadata": {},
   "outputs": [
    {
     "data": {
      "text/plain": [
       "0.04470776811776543"
      ]
     },
     "execution_count": 167,
     "metadata": {},
     "output_type": "execute_result"
    }
   ],
   "source": [
    "Pvent/(Ctair*math.fabs(Tamb-temp_air_variable(S, C, R, Mair, Cpair, Tvent, Tamb, 10)))"
   ]
  },
  {
   "cell_type": "code",
   "execution_count": 79,
   "metadata": {},
   "outputs": [
    {
     "data": {
      "text/plain": [
       "1.256"
      ]
     },
     "execution_count": 79,
     "metadata": {},
     "output_type": "execute_result"
    }
   ],
   "source": [
    "Ctair"
   ]
  },
  {
   "cell_type": "code",
   "execution_count": null,
   "metadata": {},
   "outputs": [],
   "source": []
  }
 ],
 "metadata": {
  "kernelspec": {
   "display_name": "Python 3",
   "language": "python",
   "name": "python3"
  },
  "language_info": {
   "codemirror_mode": {
    "name": "ipython",
    "version": 3
   },
   "file_extension": ".py",
   "mimetype": "text/x-python",
   "name": "python",
   "nbconvert_exporter": "python",
   "pygments_lexer": "ipython3",
   "version": "3.7.1"
  }
 },
 "nbformat": 4,
 "nbformat_minor": 2
}
