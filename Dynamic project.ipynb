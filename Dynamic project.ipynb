{
 "cells": [
  {
   "cell_type": "code",
   "execution_count": 1,
   "metadata": {},
   "outputs": [],
   "source": [
    "import numpy as np\n",
    "import matplotlib.pyplot as plt\n",
    "import math"
   ]
  },
  {
   "cell_type": "markdown",
   "metadata": {},
   "source": [
    "Dynamique de température d'une salle informatique"
   ]
  },
  {
   "cell_type": "markdown",
   "metadata": {},
   "source": [
    "I) modèle de l'ordinateur"
   ]
  },
  {
   "cell_type": "markdown",
   "metadata": {},
   "source": [
    "Le but de cette partie est de modéliser la chaleure dégagée par un ordinateur. On suppose ici que le pc possède une unité centrale dont on précisera les dimenssions. De plus, les composants et leurs capacités sont également choisis au préalable. L'unité centrale ainsi que tout les composants sont considéré comme en acier. Enfin on posera que les épaisseur des boitier des composants est la même pour tous et de 5*10^(-3) m"
   ]
  },
  {
   "cell_type": "markdown",
   "metadata": {},
   "source": [
    "Tout d'abord, commençons par trouver les variation de températures de l'air dans l'unité centrale qui est initialement à température ambiante.\n",
    "On utilisera la formule T(t) = T(composant) + (T0 - T(composant))*exp((-h*S/(m*Cp))*t) où h est le coefficient d'échange, S est la surface de contacte, m est la masse et Cp est la chaleur massique à pression constante. On supposera de plus qu'une homogénéisation de l'air se fait en 10 secondes."
   ]
  },
  {
   "cell_type": "code",
   "execution_count": 2,
   "metadata": {},
   "outputs": [],
   "source": [
    "# \"a\", alimentation\n",
    "# \"c\", carte graphique\n",
    "# \"p\", processeur\n",
    "# \"d\", disque dur\n",
    "# \"r\", RAM\n",
    "# \"cm\", carte mère\n",
    "\n",
    "Vu = 0.024276 # volume de l'unité centrale en m^3\n",
    "\n",
    "Tamb = 291.15 # température ambiante en Kelvin\n",
    "\n",
    "T = {\"d\":296.15,\n",
    "     \"r\":291.65,\n",
    "     \"cm\":307.15} # températures des composants en K\n",
    "\n",
    "S = {\"d\":0.0356,\n",
    "     \"r\":0.01115,\n",
    "     \"cm\":0.0576} # surfaces de contactes composants/air en m^2\n",
    "\n",
    "M = {\"a\":3.62,\n",
    "     \"c\":0.591,\n",
    "     \"p\":0.023,\n",
    "     \"d\":0.73,\n",
    "     \"r\":0.12,\n",
    "     \"cm\":0.56} # masses composants en Kg\n",
    "\n",
    "C = {\"a\":435*M[\"a\"],\n",
    "     \"c\":435*M[\"c\"],\n",
    "     \"p\":435*M[\"p\"],\n",
    "     \"d\":435*M[\"d\"],\n",
    "     \"r\":435*M[\"r\"],\n",
    "     \"cm\":435*M[\"cm\"]} # capacités calorifiques composants = masse*chaleur massique acier à pression constante en J/K\n",
    "\n",
    "E = {\"d\":T[\"d\"]*C[\"d\"],\n",
    "     \"r\":T[\"r\"]*C[\"r\"],\n",
    "     \"cm\":T[\"cm\"]*C[\"cm\"]} # énergie des composants = température*capacité calorifiques en J\n",
    "\n",
    "Mair = 1.225*(Vu-0.002412) # ro*Vair = ro*(V(unité centrale) - V(composants)) en kg\n",
    "\n",
    "Cpair = 1005 # chaleur massique de l'air à pression constante en J/(kg*K)\n",
    "\n",
    "Tf = (T[\"d\"]+T[\"r\"]+T[\"cm\"])/len(T) # température finale de l'air dans l'unité centrale en K\n",
    "\n",
    "tmax = 30"
   ]
  },
  {
   "cell_type": "code",
   "execution_count": 3,
   "metadata": {},
   "outputs": [
    {
     "data": {
      "text/plain": [
       "298.31666666666666"
      ]
     },
     "execution_count": 3,
     "metadata": {},
     "output_type": "execute_result"
    }
   ],
   "source": [
    "Tf"
   ]
  },
  {
   "cell_type": "code",
   "execution_count": 4,
   "metadata": {},
   "outputs": [],
   "source": [
    "def temp_air(T, S, Tamb, Mair, Cpair, t):\n",
    "    \"\"\"\n",
    "    dict[str:Number]^2*Number^4*int -> Number\n",
    "    rend la température de l'air de l'unité centrale à un instant t\n",
    "    \"\"\"\n",
    "    T0 = Tamb\n",
    "    h = {\"d\":(math.fabs(Tf-Tamb)*Cpair*Mair)/(S[\"d\"]*math.fabs(T0-T[\"d\"])*2),\n",
    "         \"r\":(math.fabs(Tf-Tamb)*Cpair*Mair)/(S[\"r\"]*math.fabs(T0-T[\"r\"])*2),\n",
    "         \"cm\":(math.fabs(Tf-Tamb)*Cpair*Mair)/(S[\"cm\"]*math.fabs(T0-T[\"cm\"])*2)}\n",
    "    s = 0\n",
    "    if t == 0 :\n",
    "        return T0\n",
    "    else :\n",
    "        for i in range(2,t+1,2) :\n",
    "            for j in S :\n",
    "                s += math.exp((-h[j]*S[j]*i)/(Mair*Cpair))*(Tamb-T[j])+T[j]\n",
    "                h[j] = (math.fabs(Tf-Tamb)*Cpair*Mair)/(S[j]*math.fabs(T0-T[j])*2)\n",
    "            T0 = s/len(S)\n",
    "            s = 0\n",
    "    return T0"
   ]
  },
  {
   "cell_type": "code",
   "execution_count": 5,
   "metadata": {},
   "outputs": [
    {
     "data": {
      "text/plain": [
       "298.17829115388406"
      ]
     },
     "execution_count": 5,
     "metadata": {},
     "output_type": "execute_result"
    }
   ],
   "source": [
    "temp_air(T, S, Tamb, Mair, Cpair,10)"
   ]
  },
  {
   "cell_type": "code",
   "execution_count": 6,
   "metadata": {},
   "outputs": [],
   "source": [
    "def temp_air_tout_instant(T, S, Tamb, Mair, Cpair, tmax) :\n",
    "    \"\"\"\n",
    "    dict[str:Number]^2*Number^5 -> Number\n",
    "    rend la température de l'air de l'unité centrale pour tout instant t\n",
    "    \"\"\"\n",
    "    TT = []\n",
    "    for i in range(0,tmax+1,2) :\n",
    "        TT.append((i,temp_air(T, S, Tamb, Mair, Cpair, i)))\n",
    "    return TT"
   ]
  },
  {
   "cell_type": "code",
   "execution_count": 7,
   "metadata": {},
   "outputs": [
    {
     "data": {
      "text/plain": [
       "[(0, 291.15),\n",
       " (2, 294.511370026634),\n",
       " (4, 296.0444276873064),\n",
       " (6, 297.3433642900613),\n",
       " (8, 297.91281354802055),\n",
       " (10, 298.17829115388406),\n",
       " (12, 298.26575693696867),\n",
       " (14, 298.2967027333666),\n",
       " (16, 298.3082368794374),\n",
       " (18, 298.31300071051174),\n",
       " (20, 298.3150531002331),\n",
       " (22, 298.31595303945005),\n",
       " (24, 298.31635035467804),\n",
       " (26, 298.31652631087104),\n",
       " (28, 298.31660435297516),\n",
       " (30, 298.31663899339196)]"
      ]
     },
     "execution_count": 7,
     "metadata": {},
     "output_type": "execute_result"
    }
   ],
   "source": [
    "temp_air_tout_instant(T, S, Tamb, Mair, Cpair, tmax)"
   ]
  },
  {
   "cell_type": "code",
   "execution_count": 8,
   "metadata": {},
   "outputs": [],
   "source": [
    "def list_temps(T, S, Tamb, Mair, Cpair, tmax):\n",
    "    \"\"\"\n",
    "    \"\"\"\n",
    "    L = []\n",
    "    for i in temp_air_tout_instant(T, S, Tamb, Mair, Cpair, tmax) :\n",
    "        a,b = i\n",
    "        L.append(a)\n",
    "    return L\n",
    "\n",
    "def list_T(T, S, Tamb, Mair, Cpair, tmax):\n",
    "    \"\"\"\n",
    "    \"\"\"\n",
    "    L = []\n",
    "    for i in temp_air_tout_instant(T, S, Tamb, Mair, Cpair, tmax) :\n",
    "        a,b = i\n",
    "        L.append(b)\n",
    "    return L\n",
    "L1 = list_temps(T, S, Tamb, Mair, Cpair, tmax)\n",
    "L2 = list_T(T, S, Tamb, Mair, Cpair, tmax)"
   ]
  },
  {
   "cell_type": "code",
   "execution_count": 9,
   "metadata": {
    "scrolled": true
   },
   "outputs": [
    {
     "data": {
      "image/png": "[encoded data removed]",
      "text/plain": [
       "<Figure size 432x288 with 1 Axes>"
      ]
     },
     "metadata": {
      "needs_background": "light"
     },
     "output_type": "display_data"
    }
   ],
   "source": [
    "def plot_Temp(L1,L2):\n",
    "    '''\n",
    "    rend la courbe de l'évolution de la température au cours du temps\n",
    "    '''\n",
    "    plt.figure()\n",
    "    plt.plot(L1,L2)\n",
    "    plt.ylabel(\"Température (K)\")\n",
    "    plt.xlabel(\"Temps (s)\")\n",
    "    plt.show()\n",
    "    return\n",
    "\n",
    "plot_Temp(L1,L2)"
   ]
  },
  {
   "cell_type": "markdown",
   "metadata": {},
   "source": [
    "On remarque qu'avec les valeurs de températures qui montre une utilisation assez poussé de l'ordinateur, la température de l'air a l'intérieur de celui-ci croit très rapidement."
   ]
  },
  {
   "cell_type": "markdown",
   "metadata": {},
   "source": [
    "A présent, on va faire évoluer le modèle en posant que le pc vient de s'allumer et que la température des composants évolue au cours du temps. pour celà on utilise un modèle vu en physique au S1 où l'on étudie la température d'un processeur lorsqu'il est refroidi ou non. On peut alors appliquer ce modèle aux autres composants qui chauffent car ils fonctionnent de la même manière. Pour celà nous aurons besoin de la puissance apporté a chaque composants (P), de la température fournie par le ventilateur que l'on supose constante et égale à 291.15 K, de la resistence thermique (R) du dissipateur qui est supposé le même pour tout les composants, ainsi que de la capacité calorifique du processeur c'est à dire de l'acier, puisque les composants sont posé comme étant en acier."
   ]
  },
  {
   "cell_type": "code",
   "execution_count": 10,
   "metadata": {
    "scrolled": true
   },
   "outputs": [],
   "source": [
    "# \"a\", alimentation\n",
    "# \"c\", carte graphique\n",
    "# \"p\", processeur\n",
    "# \"d\", disque dur\n",
    "# \"r\", RAM\n",
    "# \"cm\", carte mère\n",
    " \n",
    "Vu = 0.024 # volume de l'unité centrale en m^3\n",
    "\n",
    "Vair = Vu - 0.002412 # volume air = volume unité centrale - volume composants\n",
    "\n",
    "Tamb = 291.15 # température ambiante en Kelvin\n",
    "\n",
    "Ralu = 0.35 # résistence thermique de l'aluminium en K/W\n",
    "\n",
    "Rair = 0.11 # résistence thermique de l'air en K/W\n",
    "\n",
    "Cpalu = 897 # chaleur massique de l'aluminium à pression constante en J/(kg*K)\n",
    "\n",
    "M = {\"a\":3.62,\n",
    "     \"c\":0.023,\n",
    "     \"p\":0.023,\n",
    "     \"d\":0.73,\n",
    "     \"r\":0.12,\n",
    "     \"cm\":0.56} # masses composants en Kg\n",
    "\n",
    "C = {\"a\":435*M[\"a\"],\n",
    "     \"c\":435*M[\"c\"],\n",
    "     \"p\":435*M[\"p\"],\n",
    "     \"d\":435*M[\"d\"],\n",
    "     \"r\":435*M[\"r\"],\n",
    "     \"cm\":435*M[\"cm\"]} # capacités calorifiques composants = masse*chaleur massique acier à pression constante en J/K\n",
    "\n",
    "Malu = {\"p\":0.15,\n",
    "        \"a\":0.13,\n",
    "        \"c\":0.084} # masse des dissipateur en kg\n",
    "\n",
    "Calu = {\"p\":897*Malu[\"p\"],\n",
    "        \"a\":897*Malu[\"a\"],\n",
    "        \"c\":897*Malu[\"c\"]} # capacité calorifique des dissipateur\n",
    "\n",
    "Mvent = {\"p\":1.225*7.41*10**(-3)*2,\n",
    "        \"a\":1.225*9.91*10**(-3)*2,\n",
    "        \"c\":1.225*8.64*10**(-3)*2} # masse de l'air brassé par les ventilateurs en kg\n",
    "\n",
    "Scomp_air = {\"d\":0.0356,\n",
    "     \"r\":0.01115,\n",
    "     \"cm\":0.0576} # surfaces de contactes composants/air en m^2\n",
    "\n",
    "Scomp_dis = {\"p\":0.0025,\n",
    "            \"a\":0.00345,\n",
    "            \"c\":0.0048} # surfaces de contactes composants/dissipateurs en m^2\n",
    "\n",
    "Sdis_vent = {\"p\":0.04005,\n",
    "            \"a\":0.2763,\n",
    "            \"c\":0.03936} # surfaces de contactes dissipateurs/air en m^2\n",
    "\n",
    "\n",
    "\n",
    "Mair = 1.225*(Vu-0.002412) # ro*Vair = ro*(V(unité centrale) - V(composants)) en kg\n",
    "\n",
    "Cpair = 1005 # chaleur massique de l'air à pression constante en J/(kg*K)\n",
    "\n",
    "tmax = 12 # temps en s"
   ]
  },
  {
   "cell_type": "code",
   "execution_count": 11,
   "metadata": {},
   "outputs": [],
   "source": [
    "def temp_comp_dis(Scomp_dis, Scomp_air, Sdis_vent, Mvent, Malu, C, Ralu, Rair, Vair, Tamb, Cpalu, t) :\n",
    "    \"\"\"\n",
    "    dict[str:Number]^6*Number^6 -> tuple[dict[str:Number],dict[str:number]]\n",
    "    rend la température des composants ainsi que celle des dissipateurs à un instant t\n",
    "    \"\"\"\n",
    "    \n",
    "    P = {\"a\":np.random.randint(80, 100 + 1),\n",
    "     \"c\":np.random.randint(75, 95 + 1),\n",
    "     \"p\":np.random.randint(45, 60 + 1),\n",
    "     \"d\":np.random.randint(8, 15 + 1),\n",
    "     \"r\":1,\n",
    "     \"cm\":np.random.randint(20, 35 + 1)} # puissance apportés aux composants en W\n",
    "    \n",
    "    if t == 0 :\n",
    "        return ({\"a\":Tamb,\n",
    "     \"c\":Tamb,\n",
    "     \"p\":Tamb,\n",
    "     \"d\":Tamb,\n",
    "     \"r\":Tamb,\n",
    "     \"cm\":Tamb}, {\"p\":Tamb,\n",
    "            \"a\":Tamb,\n",
    "            \"c\":Tamb})\n",
    "    else :\n",
    "        Keys = [\"d\", \"r\", \"cm\"]\n",
    "        \n",
    "        Tair = Tamb\n",
    "        \n",
    "        T0 = Tamb\n",
    "        \n",
    "        s = 0\n",
    "        \n",
    "        hcomp_air = {\"d\":0,\n",
    "            \"r\":0,\n",
    "            \"cm\":0}\n",
    "        \n",
    "        hcomp_dis = {\"p\":0,\n",
    "            \"a\":0,\n",
    "            \"c\":0}\n",
    "        \n",
    "        Tdis = {\"p\":Tamb,\n",
    "            \"a\":Tamb,\n",
    "            \"c\":Tamb}\n",
    "        \n",
    "        Tcomp = {\"a\":Tamb,\n",
    "     \"c\":Tamb,\n",
    "     \"p\":Tamb,\n",
    "     \"d\":Tamb,\n",
    "     \"r\":Tamb,\n",
    "     \"cm\":Tamb}\n",
    "        \n",
    "        Tvent = {\"p\":Tair,\n",
    "            \"a\":Tair,\n",
    "            \"c\":Tair}\n",
    "        \n",
    "        chaleur = {\"p\":0,\n",
    "            \"a\":0,\n",
    "            \"c\":0}\n",
    "        \n",
    "        Tfalu = {\"p\":math.exp(-((60/C[\"p\"])+(Tvent[\"p\"]/(Ralu*C[\"p\"])))*90)*(-60*Ralu-Tvent[\"p\"])+60*Ralu+Tvent[\"p\"],\n",
    "        \"a\":math.exp(-((100/C[\"a\"])+(Tvent[\"a\"]/(Ralu*C[\"a\"])))*90)*(-100*Ralu-Tvent[\"a\"])+100*Ralu+Tvent[\"a\"],\n",
    "        \"c\":math.exp(-((90/C[\"c\"])+(Tvent[\"c\"]/(Ralu*C[\"c\"])))*90)*(-95*Ralu-Tvent[\"c\"])+95*Ralu+Tvent[\"c\"]}\n",
    "        \n",
    "        hdis_vent = {\"p\":0,\n",
    "            \"a\":0,\n",
    "            \"c\":0}\n",
    "        \n",
    "        hvent_dis = {\"p\":0,\n",
    "            \"a\":0,\n",
    "            \"c\":0}\n",
    "        \n",
    "        Pdis = {\"p\":0,\n",
    "            \"a\":0,\n",
    "            \"c\":0}\n",
    "        \n",
    "        for i in range(1,t+1,2) :\n",
    "            for j in Keys :\n",
    "                Tcomp[j] = math.exp(-((P[j]/C[j])+(Tair/(Rair*C[j])))*i)*(-P[j]*Rair)+P[j]*Rair+Tair\n",
    "            hcomp_air[j] = (math.fabs(Tf-Tamb)*Cpair*Mair)/(S[j]*math.fabs(T0-T[j])*2)\n",
    "            s = math.exp((-hcomp_air[\"d\"]*Scomp_air[\"d\"]*t)/(Mair*Cpair))*(Tamb-Tcomp[\"d\"])+Tcomp[\"d\"] + math.exp((-hcomp_air[\"r\"]*Scomp_air[\"r\"]*t)/(Mair*Cpair))*(Tamb-Tcomp[\"r\"])+Tcomp[\"r\"] + math.exp((-hcomp_air[\"cm\"]*Scomp_air[\"cm\"]*t)/(Mair*Cpair))*(Tamb-Tcomp[\"cm\"])+Tcomp[\"cm\"]\n",
    "            T0 = s/len(Scomp_air)\n",
    "            for k in Scomp_dis :\n",
    "                if (Tcomp[k] <= Tfalu[k]) or (Tcomp[k] == Tdis[k] == Tamb) :\n",
    "                    Tcomp[k] = math.exp(-((P[k]/C[k])+(Tair/(Ralu*C[k])))*i)*(-P[k]*Ralu)+P[k]*Ralu+Tair\n",
    "                    \n",
    "                    hcomp_dis[k] = (math.fabs(Tfalu[k]-Tamb)*Cpalu*Malu[k])/(Scomp_dis[k]*math.fabs(Tdis[k]-Tcomp[k])*2)\n",
    "                    \n",
    "                    Tdis[k] = math.exp((-hcomp_dis[k]*Scomp_dis[k]*i)/(Malu[k]*Cpalu))*(Tamb-Tcomp[k])+Tcomp[k]\n",
    "                    \n",
    "                    hdis_vent[k] = (math.fabs(Tfalu[k]-Tamb)*Cpair*Mvent[k])/(Sdis_vent[k]*math.fabs(Tair-Tdis[k])*2)\n",
    "                    \n",
    "                    Tvent[k] = math.exp((-hdis_vent[k]*Sdis_vent[k]*i)/(Mvent[k]*Cpair))*(Tamb-Tdis[k])+Tdis[k]\n",
    "                    \n",
    "                    chaleur[k] = Mvent[k]*Cpair*math.fabs(Tair-Tvent[k])\n",
    "                    \n",
    "                    Tdis[k] = Tdis[k] - chaleur[k]/(Malu[k]*Cpalu)\n",
    "                else :\n",
    "                    Tcomp[k] = (P[k]/C[k])*i+Tfalu[k]\n",
    "                        \n",
    "                    Tdis[k] = Tcomp[k]\n",
    "                        \n",
    "                    Tvent[k] = Tdis[k]\n",
    "                    \n",
    "            Tfalu = {\"p\":math.exp(-((60/C[\"p\"])+(Tair/(Ralu*C[\"p\"])))*90)*(-60*Ralu-Tair)+60*Ralu+Tair,\n",
    "        \"a\":math.exp(-((100/C[\"a\"])+(Tair/(Ralu*C[\"a\"])))*90)*(-100*Ralu-Tair)+100*Ralu+Tair,\n",
    "        \"c\":math.exp(-((95/C[\"c\"])+(Tair/(Ralu*C[\"c\"])))*90)*(-95*Ralu-Tair)+95*Ralu+Tair}\n",
    "\n",
    "            Tair = ((Vair-7.41*10**(-3)*2-9.91*10**(-3)*2-8.64*10**(-3)*2)*T0+7.41*10**(-3)*2*Tvent[\"p\"]+9.91*10**(-3)*2*Tvent[\"a\"]+8.64*10**(-3)*2*Tvent[\"c\"])/Vair\n",
    "            \n",
    "    return (Tcomp, Tdis)"
   ]
  },
  {
   "cell_type": "code",
   "execution_count": 12,
   "metadata": {},
   "outputs": [
    {
     "data": {
      "text/plain": [
       "({'a': 679.1445628764657,\n",
       "  'c': 679.4950596294565,\n",
       "  'p': 665.8450596294565,\n",
       "  'd': 647.5850596294565,\n",
       "  'r': 646.7050596294565,\n",
       "  'cm': 648.7950596294565},\n",
       " {'p': 656.7961288263615, 'a': 667.7819820227159, 'c': 665.6950855704519})"
      ]
     },
     "execution_count": 12,
     "metadata": {},
     "output_type": "execute_result"
    }
   ],
   "source": [
    "temp_comp_dis(Scomp_dis, Scomp_air, Sdis_vent, Mvent, Malu, C, Ralu, Rair, Vair, Tamb, Cpalu, 10)"
   ]
  },
  {
   "cell_type": "code",
   "execution_count": 13,
   "metadata": {},
   "outputs": [],
   "source": [
    "def temp_comp_dis_tout_instant(Scomp_dis, Scomp_air, Sdis_vent, Mvent, Malu, C, Ralu, Rair, Vair, Tamb, Cpalu, tmax) :\n",
    "    \"\"\"\n",
    "    dict[str:Number]^6*Number^5 -> tuple[dict[str:Number],dict[str:number]]\n",
    "    rend la température des composants ainsi que celle des dissipateurs à un instant t\n",
    "    \"\"\"\n",
    "        \n",
    "    TT = []\n",
    "    for i in range(0,tmax+1,2) :\n",
    "        a,b = temp_comp_dis(Scomp_dis, Scomp_air, Sdis_vent, Mvent, Malu, C, Ralu, Rair, Vair, Tamb, Cpalu, i)\n",
    "        TT.append((i,a))\n",
    "    return TT"
   ]
  },
  {
   "cell_type": "code",
   "execution_count": 14,
   "metadata": {},
   "outputs": [
    {
     "data": {
      "text/plain": [
       "[(0,\n",
       "  {'a': 291.15,\n",
       "   'c': 291.15,\n",
       "   'p': 291.15,\n",
       "   'd': 291.15,\n",
       "   'r': 291.15,\n",
       "   'cm': 291.15}),\n",
       " (2,\n",
       "  {'a': 304.4454831974764,\n",
       "   'c': 321.59999999999997,\n",
       "   'p': 307.25,\n",
       "   'd': 292.4696950248281,\n",
       "   'r': 291.26,\n",
       "   'cm': 294.9999362813136}),\n",
       " (4,\n",
       "  {'a': 334.3341924336943,\n",
       "   'c': 338.3334183363092,\n",
       "   'p': 329.5834183363092,\n",
       "   'd': 310.2734183363065,\n",
       "   'r': 309.3934183363092,\n",
       "   'cm': 312.0334183363092}),\n",
       " (6,\n",
       "  {'a': 388.4633668281257,\n",
       "   'c': 384.8747353977771,\n",
       "   'p': 375.7747353977771,\n",
       "   'd': 358.17473539777706,\n",
       "   'r': 356.6347353977771,\n",
       "   'cm': 360.2647353977771}),\n",
       " (8,\n",
       "  {'a': 474.53452542475713,\n",
       "   'c': 471.1070826579093,\n",
       "   'p': 461.65708265790926,\n",
       "   'd': 445.9370826579093,\n",
       "   'r': 444.6170826579093,\n",
       "   'cm': 447.58708265790926}),\n",
       " (10,\n",
       "  {'a': 654.5756254168517,\n",
       "   'c': 654.5762636602179,\n",
       "   'p': 646.8762636602179,\n",
       "   'd': 627.5662636602179,\n",
       "   'r': 626.686263660218,\n",
       "   'cm': 629.766263660218}),\n",
       " (12,\n",
       "  {'a': 1113.5102389627384,\n",
       "   'c': 1112.8102389702306,\n",
       "   'p': 1097.7602389702304,\n",
       "   'd': 1081.0102389702304,\n",
       "   'r': 1080.0202389702304,\n",
       "   'cm': 1082.6602389702305})]"
      ]
     },
     "execution_count": 14,
     "metadata": {},
     "output_type": "execute_result"
    }
   ],
   "source": [
    "temp_comp_dis_tout_instant(Scomp_dis, Scomp_air, Sdis_vent, Mvent, Malu, C, Ralu, Rair, Vair, Tamb, Cpalu, tmax)"
   ]
  },
  {
   "cell_type": "code",
   "execution_count": 15,
   "metadata": {},
   "outputs": [],
   "source": [
    "def list_temps2(Scomp_dis, Scomp_air, Sdis_vent, Mvent, Malu, C, Ralu, Rair, Vair, Tamb, Cpalu, tmax):\n",
    "    \"\"\"\n",
    "    \"\"\"\n",
    "    L = []\n",
    "    for i in temp_comp_dis_tout_instant(Scomp_dis, Scomp_air, Sdis_vent, Mvent, Malu, C, Ralu, Rair, Vair, Tamb, Cpalu, tmax) :\n",
    "        a,b = i\n",
    "        L.append(a)\n",
    "    return L\n",
    "\n",
    "def list_T2(Scomp_dis, Scomp_air, Sdis_vent, Mvent, Malu, C, Ralu, Rair, Vair, Tamb, Cpalu, tmax):\n",
    "    \"\"\"\n",
    "    \"\"\"\n",
    "    L = []\n",
    "    for i in temp_comp_dis_tout_instant(Scomp_dis, Scomp_air, Sdis_vent, Mvent, Malu, C, Ralu, Rair, Vair, Tamb, Cpalu, tmax) :\n",
    "        a,b = i\n",
    "        L0 = []\n",
    "        for j in b :\n",
    "            L0.append(b[j])\n",
    "        L.append(L0)\n",
    "    return L\n",
    "L1 = list_temps2(Scomp_dis, Scomp_air, Sdis_vent, Mvent, Malu, C, Ralu, Rair, Vair, Tamb, Cpalu, tmax)\n",
    "L2 = list_T2(Scomp_dis, Scomp_air, Sdis_vent, Mvent, Malu, C, Ralu, Rair, Vair, Tamb, Cpalu, tmax)"
   ]
  },
  {
   "cell_type": "code",
   "execution_count": 16,
   "metadata": {
    "scrolled": false
   },
   "outputs": [
    {
     "data": {
      "image/png": "[encoded data removed]",
      "text/plain": [
       "<Figure size 432x288 with 1 Axes>"
      ]
     },
     "metadata": {
      "needs_background": "light"
     },
     "output_type": "display_data"
    }
   ],
   "source": [
    "def plot_Temp(L1,L2):\n",
    "    plt.figure()\n",
    "    plt.plot(L1,L2)\n",
    "    plt.xlabel(\"Temps en secondes\")\n",
    "    plt.ylabel(\"Température en Kelvin\")\n",
    "    plt.show()\n",
    "    return\n",
    "\n",
    "plot_Temp(L1,L2)"
   ]
  },
  {
   "cell_type": "markdown",
   "metadata": {},
   "source": [
    "La courbe bleu correspond à l'alimentation,\n",
    "La jaune à la carte graphique,\n",
    "La verte au processeur,\n",
    "La marron à la carte mère,\n",
    "La rouge au disque dur,\n",
    "La violette au barette de RAM\n",
    "\n",
    "On remarque que si le pc est isolé, on obteint des valeurs beaucoup trop élevée mais logiques.\n",
    "On va à présent améliorer le modèle en ventilant le pc.\n",
    "\n",
    "Le programe est le même que celui vu précédément mais seul la température de l'air va varier et donc va maintenir les composants a températures correcte."
   ]
  },
  {
   "cell_type": "code",
   "execution_count": 17,
   "metadata": {},
   "outputs": [],
   "source": [
    "Dvent = 0.01747 # débit d'air explusé de lordinateur en m^3/s\n",
    "\n",
    "tmax = 50"
   ]
  },
  {
   "cell_type": "code",
   "execution_count": 18,
   "metadata": {},
   "outputs": [],
   "source": [
    "def temp_ordi(Scomp_dis, Scomp_air, Sdis_vent, Mvent, Malu, C, Ralu, Rair, Vair, Tamb, Cpalu, Dvent, t) :\n",
    "    \"\"\"\n",
    "    dict[str:Number]^6*Number^6 -> tuple[tuple[dict[str:Number],dict[str:Number]],tuple[dict[str:number],Number]]\n",
    "    rend la température des composants, des dissipateurs, de l'air expulsé et de l'air des ventilateur à un instant t\n",
    "    \"\"\"\n",
    "    \n",
    "    P = {\"a\":np.random.randint(80, 100 + 1),\n",
    "     \"c\":np.random.randint(75, 95 + 1),\n",
    "     \"p\":np.random.randint(45, 60 + 1),\n",
    "     \"d\":np.random.randint(8, 15 + 1),\n",
    "     \"r\":1,\n",
    "     \"cm\":np.random.randint(20, 35 + 1)} # puissance apportés aux composants en W\n",
    "    \n",
    "    if t == 0 :\n",
    "        return (({\"a\":Tamb,\n",
    "     \"c\":Tamb,\n",
    "     \"p\":Tamb,\n",
    "     \"d\":Tamb,\n",
    "     \"r\":Tamb,\n",
    "     \"cm\":Tamb}, {\"p\":Tamb,\n",
    "            \"a\":Tamb,\n",
    "            \"c\":Tamb}),({\"p\":Tamb,\n",
    "            \"a\":Tamb,\n",
    "            \"c\":Tamb},Tamb))\n",
    "    else :\n",
    "        Keys = [\"d\", \"r\", \"cm\"]\n",
    "        \n",
    "        Tair = Tamb\n",
    "        \n",
    "        Texp = Tamb\n",
    "        \n",
    "        T0 = Tamb\n",
    "        \n",
    "        s = 0\n",
    "        \n",
    "        hcomp_air = {\"d\":0,\n",
    "            \"r\":0,\n",
    "            \"cm\":0}\n",
    "        \n",
    "        hcomp_dis = {\"p\":0,\n",
    "            \"a\":0,\n",
    "            \"c\":0}\n",
    "        \n",
    "        Tdis = {\"p\":Tamb,\n",
    "            \"a\":Tamb,\n",
    "            \"c\":Tamb}\n",
    "        \n",
    "        Tcomp = {\"a\":Tamb,\n",
    "     \"c\":Tamb,\n",
    "     \"p\":Tamb,\n",
    "     \"d\":Tamb,\n",
    "     \"r\":Tamb,\n",
    "     \"cm\":Tamb}\n",
    "        \n",
    "        Tvent = {\"p\":Tamb,\n",
    "            \"a\":Tamb,\n",
    "            \"c\":Tamb}\n",
    "        \n",
    "        chaleur = {\"p\":0,\n",
    "            \"a\":0,\n",
    "            \"c\":0}\n",
    "        \n",
    "        Tfalu = {\"p\":math.exp(-((60/C[\"p\"])+(Tvent[\"p\"]/(Ralu*C[\"p\"])))*90)*(-60*Ralu-Tvent[\"p\"])+60*Ralu+Tvent[\"p\"],\n",
    "        \"a\":math.exp(-((100/C[\"a\"])+(Tvent[\"a\"]/(Ralu*C[\"a\"])))*90)*(-100*Ralu-Tvent[\"a\"])+100*Ralu+Tvent[\"a\"],\n",
    "        \"c\":math.exp(-((90/C[\"c\"])+(Tvent[\"c\"]/(Ralu*C[\"c\"])))*90)*(-95*Ralu-Tvent[\"c\"])+95*Ralu+Tvent[\"c\"]}\n",
    "        \n",
    "        hdis_vent = {\"p\":0,\n",
    "            \"a\":0,\n",
    "            \"c\":0}\n",
    "        \n",
    "        hvent_dis = {\"p\":0,\n",
    "            \"a\":0,\n",
    "            \"c\":0}\n",
    "        \n",
    "        Pdis = {\"p\":0,\n",
    "            \"a\":0,\n",
    "            \"c\":0}\n",
    "        \n",
    "        for i in range(1,t+1,2) :\n",
    "            for j in Keys :\n",
    "                Tcomp[j] = math.exp(-((P[j]/C[j])+(Tair/(Rair*C[j])))*i)*(-P[j]*Rair)+P[j]*Rair+Tair\n",
    "            for k in Scomp_dis :\n",
    "                if (Tcomp[k] <= Tfalu[k]) and (Tdis[k] != Tcomp[k]) or (Tcomp[k] == Tdis[k] == Tamb) :\n",
    "                    Tcomp[k] = math.exp(-((P[k]/C[k])+(Tair/(Ralu*C[k])))*i)*(-P[k]*Ralu)+P[k]*Ralu+Tair\n",
    "                    \n",
    "                    hcomp_dis[k] = (math.fabs(Tfalu[k]-Tamb)*Cpalu*Malu[k])/(Scomp_dis[k]*math.fabs(Tdis[k]-Tcomp[k])*2)\n",
    "                    \n",
    "                    Tdis[k] = math.exp((-hcomp_dis[k]*Scomp_dis[k]*i)/(Malu[k]*Cpalu))*(Tamb-Tcomp[k])+Tcomp[k]\n",
    "                    \n",
    "                    hdis_vent[k] = (math.fabs(Tfalu[k]-Tamb)*Cpair*Mvent[k])/(Sdis_vent[k]*math.fabs(Tair-Tdis[k])*2)\n",
    "                    \n",
    "                    Tvent[k] = math.exp((-hdis_vent[k]*Sdis_vent[k]*i)/(Mvent[k]*Cpair))*(Tamb-Tdis[k])+Tdis[k]\n",
    "                    \n",
    "                    chaleur[k] = Mvent[k]*Cpair*math.fabs(Tair-Tvent[k])\n",
    "                    \n",
    "                    Tdis[k] = Tdis[k] - chaleur[k]/(Malu[k]*Cpalu)\n",
    "                                        \n",
    "                else :\n",
    "                    Tcomp[k] = Tfalu[k]\n",
    "                        \n",
    "                    Tdis[k] = Tcomp[k]\n",
    "                        \n",
    "                    Tvent[k] = Tdis[k]\n",
    "                    \n",
    "                    \n",
    "            Tfalu = {\"p\":math.exp(-((60/C[\"p\"])+(Tair/(Ralu*C[\"p\"])))*90)*(-60*Ralu-Tair)+60*Ralu+Tair,\n",
    "                    \"a\":math.exp(-((100/C[\"a\"])+(Tair/(Ralu*C[\"a\"])))*90)*(-100*Ralu-Tair)+100*Ralu+Tair,\n",
    "                    \"c\":math.exp(-((90/C[\"c\"])+(Tair/(Ralu*C[\"c\"])))*90)*(-95*Ralu-Tair)+95*Ralu+Tair}\n",
    "            \n",
    "        hcomp_air[j] = (math.fabs(Tf-Tamb)*Cpair*Mair)/(S[j]*math.fabs(T0-T[j])*2)\n",
    "        s = math.exp((-hcomp_air[\"d\"]*Scomp_air[\"d\"]*t)/(Mair*Cpair))*(Tamb-Tcomp[\"d\"])+Tcomp[\"d\"] + math.exp((-hcomp_air[\"r\"]*Scomp_air[\"r\"]*t)/(Mair*Cpair))*(Tamb-Tcomp[\"r\"])+Tcomp[\"r\"] + math.exp((-hcomp_air[\"cm\"]*Scomp_air[\"cm\"]*t)/(Mair*Cpair))*(Tamb-Tcomp[\"cm\"])+Tcomp[\"cm\"]\n",
    "        T0 = s/len(Scomp_air)\n",
    "        Tair = Tamb\n",
    "        Texp = ((((2*Vair-7.41*10**(-3)*2-9.91*10**(-3)*2-8.64*10**(-3)*2)*T0+7.41*10**(-3)*2*Tvent[\"p\"]+9.91*10**(-3)*2*Tvent[\"a\"]+8.64*10**(-3)*2*Tvent[\"c\"]))+(Dvent*2-Vair*2)*Tamb)/(2*Dvent)\n",
    "        \n",
    "            \n",
    "    return ((Tcomp, Tdis), (Tvent,Texp))\n",
    "                    "
   ]
  },
  {
   "cell_type": "code",
   "execution_count": 19,
   "metadata": {
    "scrolled": true
   },
   "outputs": [
    {
     "data": {
      "text/plain": [
       "(({'a': 321.59999999999997,\n",
       "   'c': 321.59999999999997,\n",
       "   'p': 307.25,\n",
       "   'd': 292.46999999999997,\n",
       "   'r': 291.26,\n",
       "   'cm': 293.57},\n",
       "  {'p': 305.066805, 'a': 315.22827091265754, 'c': 313.0027123745819}),\n",
       " ({'p': 307.25, 'a': 321.59999999999997, 'c': 321.59999999999997},\n",
       "  330.10945926351167))"
      ]
     },
     "execution_count": 19,
     "metadata": {},
     "output_type": "execute_result"
    }
   ],
   "source": [
    "temp_ordi(Scomp_dis, Scomp_air, Sdis_vent, Mvent, Malu, C, Ralu, Rair, Vair, Tamb, Cpalu, Dvent, 105)"
   ]
  },
  {
   "cell_type": "code",
   "execution_count": 20,
   "metadata": {},
   "outputs": [],
   "source": [
    "def temp_comp_final_tout_instant(Scomp_dis, Scomp_air, Sdis_vent, Mvent, Malu, C, Ralu, Rair, Vair, Tamb, Cpalu, Dvent, tmax) :\n",
    "    \"\"\"\n",
    "    dict[str:Number]^6*Number^6 -> list[tuple[Number,disct[str:Number]]]\n",
    "    rend la température des composants pour tout instants.\n",
    "    \"\"\"\n",
    "    T0 = []\n",
    "    for i in range(0,tmax+1,2):\n",
    "        a,b = temp_ordi(Scomp_dis, Scomp_air, Sdis_vent, Mvent, Malu, C, Ralu, Rair, Vair, Tamb, Cpalu, Dvent, i)\n",
    "        c,d = a\n",
    "        e,f = b\n",
    "        T0.append((i,c))\n",
    "    return T0"
   ]
  },
  {
   "cell_type": "code",
   "execution_count": 21,
   "metadata": {},
   "outputs": [],
   "source": [
    "def list_temps3(Scomp_dis, Scomp_air, Sdis_vent, Mvent, Malu, C, Ralu, Rair, Vair, Tamb, Cpalu, Dvent, tmax):\n",
    "    \"\"\"\n",
    "    \"\"\"\n",
    "    L = []\n",
    "    for i in temp_comp_final_tout_instant(Scomp_dis, Scomp_air, Sdis_vent, Mvent, Malu, C, Ralu, Rair, Vair, Tamb, Cpalu, Dvent, tmax) :\n",
    "        a,b = i\n",
    "        L.append(a)\n",
    "    return L\n",
    "\n",
    "def list_T3(Scomp_dis, Scomp_air, Sdis_vent, Mvent, Malu, C, Ralu, Rair, Vair, Tamb, Cpalu, Dvent, tmax):\n",
    "    \"\"\"\n",
    "    \"\"\"\n",
    "    L = []\n",
    "    for i in temp_comp_final_tout_instant(Scomp_dis, Scomp_air, Sdis_vent, Mvent, Malu, C, Ralu, Rair, Vair, Tamb, Cpalu, Dvent, tmax) :\n",
    "        a,b = i\n",
    "        L0 = []\n",
    "        for j in b :\n",
    "            L0.append(b[j])\n",
    "        L.append(L0)\n",
    "    return L\n",
    "L1 = list_temps3(Scomp_dis, Scomp_air, Sdis_vent, Mvent, Malu, C, Ralu, Rair, Vair, Tamb, Cpalu, Dvent, tmax)\n",
    "L2 = list_T3(Scomp_dis, Scomp_air, Sdis_vent, Mvent, Malu, C, Ralu, Rair, Vair, Tamb, Cpalu, Dvent, tmax)"
   ]
  },
  {
   "cell_type": "code",
   "execution_count": 22,
   "metadata": {},
   "outputs": [
    {
     "data": {
      "image/png": "[encoded data removed]",
      "text/plain": [
       "<Figure size 432x288 with 1 Axes>"
      ]
     },
     "metadata": {
      "needs_background": "light"
     },
     "output_type": "display_data"
    }
   ],
   "source": [
    "def plot_Temp_comp(L1,L2):\n",
    "    plt.figure()\n",
    "    plt.plot(L1,L2)\n",
    "    plt.xlabel(\"Temps en secondes\")\n",
    "    plt.ylabel(\"Température en Kelvin\")\n",
    "    plt.show()\n",
    "    return\n",
    "\n",
    "plot_Temp_comp(L1,L2)"
   ]
  },
  {
   "cell_type": "code",
   "execution_count": 23,
   "metadata": {},
   "outputs": [],
   "source": [
    "def temp_exp_final_tout_instant(Scomp_dis, Scomp_air, Sdis_vent, Mvent, Malu, C, Ralu, Rair, Vair, Tamb, Cpalu, Dvent, tmax) :\n",
    "    \"\"\"\n",
    "    dict[str:Number]^6*Number^6 -> list[tuple[Number,Number]]\n",
    "    rend la température expulsé du pc pour tout instants.\n",
    "    \"\"\"\n",
    "    T0 = []\n",
    "    for i in range(0,tmax+1,2):\n",
    "        a,b = temp_ordi(Scomp_dis, Scomp_air, Sdis_vent, Mvent, Malu, C, Ralu, Rair, Vair, Tamb, Cpalu, Dvent, i)\n",
    "        c,d = a\n",
    "        e,f = b\n",
    "        T0.append((i,f))\n",
    "    return T0"
   ]
  },
  {
   "cell_type": "code",
   "execution_count": 24,
   "metadata": {},
   "outputs": [],
   "source": [
    "def list_temps4(Scomp_dis, Scomp_air, Sdis_vent, Mvent, Malu, C, Ralu, Rair, Vair, Tamb, Cpalu, Dvent, tmax):\n",
    "    \"\"\"\n",
    "    \"\"\"\n",
    "    L = []\n",
    "    for i in temp_exp_final_tout_instant(Scomp_dis, Scomp_air, Sdis_vent, Mvent, Malu, C, Ralu, Rair, Vair, Tamb, Cpalu, Dvent, tmax) :\n",
    "        a,b = i\n",
    "        L.append(a)\n",
    "    return L\n",
    "\n",
    "def list_T4(Scomp_dis, Scomp_air, Sdis_vent, Mvent, Malu, C, Ralu, Rair, Vair, Tamb, Cpalu, Dvent, tmax):\n",
    "    \"\"\"\n",
    "    \"\"\"\n",
    "    L = []\n",
    "    for i in temp_exp_final_tout_instant(Scomp_dis, Scomp_air, Sdis_vent, Mvent, Malu, C, Ralu, Rair, Vair, Tamb, Cpalu, Dvent, tmax) :\n",
    "        a,b = i\n",
    "        L.append(b)\n",
    "    return L\n",
    "L1 = list_temps4(Scomp_dis, Scomp_air, Sdis_vent, Mvent, Malu, C, Ralu, Rair, Vair, Tamb, Cpalu, Dvent, tmax)\n",
    "L2 = list_T4(Scomp_dis, Scomp_air, Sdis_vent, Mvent, Malu, C, Ralu, Rair, Vair, Tamb, Cpalu, Dvent, tmax)"
   ]
  },
  {
   "cell_type": "code",
   "execution_count": 25,
   "metadata": {},
   "outputs": [
    {
     "data": {
      "image/png": "[encoded data removed]",
      "text/plain": [
       "<Figure size 432x288 with 1 Axes>"
      ]
     },
     "metadata": {
      "needs_background": "light"
     },
     "output_type": "display_data"
    }
   ],
   "source": [
    "def plot_Temp_exp(L1,L2):\n",
    "    plt.figure()\n",
    "    plt.plot(L1,L2)\n",
    "    plt.xlabel(\"Temps en secondes\")\n",
    "    plt.ylabel(\"Température en Kelvin\")\n",
    "    plt.show()\n",
    "    return\n",
    "\n",
    "plot_Temp_comp(L1,L2)"
   ]
  },
  {
   "cell_type": "markdown",
   "metadata": {},
   "source": [
    "A présent, nous allons passer au modèle de la salle informatique. Pour ce faire,  nous prendrons une salle de longueur 10m, de largeur 5m et de hauteur 3m."
   ]
  },
  {
   "cell_type": "code",
   "execution_count": 34,
   "metadata": {},
   "outputs": [],
   "source": [
    "Vu = 0.024 # volume de l'unité centrale en m^3\n",
    "\n",
    "Dvent = 0.01747 # débit d'air explusé de lordinateur en m^3/s\n",
    "\n",
    "Vcase = 1*1*3 # volume d'une case en m^3\n",
    "\n",
    "Vsalle = 10*5*3 #volume de la salle en m^3\n",
    "\n",
    "Vi = Vcase-Vu # volume dans une case, moins celui de l'unité centrale\n",
    "\n",
    "Maco = 1.225*Vi # ro*Vair = ro*Vi en kg\n",
    "\n",
    "Mac = 1.225*Vcase # ro*Vair = ro*Vcase en kg\n",
    "\n",
    "Cpair = 1005 # chaleur massique de l'air à pression constante en J/(kg*K)\n",
    "\n",
    "dt = 10 # temps entre 2 homogénéisation en s\n",
    "\n",
    "MS = { 10:Tamb, 11:Tamb, 12:Tamb, 13:Tamb, 14:Tamb, 15:Tamb, 16:Tamb, 17:Tamb, 18:Tamb, 19:Tamb,\n",
    "           20:Tamb, 21:Tamb, 22:Tamb, 23:Tamb, 24:Tamb, 25:Tamb, 26:Tamb, 27:Tamb, 28:Tamb, 29:Tamb,\n",
    "           30:Tamb, 31:Tamb, 32:Tamb, 33:Tamb, 34:Tamb, 35:Tamb, 36:Tamb, 37:Tamb, 38:Tamb, 39:Tamb,\n",
    "           40:Tamb, 41:Tamb, 42:Tamb, 43:Tamb, 44:Tamb, 45:Tamb, 46:Tamb, 47:Tamb, 48:Tamb, 49:Tamb,\n",
    "           50:Tamb, 51:Tamb, 52:Tamb, 53:Tamb, 54:Tamb, 55:Tamb, 56:Tamb, 57:Tamb, 58:Tamb, 59:Tamb}\n",
    "\n",
    "ordi = [42]\n",
    "\n",
    "tmax = 50 # temps maximum en s"
   ]
  },
  {
   "cell_type": "code",
   "execution_count": 35,
   "metadata": {},
   "outputs": [],
   "source": [
    "def temp_case_ordi(Scomp_dis, Scomp_air, Sdis_vent, Mvent, Malu, C, Ralu, Rair, Vair, Tamb, Cpalu, Dvent, Vu, Vi, Vcase, dt, t) :\n",
    "    \"\"\"\n",
    "    \"\"\"\n",
    "    TF = Tamb\n",
    "    for i in range(1,t+1,dt) :\n",
    "        a,b = temp_ordi(Scomp_dis, Scomp_air, Sdis_vent, Mvent, Malu, C, Ralu, Rair, Vair, TF, Cpalu, Dvent, i)\n",
    "        c,d = b\n",
    "        TF = (Dvent*10*d+(Vi-Dvent)*10*TF)/(Vi*10)\n",
    "    return TF"
   ]
  },
  {
   "cell_type": "code",
   "execution_count": 36,
   "metadata": {},
   "outputs": [
    {
     "data": {
      "text/plain": [
       "291.42947640607804"
      ]
     },
     "execution_count": 36,
     "metadata": {},
     "output_type": "execute_result"
    }
   ],
   "source": [
    "temp_case_ordi(Scomp_dis, Scomp_air, Sdis_vent, Mvent, Malu, C, Ralu, Rair, Vair, Tamb, Cpalu, Dvent,  Vu, Vi, Vcase, dt, 20)"
   ]
  },
  {
   "cell_type": "code",
   "execution_count": 41,
   "metadata": {},
   "outputs": [],
   "source": [
    "def temp_new_1case(Vcase, Vi, Maco, Mac, Cpair, Pcase1, Pcase2, Tcase1, Tcase2, ordi, dt) :\n",
    "    \"\"\" \n",
    "    Number^9*list[Number] -> Number\n",
    "    rend la température air d'une case après tranfert de température\n",
    "    \"\"\"\n",
    "    \n",
    "    if Pcase1 in ordi and Pcase2 in ordi :\n",
    "        \n",
    "        Tf = (math.exp((-dt)/(Cpair*Maco))/(Cpair*Maco))+Tcase1\n",
    "    \n",
    "        TF = (Maco*Tcase2+Maco*Tf)/(2*Maco)\n",
    "    \n",
    "    elif Pcase1 in ordi :\n",
    "        \n",
    "        Tf = (math.exp((-dt)/(Cpair*Maco))/(Cpair*Maco))+Tcase1\n",
    "    \n",
    "        TF = (Mac*Tcase2+Maco*Tf)/(Maco+Mac)\n",
    "        \n",
    "    elif Pcase2 in ordi :\n",
    "        \n",
    "        Tf = (math.exp((-dt)/(Cpair*Mac))/(Cpair*Mac))+Tcase1\n",
    "    \n",
    "        TF = (Maco*Tcase2+Mac*Tf)/(Maco+Mac)\n",
    "        \n",
    "    else :\n",
    "        \n",
    "        Tf = (math.exp((-dt)/(Cpair*Mac))/(Cpair*Mac))+Tcase1\n",
    "    \n",
    "        TF = (Mac*Tcase2+Mac*Tf)/(2*Mac)\n",
    "        \n",
    "    return TF       \n",
    "        "
   ]
  },
  {
   "cell_type": "code",
   "execution_count": 43,
   "metadata": {},
   "outputs": [
    {
     "data": {
      "text/plain": [
       "291.15013501148826"
      ]
     },
     "execution_count": 43,
     "metadata": {},
     "output_type": "execute_result"
    }
   ],
   "source": [
    "temp_new_1case(Vcase, Vi, Maco, Mac, Cpair, 20, 21, 291.15, 291.15, ordi, dt)"
   ]
  },
  {
   "cell_type": "code",
   "execution_count": 39,
   "metadata": {},
   "outputs": [],
   "source": [
    "def matrice_salle(MS, t) :\n",
    "    \"\"\"\n",
    "    dict[Number:Number]*Number -> list[list[Number]]\n",
    "    retourne la matrice des températures de la salle à un instant t\n",
    "    \"\"\"\n",
    "    D0 = MS\n",
    "    D1 = {21:MS[21], 22:MS[22], 23:MS[23], 24:MS[24], 25:MS[25], 26:MS[26], 27:MS[27], 28:MS[28], 31:MS[31], 32:MS[32], 33:MS[33], 34:MS[34], 35:MS[35], 36:MS[36], 37:MS[37], 38:MS[38], 41:MS[41], 42:MS[42], 43:MS[43], 44:MS[44], 45:MS[45], 46:Tamb, 47:MS[47], 48:MS[48]}\n",
    "    D2 = {11:MS[11], 12:MS[12], 13:MS[13], 14:MS[14], 15:MS[15], 16:MS[16], 17:MS[17], 18:MS[18]}\n",
    "    D3 = {51:MS[51], 52:MS[52], 53:MS[53], 54:MS[54], 55:MS[55], 56:MS[56], 57:MS[57], 58:MS[58]}\n",
    "    D4 = {20:MS[20], 30:MS[30], 40:MS[40]}\n",
    "    D5 = {29:MS[29], 39:MS[39], 49:MS[49]}\n",
    "    D6 = {10:MS[10]}\n",
    "    D7 = {19:MS[19]}\n",
    "    D8 = {50:MS[50]}\n",
    "    D9 = {59:MS[59]}\n",
    "    \n",
    "    for i in range(0,t+1,dt) :\n",
    "        for j in ordi :\n",
    "            D0[j] = temp_case_ordi(Scomp_dis, Scomp_air, Sdis_vent, Mvent, Malu, C, Ralu, Rair, Vair, Tamb, Cpalu, Dvent, Vu, Vi, Vcase, dt, i)\n",
    "        for j in D1 :\n",
    "            if D0[j]<D0[j+1] and D0[j]<D0[j+10] and D0[j]<D0[j-1] and D0[j]<D0[j-10] :\n",
    "                D1[j] = (temp_new_1case(Vcase, Vi, Maco, Mac, Cpair, j, j+1, D0[j], D0[j+1], ordi, dt)+temp_new_1case(Vcase, Vi, Maco, Mac, Cpair, j, j+10, D0[j], D0[j+10], ordi, dt)+temp_new_1case(Vcase, Vi, Maco, Mac, Cpair, j, j-1, D0[j], D0[j-1], ordi, dt)+temp_new_1case(Vcase, Vi, Maco, Mac, Cpair, j, j-10, D0[j], D0[j-10], ordi, dt))/4\n",
    "            elif D0[j]<D0[j+1] and D0[j]<D0[j+10] and D0[j]<D0[j-1] :\n",
    "                D1[j] = (temp_new_1case(Vcase, Vi, Maco, Mac, Cpair, j, j+1, D0[j], D0[j+1], ordi, dt)+temp_new_1case(Vcase, Vi, Maco, Mac, Cpair, j, j+10, D0[j], D0[j+10], ordi, dt)+temp_new_1case(Vcase, Vi, Maco, Mac, Cpair, j, j-1, D0[j], D0[j-1], ordi, dt))/3\n",
    "            elif D0[j]<D0[j+1] and D0[j]<D0[j-10] and D0[j]<D0[j-1] :\n",
    "                D1[j] = (temp_new_1case(Vcase, Vi, Maco, Mac, Cpair, j, j+1, D0[j], D0[j+1], ordi, dt)+temp_new_1case(Vcase, Vi, Maco, Mac, Cpair, j, j-10, D0[j], D0[j-10], ordi, dt)+temp_new_1case(Vcase, Vi, Maco, Mac, Cpair, j, j-1, D0[j], D0[j-1], ordi, dt))/3\n",
    "            elif D0[j]<D0[j+10] and D0[j]<D0[j-10] and D0[j]<MS[j+1] :\n",
    "                D1[j] = (temp_new_1case(Vcase, Vi, Maco, Mac, Cpair, j, j+10, D0[j], D0[j+10], ordi, dt)+temp_new_1case(Vcase, Vi, Maco, Mac, Cpair, j, j-10, D0[j], D0[j-10], ordi, dt)+temp_new_1case(Vcase, Vi, Maco, Mac, Cpair, j, j+1, D0[j], D0[j+1], ordi, dt))/3\n",
    "            elif D0[j]<D0[j+10] and D0[j]<D0[j-10] and D0[j]<D0[j-1] :\n",
    "                D1[j] = (temp_new_1case(Vcase, Vi, Maco, Mac, Cpair, j, j+10, D0[j], D0[j+10], ordi, dt)+temp_new_1case(Vcase, Vi, Maco, Mac, Cpair, j, j-10, D0[j], D0[j-10], ordi, dt)+temp_new_1case(Vcase, Vi, Maco, Mac, Cpair, j, j-1, D0[j], D0[j-1], ordi, dt))/3\n",
    "            elif D0[j]<D0[j+10] and D0[j]<D0[j-10] :\n",
    "                D1[j] = (temp_new_1case(Vcase, Vi, Maco, Mac, Cpair, j, j+10, D0[j], D0[j+10], ordi, dt)+temp_new_1case(Vcase, Vi, Maco, Mac, Cpair, j, j-10, D0[j], D0[j-10], ordi, dt))/2\n",
    "            elif D0[j]<D0[j+1] and D0[j]<D0[j-1] :\n",
    "                D1[j] = (temp_new_1case(Vcase, Vi, Maco, Mac, Cpair, j, j+1, D0[j], D0[j+1], ordi, dt)+temp_new_1case(Vcase, Vi, Maco, Mac, Cpair, j, j-1, D0[j], D0[j-1], ordi, dt))/2\n",
    "            elif D0[j]<D0[j-1] and D0[j]<D0[j-10] :\n",
    "                D1[j] = (temp_new_1case(Vcase, Vi, Maco, Mac, Cpair, j, j-1, D0[j], D0[j-1], ordi, dt)+temp_new_1case(Vcase, Vi, Maco, Mac, Cpair, j, j-10, D0[j], D0[j-10], ordi, dt))/2\n",
    "            elif MS[j]<MS[j+1] and D0[j]<D0[j-10] :\n",
    "                D1[j] = (temp_new_1case(Vcase, Vi, Maco, Mac, Cpair, j, j+1, D0[j], D0[j+1], ordi, dt)+temp_new_1case(Vcase, Vi, Maco, Mac, Cpair, j, j-10, D0[j], D0[j-10], ordi, dt))/2\n",
    "            elif D0[j]<D0[j-1] and D0[j]<D0[j+10] :\n",
    "                D1[j] = (temp_new_1case(Vcase, Vi, Maco, Mac, Cpair, j, j-1, D0[j], D0[j-1], ordi, dt)+temp_new_1case(Vcase, Vi, Maco, Mac, Cpair, j, j+10, D0[j], D0[j+10], ordi, dt))/2\n",
    "            elif D0[j]<D0[j+1] and D0[j]<D0[j+10] :\n",
    "                D1[j] = (temp_new_1case(Vcase, Vi, Maco, Mac, Cpair, j, j+1, D0[j], D0[j+1], ordi, dt)+temp_new_1case(Vcase, Vi, Maco, Mac, Cpair, j, j+10, D0[j], D0[j+10], ordi, dt))/2\n",
    "            elif D0[j]<D0[j-10] :\n",
    "                D1[j] = temp_new_1case(Vcase, Vi, Maco, Mac, Cpair, j, j-10, D0[j], D0[j-10], ordi, dt)\n",
    "            elif D0[j]<D0[j-1] :\n",
    "                D1[j] = temp_new_1case(Vcase, Vi, Maco, Mac, Cpair, j, j-1, D0[j], D0[j-1], ordi, dt)\n",
    "            elif D0[j]<D0[j+1] :\n",
    "                D1[j] = temp_new_1case(Vcase, Vi, Maco, Mac, Cpair, j, j+1, D0[j], D0[j+1], ordi, dt)\n",
    "            elif D0[j]<D0[j+10] :\n",
    "                D1[j] = temp_new_1case(Vcase, Vi, Maco, Mac, Cpair, j, j+10, D0[j], D0[j+10], ordi, dt)\n",
    "        \n",
    "        for j in D2 :\n",
    "            if D0[j]<D0[j+1] and D0[j]<D0[j+10] and D0[j]<D0[j-1] :\n",
    "                D2[j] = (temp_new_1case(Vcase, Vi, Maco, Mac, Cpair, j, j+1, D0[j], D0[j+1], ordi, dt)+temp_new_1case(Vcase, Vi, Maco, Mac, Cpair, j, j+10, D0[j], D0[j+10], ordi, dt)+temp_new_1case(Vcase, Vi, Maco, Mac, Cpair, j, j-1, D0[j], D0[j-1], ordi, dt))/3\n",
    "            elif D0[j]<D0[j-1] and D0[j]<MS[j+10] :\n",
    "                D2[j] = (temp_new_1case(Vcase, Vi, Maco, Mac, Cpair, j, j-1, D0[j], D0[j-1], ordi, dt)+temp_new_1case(Vcase, Vi, Maco, Mac, Cpair, j, j+10, D0[j], D0[j+10], ordi, dt))/2\n",
    "            elif D0[j]<D0[j+1] and D0[j]<D0[j+10] :\n",
    "                D2[j] = (temp_new_1case(Vcase, Vi, Maco, Mac, Cpair, j, j+1, D0[j], D0[j+1], ordi, dt)+temp_new_1case(Vcase, Vi, Maco, Mac, Cpair, j, j+10, D0[j], D0[j+10], ordi, dt))/2\n",
    "            elif D0[j]<D0[j-1] and D0[j]<D0[j+1] :\n",
    "                D2[j] = (temp_new_1case(Vcase, Vi, Maco, Mac, Cpair, j, j-1, D0[j], D0[j-1], ordi, dt)+temp_new_1case(Vcase, Vi, Maco, Mac, Cpair, j, j+1, D0[j], D0[j+1], ordi, dt))/2\n",
    "            elif D0[j]<D0[j-1] :\n",
    "                D2[j] = temp_new_1case(Vcase, Vi, Maco, Mac, Cpair, j, j-1, D0[j], D0[j-1], ordi, dt)\n",
    "            elif D0[j]<D0[j+1] :\n",
    "                D2[j] = temp_new_1case(Vcase, Vi, Maco, Mac, Cpair, j, j+1, D0[j], D0[j+1], ordi, dt)\n",
    "            elif D0[j]<D0[j+10] :\n",
    "                D2[j] = temp_new_1case(Vcase, Vi, Maco, Mac, Cpair, j, j+10, D0[j], D0[j+10], ordi, dt)\n",
    "                         \n",
    "        for j in D3 :\n",
    "            if D0[j]<D0[j+1] and D0[j]<D0[j-10] and D0[j]<D0[j-1] :\n",
    "                D3[j] = (temp_new_1case(Vcase, Vi, Maco, Mac, Cpair, j, j+1, D0[j], D0[j+1], ordi, dt)+temp_new_1case(Vcase, Vi, Maco, Mac, Cpair, j, j-10, D0[j], D0[j-10], ordi, dt)+temp_new_1case(Vcase, Vi, Maco, Mac, Cpair, j, j-1, D0[j], D0[j-1], ordi, dt))/3\n",
    "            elif D0[j]<D0[j-1] and D0[j]<D0[j-10] :\n",
    "                D3[j] = (temp_new_1case(Vcase, Vi, Maco, Mac, Cpair, j, j-1, D0[j], D0[j-1], ordi, dt)+temp_new_1case(Vcase, Vi, Maco, Mac, Cpair, j, j-10, D0[j], D0[j-10], ordi, dt))/2\n",
    "            elif D0[j]<D0[j+1] and D0[j]<MS[j-10] :\n",
    "                D3[j] = (temp_new_1case(Vcase, Vi, Maco, Mac, Cpair, j, j+1, D0[j], D0[j+1], ordi, dt)+temp_new_1case(Vcase, Vi, Maco, Mac, Cpair, j, j-10, D0[j], D0[j-10], ordi, dt))/2\n",
    "            elif D0[j]<D0[j-1] and D0[j]<D0[j+1] :\n",
    "                D3[j] = (temp_new_1case(Vcase, Vi, Maco, Mac, Cpair, j, j-1, D0[j], D0[j-1], ordi, dt)+temp_new_1case(Vcase, Vi, Maco, Mac, Cpair, j, j+1, D0[j], D0[j+1], ordi, dt))/2\n",
    "            elif D0[j]<D0[j-1] :\n",
    "                D3[j] = temp_new_1case(Vcase, Vi, Maco, Mac, Cpair, j, j-1, D0[j], D0[j-1], ordi, dt)\n",
    "            elif D0[j]<D0[j+1] :\n",
    "                D3[j] = temp_new_1case(Vcase, Vi, Maco, Mac, Cpair, j, j+1, D0[j], D0[j+1], ordi, dt)\n",
    "            elif D0[j]<D0[j-10] :\n",
    "                D3[j] = temp_new_1case(Vcase, Vi, Maco, Mac, Cpair, j, j-10, D0[j], D0[j-10], ordi, dt)\n",
    "        \n",
    "        for j in D4 :\n",
    "            if D0[j]<D0[j+10] and D0[j]<D0[j-10] and D0[j]<D0[j+1] :\n",
    "                D4[j] = (temp_new_1case(Vcase, Vi, Maco, Mac, Cpair, j, j+10, D0[j], D0[j+10], ordi, dt)+temp_new_1case(Vcase, Vi, Maco, Mac, Cpair, j, j-10, D0[j], D0[j-10], ordi, dt)+temp_new_1case(Vcase, Vi, Maco, Mac, Cpair, j, j+1, D0[j], D0[j+1], ordi, dt))/3\n",
    "            elif D0[j]<D0[j+1] and D0[j]<D0[j-10] :\n",
    "                D4[j] = (temp_new_1case(Vcase, Vi, Maco, Mac, Cpair, j, j+1, D0[j], D0[j+1], ordi, dt)+temp_new_1case(Vcase, Vi, Maco, Mac, Cpair, j, j-10, D0[j], D0[j-10], ordi, dt))/2\n",
    "            elif D0[j]<D0[j+10] and D0[j]<MS[j-10] :\n",
    "                D4[j] = (temp_new_1case(Vcase, Vi, Maco, Mac, Cpair, j, j+10, D0[j], D0[j+10], ordi, dt)+temp_new_1case(Vcase, Vi, Maco, Mac, Cpair, j, j-10, D0[j], D0[j-10], ordi, dt))/2\n",
    "            elif D0[j]<D0[j+1] and D0[j]<D0[j+10] :\n",
    "                D4[j] = (temp_new_1case(Vcase, Vi, Maco, Mac, Cpair, j, j+1, D0[j], D0[j+1], ordi, dt)+temp_new_1case(Vcase, Vi, Maco, Mac, Cpair, j, j+10, D0[j], D0[j+10], ordi, dt))/2\n",
    "            elif D0[j]<D0[j+1] :\n",
    "                D4[j] = temp_new_1case(Vcase, Vi, Maco, Mac, Cpair, j, j+1, D0[j], D0[j+1], ordi, dt)\n",
    "            elif D0[j]<D0[j+10] :\n",
    "                D4[j] = temp_new_1case(Vcase, Vi, Maco, Mac, Cpair, j, j+10, D0[j], D0[j+10], ordi, dt)\n",
    "            elif D0[j]<D0[j-10] :\n",
    "                D4[j] = temp_new_1case(Vcase, Vi, Maco, Mac, Cpair, j, j-10, D0[j], D0[j-10], ordi, dt)\n",
    "                         \n",
    "        for j in D5 :\n",
    "            if D0[j]<D0[j+10] and D0[j]<D0[j-10] and D0[j]<D0[j-1] :\n",
    "                D5[j] = (temp_new_1case(Vcase, Vi, Maco, Mac, Cpair, j, j+10, D0[j], D0[j+10], ordi, dt)+temp_new_1case(Vcase, Vi, Maco, Mac, Cpair, j, j-10, D0[j], D0[j-10], ordi, dt)+temp_new_1case(Vcase, Vi, Maco, Mac, Cpair, j, j-1, D0[j], D0[j-1], ordi, dt))/3\n",
    "            elif D0[j]<D0[j-1] and D0[j]<D0[j-10] :\n",
    "                D5[j] = (temp_new_1case(Vcase, Vi, Maco, Mac, Cpair, j, j-1, D0[j], D0[j-1], ordi, dt)+temp_new_1case(Vcase, Vi, Maco, Mac, Cpair, j, j-10, D0[j], D0[j-10], ordi, dt))/2\n",
    "            elif D0[j]<D0[j+10] and D0[j]<MS[j-10] :\n",
    "                D5[j] = (temp_new_1case(Vcase, Vi, Maco, Mac, Cpair, j, j+10, D0[j], D0[j+10], ordi, dt)+temp_new_1case(Vcase, Vi, Maco, Mac, Cpair, j, j-10, D0[j], D0[j-10], ordi, dt))/2\n",
    "            elif D0[j]<D0[j-1] and D0[j]<D0[j+10] :\n",
    "                D5[j] = (temp_new_1case(Vcase, Vi, Maco, Mac, Cpair, j, j-1, D0[j], D0[j-1], ordi, dt)+temp_new_1case(Vcase, Vi, Maco, Mac, Cpair, j, j+10, D0[j], D0[j+10], ordi, dt))/2\n",
    "            elif D0[j]<D0[j-1] :\n",
    "                D5[j] = temp_new_1case(Vcase, Vi, Maco, Mac, Cpair, j, j-1, D0[j], D0[j-1], ordi, dt)\n",
    "            elif D0[j]<D0[j+10] :\n",
    "                D5[j] = temp_new_1case(Vcase, Vi, Maco, Mac, Cpair, j, j+10, D0[j], D0[j+10], ordi, dt)\n",
    "            elif D0[j]<D0[j-10] :\n",
    "                D5[j] = temp_new_1case(Vcase, Vi, Maco, Mac, Cpair, j, j-10, D0[j], D0[j-10], ordi, dt)\n",
    "                         \n",
    "        for j in D6 :\n",
    "            if D0[j]<D0[j+1] and D0[j]<D0[j+10] :\n",
    "                D6[j] = (temp_new_1case(Vcase, Vi, Maco, Mac, Cpair, j, j+1, D0[j], D0[j+1], ordi, dt)+temp_new_1case(Vcase, Vi, Maco, Mac, Cpair, j, j+10, D0[j], D0[j+10], ordi, dt))/2\n",
    "            elif D0[j]<D0[j+10] :\n",
    "                D6[j] = temp_new_1case(Vcase, Vi, Maco, Mac, Cpair, j, j+10, D0[j], D0[j+10], ordi, dt)\n",
    "            elif D0[j]<D0[j+1] :\n",
    "                D6[j] = temp_new_1case(Vcase, Vi, Maco, Mac, Cpair, j, j+1, D0[j], D0[j+1], ordi, dt)\n",
    "                         \n",
    "        for j in D7 :\n",
    "            if D0[j]<D0[j-1] and D0[j]<D0[j+10] :\n",
    "                D7[j] = (temp_new_1case(Vcase, Vi, Maco, Mac, Cpair, j, j-1, D0[j], D0[j-1], ordi, dt)+temp_new_1case(Vcase, Vi, Maco, Mac, Cpair, j, j+10, D0[j], D0[j+10], ordi, dt))/2\n",
    "            elif D0[j]<D0[j+10] :\n",
    "                D7[j] = temp_new_1case(Vcase, Vi, Maco, Mac, Cpair, j, j+10, D0[j], D0[j+10], ordi, dt)\n",
    "            elif D0[j]<D0[j-1] :\n",
    "                D7[j] = temp_new_1case(Vcase, Vi, Maco, Mac, Cpair, j, j-1, D0[j], D0[j-1], ordi, dt)\n",
    "                         \n",
    "        for j in D8 :\n",
    "            if D0[j]<D0[j+1] and D0[j]<D0[j-10] :\n",
    "                D8[j] = (temp_new_1case(Vcase, Vi, Maco, Mac, Cpair, j, j+1, D0[j], D0[j+1], ordi, dt)+temp_new_1case(Vcase, Vi, Maco, Mac, Cpair, j, j-10, D0[j], D0[j-10], ordi, dt))/2\n",
    "            elif D0[j]<D0[j-10] :\n",
    "                D8[j] = temp_new_1case(Vcase, Vi, Maco, Mac, Cpair, j, j-10, D0[j], D0[j-10], ordi, dt)\n",
    "            elif D0[j]<D0[j+1] :\n",
    "                D8[j] = temp_new_1case(Vcase, Vi, Maco, Mac, Cpair, j, j+1, D0[j], D0[j+1], ordi, dt)\n",
    "                         \n",
    "        for j in D9 :\n",
    "            if D0[j]<D0[j-1] and D0[j]<D0[j-10] :\n",
    "                D9[j] = (temp_new_1case(Vcase, Vi, Maco, Mac, Cpair, j, j-1, D0[j], D0[j-1], ordi, dt)+temp_new_1case(Vcase, Vi, Maco, Mac, Cpair, j, j-10, D0[j], D0[j-10], ordi, dt))/2\n",
    "            elif D0[j]<D0[j-10] :\n",
    "                D9[j] = temp_new_1case(Vcase, Vi, Maco, Mac, Cpair, j, j-10, D0[j], D0[j-10], ordi, dt)\n",
    "            elif D0[j]<D0[j-1] :\n",
    "                D9[j] = temp_new_1case(Vcase, Vi, Maco, Mac, Cpair, j, j-1, D0[j], D0[j-1], ordi, dt)\n",
    "                \n",
    "        D0 = {10:D6[10], 11:D2[11], 12:D2[12], 13:D2[13], 14:D2[14], 15:D2[15], 16:D2[16], 17:D2[17], 18:D2[18], 19:D7[19],\n",
    "            20:D4[20], 21:D1[21], 22:D1[22], 23:D1[23], 24:D1[24], 25:D1[25], 26:D1[26], 27:D1[27], 28:D1[28], 29:D5[29],\n",
    "            30:D4[30], 31:D1[31], 32:D1[32], 33:D1[33], 34:D1[34], 35:D1[35], 36:D1[36], 37:D1[37], 38:D1[38], 39:D5[39],\n",
    "            40:D4[40], 41:D1[41], 42:D1[42], 43:D1[43], 44:D1[44], 45:D1[45], 46:D1[46], 47:D1[47], 48:D1[48], 49:D5[49],\n",
    "            50:D8[50], 51:D3[51], 52:D3[52], 53:D3[53], 54:D3[54], 55:D3[55], 56:D3[56], 57:D3[57], 58:D3[58], 59:D9[59]}\n",
    "        \n",
    "        for j in ordi :\n",
    "            D0[j] = temp_case_ordi(Scomp_dis, Scomp_air, Sdis_vent, Mvent, Malu, C, Ralu, Rair, Vair, Tamb, Cpalu, Dvent, Vu, Vi, Vcase, dt, i)\n",
    "                         \n",
    "    return np.matrix([[D0[10], D0[11], D0[12], D0[13], D0[14], D0[15], D0[16], D0[17], D0[18], D0[19]],\n",
    "            [D0[20], D0[21], D0[22], D0[23], D0[24], D0[25], D0[26], D0[27], D0[28], D0[29]],\n",
    "            [D0[30], D0[31], D0[32], D0[33], D0[34], D0[35], D0[36], D0[37], D0[38], D0[39]],\n",
    "            [D0[40], D0[41], D0[42], D0[43], D0[44], D0[45], D0[46], D0[47], D0[48], D0[49]],\n",
    "            [D0[50], D0[51], D0[52], D0[53], D0[54], D0[55], D0[56], D0[57], D0[58], D0[59]]])"
   ]
  },
  {
   "cell_type": "code",
   "execution_count": 40,
   "metadata": {},
   "outputs": [
    {
     "data": {
      "text/plain": [
       "matrix([[291.15242113, 291.17715556, 291.2838105 , 291.17715556,\n",
       "         291.15242113, 291.15      , 291.15      , 291.15      ,\n",
       "         291.15      , 291.15      ],\n",
       "        [291.17715556, 291.2838105 , 291.53871819, 291.2838105 ,\n",
       "         291.17715556, 291.15242113, 291.15      , 291.15      ,\n",
       "         291.15      , 291.15      ],\n",
       "        [291.2838105 , 291.53871819, 291.92698477, 291.53871819,\n",
       "         291.2838105 , 291.17715556, 291.15242113, 291.15      ,\n",
       "         291.15      , 291.15      ],\n",
       "        [291.53871819, 291.92698477, 292.11803066, 291.92698477,\n",
       "         291.53871819, 291.2838105 , 291.17715556, 291.15242113,\n",
       "         291.15      , 291.15      ],\n",
       "        [291.2838105 , 291.53871819, 291.92698477, 291.53871819,\n",
       "         291.2838105 , 291.17715556, 291.15242113, 291.15      ,\n",
       "         291.15      , 291.15      ]])"
      ]
     },
     "execution_count": 40,
     "metadata": {},
     "output_type": "execute_result"
    }
   ],
   "source": [
    "matrice_salle(MS, 50)"
   ]
  },
  {
   "cell_type": "code",
   "execution_count": null,
   "metadata": {},
   "outputs": [],
   "source": []
  }
 ],
 "metadata": {
  "kernelspec": {
   "display_name": "Python 3",
   "language": "python",
   "name": "python3"
  },
  "language_info": {
   "codemirror_mode": {
    "name": "ipython",
    "version": 3
   },
   "file_extension": ".py",
   "mimetype": "text/x-python",
   "name": "python",
   "nbconvert_exporter": "python",
   "pygments_lexer": "ipython3",
   "version": "3.7.1"
  }
 },
 "nbformat": 4,
 "nbformat_minor": 2
}
