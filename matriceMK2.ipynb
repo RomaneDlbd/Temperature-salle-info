{
 "cells": [
  {
   "cell_type": "code",
   "execution_count": 61,
   "metadata": {
    "scrolled": false
   }
     },
     "metadata": {},
     "output_type": "display_data"
    }
    "source": [
    "import matplotlib as mpl\n",
    "import matplotlib.pyplot as plt\n",
    "import numpy as np\n",
    "\n",
    "\n",
    "\n",
    "def Matrice(MS):\n",
    "    s=10\n",
    "    liste1=[]\n",
    "    liste2=[]\n",
    "    liste3=[]\n",
    "    liste4=[]\n",
    "    liste5=[]\n",
    "    print(MS)\n",
    "    for i in range(10,60):\n",
    "        if i <20:\n",
    "            MS[i]=MS[i]\n",
    "            liste1.append(MS[i])\n",
    "        if i>=20 and i<30:\n",
    "            MS[i]=MS[i]\n",
    "            liste2.append(MS[i])\n",
    "            MS[i]=MS[i]\n",
    "        if i>=30 and i<40:\n",
    "            MS[i]=MS[i]\n",
    "            liste3.append(MS[i])\n",
    "        if i>=40 and i<50:\n",
    "            MS[i]=MS[i]\n",
    "            liste4.append(MS[i])\n",
    "        if i>=50 and i<60:\n",
    "            MS[i]=MS[i]\n",
    "            liste5.append(MS[i])\n",
    "    print(\"JE SUIS UNIQUE\")\n",
    "    print(MS)\n",
    "    Matrice=[]\n",
    "    Matrice.append(liste1)\n",
    "    Matrice.append(liste2)\n",
    "    Matrice.append(liste3)\n",
    "    Matrice.append(liste4)\n",
    "    Matrice.append(liste5)\n",
    "    print(\"JE SUIS ENCORE PLUS UNIQUE\")\n",
    "    print(Matrice)\n",
    "    return(Matrice)\n",
    "    \n",
    "\n",
    "\n",
    "methods = [None, 'none', 'lanczos']\n",
    "\n",
    "grid = Matrice()\n",
    "\n",
    "fig, axs = plt.subplots(nrows=3, ncols=1, figsize=(80, 40),\n",
    "                        subplot_kw={'xticks': [], 'yticks': []})\n",
    "\n",
    "fig.subplots_adjust(left=0.03, right=0.97, hspace=0.3, wspace=0.05)\n",
    "\n",
    "for ax, interp_method in zip(axs.flat, methods):\n",
    "    \n",
    "    ax.imshow(grid, interpolation=interp_method, cmap=\"plasma\", norm = mpl.colors.Normalize(vmin=20.,vmax=60))\n",
    "    ax.set_title(str(interp_method))\n",
    "\n",
    "\n",
    "plt.tight_layout()\n",
    "plt.show()"
   ]
  },
  {
   "cell_type": "code",
   "execution_count": null,
   "metadata": {},
   "outputs": [],
   "source": []
  }
 ],
 "metadata": {
  "kernelspec": {
   "display_name": "Python 3",
   "language": "python",
   "name": "python3"
  },
  "language_info": {
   "codemirror_mode": {
    "name": "ipython",
    "version": 3
   },
   "file_extension": ".py",
   "mimetype": "text/x-python",
   "name": "python",
   "nbconvert_exporter": "python",
   "pygments_lexer": "ipython3",
   "version": "3.5.3"
  }
 },
 "nbformat": 4,
 "nbformat_minor": 2
}
