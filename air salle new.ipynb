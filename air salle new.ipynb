{
 "cells": [
  {
   "cell_type": "code",
   "execution_count": 4,
   "metadata": {
    "collapsed": false
   },
   "outputs": [
   ],
   "source": [
    "import math\n",
    "import plotly.plotly as py\n",
    "from plotly.tools import FigureFactory as FF\n",
    "import plotly.graph_objs as go\n",
    "\n",
    "import numpy as np\n",
    "import pandas as pd\n",
    "import scipy\n"
   ]
  },
  {
   "cell_type": "markdown",
   "metadata": {
    "collapsed": false
   },
   "source": [
    "Case air ordi"
   ]
  },
  {
   "cell_type": "code",
   "execution_count": 5,
   "metadata": {
    "collapsed": false
   },
   "outputs": [
   ],
   "source": [
    "def T_air_ordi(Tcd, Tcv, Tcase):\n",
    "    \"\"\"  Float^3 -> Float\n",
    "    rend la température du volume d'air possedant un ordinateur\n",
    "    \"\"\"\n",
    "    C = 1.005\n",
    "    VI = 1 \n",
    "    Vi = VI - 0.3\n",
    "    M2 = (1.292*(273.15/(Tcv+273.15)))*0.3\n",
    "    M1 = 1.292*(273.15/(Tcv + 273.15))*0.15\n",
    "    Ma = (1.202*(273.15/Tcase))*Vi\n",
    "    S = 0.025\n",
    "    k =0.025\n",
    "    dx = 0.001\n",
    "    dt = 2\n",
    "    \n",
    "    Tfcv = (math.exp((-dt)/(C*M1))/(C*M1))+Tcv\n",
    "    Tfcd = (dx/(k*S))*(math.exp(0.15/S))+Tcd\n",
    "    \n",
    "    TF = ((Ma*C*Tcase)+(M1*C*Tfcv)+(M2*C*Tfcd))/(C*(Ma+M1+M2))\n",
    "    return TF"
   ]
  },
  {
   "cell_type": "code",
   "execution_count": 6,
   "metadata": {
    "collapsed": false
   },
   "outputs": [
    {
     "data": {
      "text/plain": [
       "39.488711086105425"
      ]
     },
     "execution_count": 6,
     "metadata": {
     },
     "output_type": "execute_result"
    }
   ],
   "source": [
    "TCd = 40\n",
    "TCv = 30\n",
    "TAmb = 20\n",
    "\n",
    "T_air_ordi(TCd, TCv, TAmb)"
   ]
  },
  {
   "cell_type": "markdown",
   "metadata": {
    "collapsed": false
   },
   "source": [
    "transfert case/case"
   ]
  },
  {
   "cell_type": "code",
   "execution_count": 7,
   "metadata": {
    "collapsed": false
   },
   "outputs": [
   ],
   "source": [
    "def T_new_case(Tcase1, Tcase2):\n",
    "    \"\"\" Float*Float -> Float\n",
    "    rend température air d'une case après tranfert de température\n",
    "    \"\"\"\n",
    "    \n",
    "    C = 1.005\n",
    "    VI = 1\n",
    "    M1 = (1.292*(273.15/Tcase1))*VI\n",
    "    Ma = (1.292*(273.15/Tcase2))*VI\n",
    "    dt = 2\n",
    "    \n",
    "    Tf = (math.exp((-dt)/(C*M1))/(C*M1))+Tcase1\n",
    "    \n",
    "    TF = (Ma*C*Tcase2+M1*C*Tf)/(C*(Ma+M1))\n",
    "    \n",
    "    return TF"
   ]
  },
  {
   "cell_type": "code",
   "execution_count": 8,
   "metadata": {
    "collapsed": false
   },
   "outputs": [
    {
     "data": {
      "text/plain": [
       "26.582029681103105"
      ]
     },
     "execution_count": 8,
     "metadata": {
     },
     "output_type": "execute_result"
    }
   ],
   "source": [
    "T1 = T_air_ordi(TCd, TCv, TAmb)\n",
    "T2 = 20\n",
    "\n",
    "T_new_case(T1, T2)"
   ]
  },
  {
   "cell_type": "markdown",
   "metadata": {
    "collapsed": false
   },
   "source": [
    "Modèlisation matrice sans ventilation"
   ]
  },
  {
   "cell_type": "code",
   "execution_count": 40,
   "metadata": {
    "collapsed": false
   },
   "outputs": [
   ],
   "source": [
    "def modèle(T_air_ordi, Tamb):\n",
    "    \"\"\"Float*Float -> matrix\n",
    "    rend le modèle de la salle\n",
    "    \"\"\"\n",
    "   \n",
    "    MS = { 10:Tamb, 11:Tamb, 12:Tamb, 13:Tamb, 14:Tamb, 15:Tamb, 16:Tamb, 17:Tamb, 18:Tamb, 19:Tamb,\n",
    "           20:Tamb, 21:Tamb, 22:Tamb, 23:Tamb, 24:Tamb, 25:Tamb, 26:Tamb, 27:Tamb, 28:Tamb, 29:Tamb,\n",
    "           30:Tamb, 31:Tamb, 32:Tamb, 33:Tamb, 34:Tamb, 35:Tamb, 36:Tamb, 37:Tamb, 38:Tamb, 39:Tamb,\n",
    "           40:Tamb, 41:Tamb, 42:Tamb, 43:Tamb, 44:Tamb, 45:Tamb, 46:Tamb, 47:Tamb, 48:Tamb, 49:Tamb,\n",
    "           50:Tamb, 51:Tamb, 52:Tamb, 53:Tamb, 54:Tamb, 55:Tamb, 56:Tamb, 57:Tamb, 58:Tamb, 59:Tamb}\n",
    "    \n",
    "    A = [21, 22, 23, 2, 25, 26, 27, 28, 31, 32, 33, 34, 34, 36, 37, 38, 41, 42, 43, 44, 45, 46, 47, 48]\n",
    "    B = [20, 30, 40]\n",
    "    C = [11, 12, 13, 14, 15, 16, 17, 18]\n",
    "    D = [29, 39, 49]\n",
    "    E = [51, 52, 53, 54, 55, 56, 57, 58]\n",
    "    \n",
    "    MS[34] = 0\n",
    "    for j in range (10, 60) :\n",
    "        if MS[j] == 0 :\n",
    "            MS[j] = T_air_ordi\n",
    "            i = j\n",
    "            while i < 60  and i >9 :\n",
    "                \n",
    "                if i in A :\n",
    "                    if MS[i+10] == Tamb :\n",
    "                        MS[i+10] = T_new_case(MS[i], MS[i+10])\n",
    "                    if MS[i-10] == Tamb :\n",
    "                        MS[i-10] = T_new_case(MS[i], MS[i-10])\n",
    "                    if MS[i+1] == Tamb :\n",
    "                        MS[i+1] = T_new_case(MS[i], MS[i+1])\n",
    "                    if MS[i-1] == Tamb :\n",
    "                        MS[i-1] = T_new_case(MS[i], MS[i-1])\n",
    "                elif i in B :\n",
    "                    if MS[i+10] == Tamb :\n",
    "                        MS[i+10] = T_new_case(MS[i], MS[i+10])\n",
    "                    if MS[i+1] == Tamb :\n",
    "                        MS[i+1] = T_new_case(MS[i], MS[i+1])\n",
    "                    if MS[i-10] == Tamb :\n",
    "                        MS[i-10] = T_new_case(MS[i], MS[i-10])\n",
    "                elif i in C :\n",
    "                    if MS[i+10] == Tamb :\n",
    "                        MS[i+10] = T_new_case(MS[i], MS[i+10])\n",
    "                    if MS[i+1] == Tamb :\n",
    "                        MS[i+1] = T_new_case(MS[i], MS[i+1])\n",
    "                    if MS[i-1] == Tamb :\n",
    "                        MS[i-1] = T_new_case(MS[i], MS[i-1])\n",
    "                elif i in D :\n",
    "                    if MS[i+10] == Tamb :\n",
    "                        MS[i+10] = T_new_case(MS[i], MS[i+10])\n",
    "                    if MS[i-1] == Tamb :\n",
    "                        MS[i-1] = T_new_case(MS[i], MS[i-1])\n",
    "                    if MS[i-10] == Tamb :\n",
    "                        MS[i-10] = T_new_case(MS[i], MS[i-10])\n",
    "                elif i in E :\n",
    "                    if MS[i-10] == Tamb :\n",
    "                        MS[i-10] = T_new_case(MS[i], MS[i-10])\n",
    "                    if MS[i+1] == Tamb :\n",
    "                        MS[i+1] = T_new_case(MS[i], MS[i+1])\n",
    "                    if MS[i-1] == Tamb :\n",
    "                        MS[i-1] = T_new_case(MS[i], MS[i-1])\n",
    "                elif i == 10 :\n",
    "                    if MS[i+10] == Tamb :\n",
    "                        MS[i+10] = T_new_case(MS[i], MS[i+10])\n",
    "                    if MS[i+1] == Tamb :\n",
    "                        MS[i+1] = T_new_case(MS[i], MS[i+1])\n",
    "                elif i == 19 :\n",
    "                    if MS[i+10] == Tamb :\n",
    "                        MS[i+10] = T_new_case(MS[i], MS[i10])\n",
    "                    if MS[i-1] == Tamb :\n",
    "                        MS[i-1] = T_new_case(MS[i], MS[i-1])\n",
    "                elif i == 59 :\n",
    "                    if MS[i-1] == Tamb :\n",
    "                        MS[i-1] = T_new_case(MS[i], MS[i-1])\n",
    "                    if MS[i-10] == Tamb :\n",
    "                        MS[i-10] = T_new_case(MS[i], MS[i-10])\n",
    "                elif i == 50 :\n",
    "                    if MS[i-10] == Tamb :\n",
    "                        MS[i-10] = T_new_case(MS[i], MS[i-10])\n",
    "                    if MS[i+1] == Tamb :\n",
    "                        MS[i+1] = T_new_case(MS[i], MS[i+1])\n",
    "                i = i-1\n",
    "                \n",
    "                    \n",
    "    return np.matrix(\n",
    "                [[MS[10], MS[11], MS[12], MS[13], MS[14], MS[15], MS[16], MS[17], MS[18], MS[19]],\n",
    "                 [MS[20], MS[21], MS[22], MS[23], MS[24], MS[25], MS[26], MS[27], MS[28], MS[29]],\n",
    "                 [MS[30], MS[31], MS[32], MS[33], MS[34], MS[35], MS[36], MS[37], MS[38], MS[39]],\n",
    "                 [MS[40], MS[41], MS[42], MS[43], MS[44], MS[45], MS[46], MS[47], MS[48], MS[49]],\n",
    "                 [MS[50], MS[51], MS[52], MS[53], MS[54], MS[55], MS[56], MS[57], MS[58], MS[59]]]\n",
    "                )"
   ]
  },
  {
   "cell_type": "code",
   "execution_count": 41,
   "metadata": {
    "collapsed": false,
    "scrolled": true
   },
   "outputs": [
    {
     "data": {
      "text/plain": [
       "matrix([[20.20430009, 20.36110803, 20.68264657, 21.35826761, 20.04957977,\n",
       "         20.04879584, 20.04722574, 20.04408144, 20.03778609, 20.02518783],\n",
       "        [20.36110803, 20.68264657, 21.35826761, 22.85369468, 26.58202968,\n",
       "         20.04722574, 20.04408144, 20.03778609, 20.02518783, 20.03778609],\n",
       "        [20.68264657, 21.35826761, 22.85369468, 26.58202968, 39.48871109,\n",
       "         26.58202968, 20.04722574, 20.04408144, 20.03778609, 20.02518783],\n",
       "        [20.36110803, 20.68264657, 21.35826761, 22.85369468, 26.58202968,\n",
       "         20.        , 20.        , 20.        , 20.        , 20.        ],\n",
       "        [20.        , 20.        , 20.        , 20.        , 20.        ,\n",
       "         20.        , 20.        , 20.        , 20.        , 20.        ]])"
      ]
     },
     "execution_count": 41,
     "metadata": {
     },
     "output_type": "execute_result"
    }
   ],
   "source": [
    "Tamb = 20\n",
    "\n",
    "modèle(T_air_ordi(TCd, TCv, TAmb), Tamb)"
   ]
  },
  {
   "cell_type": "code",
   "execution_count": 0,
   "metadata": {
    "collapsed": false
   },
   "outputs": [
   ],
   "source": [
    "        [20.        , 20.        , 20.        , 20.        , 20.        , 20.        , 20.        , 20.        , 20.        , 20.        ],\n",
    "        [20.        , 20.        , 20.        , 20.        , 26.58202968, 20.        , 20.02518783, 20.03778609, 20.04408144, 20.04722574],\n",
    "        [20.02518783, 20.03778609, 20.04408144, 26.58202968, 39.48871109, 26.58202968, 20.03778609, 20.02518783, 20.03778609, 20.04408144],\n",
    "        [20.03778609, 20.02518783, 20.03778609, 20.04408144, 26.58202968, 22.85369468, 20.02518783, 20.03778609, 20.04408144, 20.04722574],\n",
    "        [20.02518783, 20.03778609, 20.04408144, 20.04722574, 22.85369468, 21.35826761, 20.03778609, 20.04408144, 20.04722574, 20.04879584]"
   ]
  }
 ],
 "metadata": {
  "kernelspec": {
   "display_name": "Python 3 (Ubuntu Linux)",
   "language": "python",
   "metadata": {
    "cocalc": {
     "description": "Python 3 programming language",
     "priority": 100,
     "url": "https://www.python.org/"
    }
   },
   "name": "python3"
  },
  "language_info": {
   "codemirror_mode": {
    "name": "ipython",
    "version": 3
   },
   "file_extension": ".py",
   "mimetype": "text/x-python",
   "name": "python",
   "nbconvert_exporter": "python",
   "pygments_lexer": "ipython3",
   "version": "3.6.7"
  }
 },
 "nbformat": 4,
 "nbformat_minor": 0
}