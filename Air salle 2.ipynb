  {
   "cell_type": "code",
   "execution_count": 215,
   "metadata": {
    "collapsed": false
   },
   "outputs": [
   ],
   "source": [
    "import math\n",
    "import plotly.plotly as py\n",
    "from plotly.tools import FigureFactory as FF\n",
    "import plotly.graph_objs as go\n",
    "\n",
    "import numpy as np\n",
    "import pandas as pd\n",
    "import scipy\n"
   ]
  },
  {
   "cell_type": "markdown",
   "metadata": {
    "collapsed": false
   },
   "source": [
    "Case air ordi"
   ]
  },
  {
   "cell_type": "code",
   "execution_count": 216,
   "metadata": {
    "collapsed": false
   },
   "outputs": [
   ],
   "source": [
    "def T_air_ordi(Tcd, Tcv, Tcase):\n",
    "    \"\"\"  Float^3 -> Float\n",
    "    rend la température du volume d'air possedant un ordinateur\n",
    "    \"\"\"\n",
    "    C = 1.005\n",
    "    VI = 1 \n",
    "    Vi = VI - 0.3\n",
    "    M2 = (1.292*(273.15/(Tcv+273.15)))*0.3\n",
    "    M1 = 1.292*(273.15/(Tcv + 273.15))*0.15\n",
    "    Ma = (1.202*(273.15/Tcase))*Vi\n",
    "    S = 0.025\n",
    "    k =0.025\n",
    "    dx = 0.001\n",
    "    dt = 2\n",
    "    \n",
    "    Tfcv = (math.exp((-dt)/(C*M1))/(C*M1))+Tcv\n",
    "    Tfcd = (dx/(k*S))*(math.exp(0.15/S))+Tcd\n",
    "    \n",
    "    TF = ((Ma*C*Tcase)+(M1*C*Tfcv)+(M2*C*Tfcd))/(C*(Ma+M1+M2))\n",
    "    return TF"
   ]
  },
  {
   "cell_type": "code",
   "execution_count": 230,
   "metadata": {
    "collapsed": false
   },
   "outputs": [
    {
     "data": {
      "text/plain": [
       "39.488711086105425"
      ]
     },
     "execution_count": 230,
     "metadata": {
     },
     "output_type": "execute_result"
    }
   ],
   "source": [
    "TCd = 40\n",
    "TCv = 30\n",
    "TAmb = 20\n",
    "\n",
    "T_air_ordi(TCd, TCv, TAmb)"
   ]
  },
  {
   "cell_type": "markdown",
   "metadata": {
    "collapsed": false
   },
   "source": [
    "transfert case/case"
   ]
  },
  {
   "cell_type": "code",
   "execution_count": 231,
   "metadata": {
    "collapsed": false
   },
   "outputs": [
   ],
   "source": [
    "def T_new_case(Tcase1, Tcase2):\n",
    "    \"\"\" Float*Float -> Float\n",
    "    rend température air d'une case après tranfert de température\n",
    "    \"\"\"\n",
    "    \n",
    "    C = 1.005\n",
    "    VI = 1\n",
    "    M1 = (1.292*(273.15/Tcase1))*VI\n",
    "    Ma = (1.292*(273.15/Tcase2))*VI\n",
    "    dt = 2\n",
    "    \n",
    "    Tf = (math.exp((-dt)/(C*M1))/(C*M1))+Tcase1\n",
    "    \n",
    "    TF = (Ma*C*Tcase2+M1*C*Tf)/(C*(Ma+M1))\n",
    "    \n",
    "    return TF"
   ]
  },
  {
   "cell_type": "code",
   "execution_count": 232,
   "metadata": {
    "collapsed": false
   },
   "outputs": [
    {
     "data": {
      "text/plain": [
       "26.582029681103105"
      ]
     },
     "execution_count": 232,
     "metadata": {
     },
     "output_type": "execute_result"
    }
   ],
   "source": [
    "T1 = T_air_ordi(TCd, TCv, TAmb)\n",
    "T2 = 20\n",
    "\n",
    "T_new_case(T1, T2)"
   ]
  },
  {
   "cell_type": "markdown",
   "metadata": {
    "collapsed": false
   },
   "source": [
    "Modèlisation matrice sans ventilation"
   ]
  },
  {
   "cell_type": "code",
   "execution_count": 0,
   "metadata": {
    "collapsed": false
   },
   "outputs": [
   ],
   "source": [
   ]
  },
  {
   "cell_type": "code",
   "execution_count": 235,
   "metadata": {
    "collapsed": false
   },
   "outputs": [
   ],
   "source": [
    "def modèle(T_air_ordi, Tamb):\n",
    "    \"\"\"Float*Float*Float -> \n",
    "    rend le modèle de la salle\n",
    "    \"\"\"\n",
    "   \n",
    "    MS = { 10:Tamb, 11:Tamb, 12:Tamb, 13:Tamb, 14:Tamb, 15:Tamb, 16:Tamb, 17:Tamb, 18:Tamb, 19:Tamb,\n",
    "           20:Tamb, 21:Tamb, 22:Tamb, 23:Tamb, 24:Tamb, 25:Tamb, 26:Tamb, 27:Tamb, 28:Tamb, 29:Tamb,\n",
    "           30:Tamb, 31:Tamb, 32:Tamb, 33:Tamb, 34:Tamb, 35:Tamb, 36:Tamb, 37:Tamb, 38:Tamb, 39:Tamb,\n",
    "           40:Tamb, 41:Tamb, 42:Tamb, 43:Tamb, 44:Tamb, 45:Tamb, 46:Tamb, 47:Tamb, 48:Tamb, 49:Tamb,\n",
    "           50:Tamb, 51:Tamb, 52:Tamb, 53:Tamb, 54:Tamb, 55:Tamb, 56:Tamb, 57:Tamb, 58:Tamb, 59:Tamb}\n",
    "    \n",
    "    MSn = {10:0, 11:0, 12:0, 13:0, 14:0, 15:0, 16:0, 17:0, 18:0, 19:0,\n",
    "           20:0, 21:0, 22:0, 23:0, 24:0, 25:0, 26:0, 27:0, 28:0, 29:0,\n",
    "           30:0, 31:0, 32:0, 33:0, 34:0, 35:0, 36:0, 37:0, 38:0, 39:0,\n",
    "           40:0, 41:0, 42:0, 43:0, 44:0, 45:0, 46:0, 47:0, 48:0, 49:0,\n",
    "           50:0, 51:0, 52:0, 53:0, 54:0, 55:0, 56:0, 57:0, 58:0, 59:0}\n",
    "    MS[34] = 0\n",
    "    for j in range (10, 60) :\n",
    "        if MS[j] == 0 :\n",
    "            MSn[34] = T_air_ordi\n",
    "            i = 34\n",
    "            if i>10 and i<59 :\n",
    "                if MSn[i] != MS[i] :\n",
    "                    MS[i] = MSn[i]\n",
    "                    MSn[i+10] = T_new_case(MS[i], MS[i+10])\n",
    "                    MSn[i-10] = T_new_case(MS[i], MS[i-10])\n",
    "                    MSn[i+1] = T_new_case(MS[i], MS[i+1])\n",
    "                    MSn[i-1] = T_new_case(MS[i], MS[i-1])\n",
    "                    \n",
    "    return np.matrix(\n",
    "                [[MSn[10], MSn[11], MSn[12], MSn[13], MSn[14], MSn[15], MSn[16], MSn[17], MSn[18], MSn[19]],\n",
    "                 [MSn[20], MSn[21], MSn[22], MSn[23], MSn[24], MSn[25], MSn[26], MSn[27], MSn[28], MSn[29]],\n",
    "                 [MSn[30], MSn[31], MSn[32], MSn[33], MSn[34], MSn[35], MSn[36], MSn[37], MSn[38], MSn[39]],\n",
    "                 [MSn[40], MSn[41], MSn[42], MSn[43], MSn[44], MSn[45], MSn[46], MSn[47], MSn[48], MSn[49]],\n",
    "                 [MSn[50], MSn[51], MSn[52], MSn[53], MSn[54], MSn[55], MSn[56], MSn[57], MSn[58], MSn[59]]]\n",
    "                )"
   ]
  },
  {
   "cell_type": "code",
   "execution_count": 236,
   "metadata": {
    "collapsed": false,
    "scrolled": true
   },
   "outputs": [
    {
     "data": {
      "text/plain": [
       "matrix([[ 0.        ,  0.        ,  0.        ,  0.        ,  0.        ,\n",
       "          0.        ,  0.        ,  0.        ,  0.        ,  0.        ],\n",
       "        [ 0.        ,  0.        ,  0.        ,  0.        , 26.58202968,\n",
       "          0.        ,  0.        ,  0.        ,  0.        ,  0.        ],\n",
       "        [ 0.        ,  0.        ,  0.        , 26.58202968, 39.48871109,\n",
       "         26.58202968,  0.        ,  0.        ,  0.        ,  0.        ],\n",
       "        [ 0.        ,  0.        ,  0.        ,  0.        , 26.58202968,\n",
       "          0.        ,  0.        ,  0.        ,  0.        ,  0.        ],\n",
       "        [ 0.        ,  0.        ,  0.        ,  0.        ,  0.        ,\n",
       "          0.        ,  0.        ,  0.        ,  0.        ,  0.        ]])"
      ]
     },
     "execution_count": 236,
     "metadata": {
     },
     "output_type": "execute_result"
    }
   ],
   "source": [
    "Tamb = 20\n",
    "\n",
    "modèle(T_air_ordi(TCd, TCv, TAmb), Tamb)"
   ]
  },
  {
   "cell_type": "code",
   "execution_count": 0,
   "metadata": {
    "collapsed": false
   },
   "outputs": [
   ],
   "source": [
   ]
  },
  {
   "cell_type": "code",
   "execution_count": 0,
   "metadata": {
    "collapsed": false
   },
   "outputs": [
   ],
   "source": [
   ]
  },
  {
   "cell_type": "code",
   "execution_count": 0,
   "metadata": {
    "collapsed": false
   },
   "outputs": [
   ],
   "source": [
   ]
  },
  {
   "cell_type": "code",
   "execution_count": 0,
   "metadata": {
    "collapsed": false
   },
   "outputs": [
   ],
   "source": [
   ]
  }
 ],
 "metadata": {
  "kernelspec": {
   "display_name": "Python 3 (Ubuntu Linux)",
   "language": "python",
   "name": "python3"
  },
  "language_info": {
   "codemirror_mode": {
    "name": "ipython",
    "version": 3
   },
   "file_extension": ".py",
   "mimetype": "text/x-python",
   "name": "python",
   "nbconvert_exporter": "python",
   "pygments_lexer": "ipython3",
   "version": "3.6.7"
  }
 },
 "nbformat": 4,
 "nbformat_minor": 0
}
